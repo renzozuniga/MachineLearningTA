{
 "cells": [
  {
   "cell_type": "code",
   "execution_count": 1,
   "metadata": {},
   "outputs": [
    {
     "data": {
      "text/html": [
       "<div>\n",
       "<style>\n",
       "    .dataframe thead tr:only-child th {\n",
       "        text-align: right;\n",
       "    }\n",
       "\n",
       "    .dataframe thead th {\n",
       "        text-align: left;\n",
       "    }\n",
       "\n",
       "    .dataframe tbody tr th {\n",
       "        vertical-align: top;\n",
       "    }\n",
       "</style>\n",
       "<table border=\"1\" class=\"dataframe\">\n",
       "  <thead>\n",
       "    <tr style=\"text-align: right;\">\n",
       "      <th></th>\n",
       "      <th>Imdb Link</th>\n",
       "      <th>Synopsis Link</th>\n",
       "      <th>Synopsis</th>\n",
       "    </tr>\n",
       "  </thead>\n",
       "  <tbody>\n",
       "    <tr>\n",
       "      <th>0</th>\n",
       "      <td>http://www.imdb.com/title/tt92974</td>\n",
       "      <td>NaN</td>\n",
       "      <td>NaN</td>\n",
       "    </tr>\n",
       "    <tr>\n",
       "      <th>1</th>\n",
       "      <td>http://www.imdb.com/title/tt83907</td>\n",
       "      <td>/title/tt0083907/synopsis?ref_=tt_stry_pl</td>\n",
       "      <td>\\nFive Michigan State University students vent...</td>\n",
       "    </tr>\n",
       "    <tr>\n",
       "      <th>2</th>\n",
       "      <td>http://www.imdb.com/title/tt92997</td>\n",
       "      <td>NaN</td>\n",
       "      <td>NaN</td>\n",
       "    </tr>\n",
       "    <tr>\n",
       "      <th>3</th>\n",
       "      <td>http://www.imdb.com/title/tt93006</td>\n",
       "      <td>NaN</td>\n",
       "      <td>NaN</td>\n",
       "    </tr>\n",
       "    <tr>\n",
       "      <th>4</th>\n",
       "      <td>http://www.imdb.com/title/tt93029</td>\n",
       "      <td>NaN</td>\n",
       "      <td>NaN</td>\n",
       "    </tr>\n",
       "  </tbody>\n",
       "</table>\n",
       "</div>"
      ],
      "text/plain": [
       "                           Imdb Link  \\\n",
       "0  http://www.imdb.com/title/tt92974   \n",
       "1  http://www.imdb.com/title/tt83907   \n",
       "2  http://www.imdb.com/title/tt92997   \n",
       "3  http://www.imdb.com/title/tt93006   \n",
       "4  http://www.imdb.com/title/tt93029   \n",
       "\n",
       "                               Synopsis Link  \\\n",
       "0                                        NaN   \n",
       "1  /title/tt0083907/synopsis?ref_=tt_stry_pl   \n",
       "2                                        NaN   \n",
       "3                                        NaN   \n",
       "4                                        NaN   \n",
       "\n",
       "                                            Synopsis  \n",
       "0                                                NaN  \n",
       "1  \\nFive Michigan State University students vent...  \n",
       "2                                                NaN  \n",
       "3                                                NaN  \n",
       "4                                                NaN  "
      ]
     },
     "execution_count": 1,
     "metadata": {},
     "output_type": "execute_result"
    }
   ],
   "source": [
    "import numpy as np\n",
    "import pandas as pd\n",
    "\n",
    "# Se leen los datos del archivo csv\n",
    "text_data = pd.read_csv(\"MovieSynopsis.csv\")\n",
    "text_data.head()"
   ]
  },
  {
   "cell_type": "code",
   "execution_count": 2,
   "metadata": {},
   "outputs": [
    {
     "data": {
      "text/plain": [
       "Imdb Link          0\n",
       "Synopsis Link    549\n",
       "Synopsis         549\n",
       "dtype: int64"
      ]
     },
     "execution_count": 2,
     "metadata": {},
     "output_type": "execute_result"
    }
   ],
   "source": [
    "text_data.isnull().sum()\n"
   ]
  },
  {
   "cell_type": "code",
   "execution_count": 3,
   "metadata": {},
   "outputs": [
    {
     "data": {
      "text/html": [
       "<div>\n",
       "<style>\n",
       "    .dataframe thead tr:only-child th {\n",
       "        text-align: right;\n",
       "    }\n",
       "\n",
       "    .dataframe thead th {\n",
       "        text-align: left;\n",
       "    }\n",
       "\n",
       "    .dataframe tbody tr th {\n",
       "        vertical-align: top;\n",
       "    }\n",
       "</style>\n",
       "<table border=\"1\" class=\"dataframe\">\n",
       "  <thead>\n",
       "    <tr style=\"text-align: right;\">\n",
       "      <th></th>\n",
       "      <th>Imdb Link</th>\n",
       "      <th>Synopsis Link</th>\n",
       "      <th>Synopsis</th>\n",
       "    </tr>\n",
       "  </thead>\n",
       "  <tbody>\n",
       "    <tr>\n",
       "      <th>0</th>\n",
       "      <td>http://www.imdb.com/title/tt92974</td>\n",
       "      <td>NaN</td>\n",
       "      <td>NaN</td>\n",
       "    </tr>\n",
       "    <tr>\n",
       "      <th>1</th>\n",
       "      <td>http://www.imdb.com/title/tt83907</td>\n",
       "      <td>/title/tt0083907/synopsis?ref_=tt_stry_pl</td>\n",
       "      <td>\\nFive Michigan State University students vent...</td>\n",
       "    </tr>\n",
       "    <tr>\n",
       "      <th>2</th>\n",
       "      <td>http://www.imdb.com/title/tt92997</td>\n",
       "      <td>NaN</td>\n",
       "      <td>NaN</td>\n",
       "    </tr>\n",
       "    <tr>\n",
       "      <th>3</th>\n",
       "      <td>http://www.imdb.com/title/tt93006</td>\n",
       "      <td>NaN</td>\n",
       "      <td>NaN</td>\n",
       "    </tr>\n",
       "    <tr>\n",
       "      <th>4</th>\n",
       "      <td>http://www.imdb.com/title/tt93029</td>\n",
       "      <td>NaN</td>\n",
       "      <td>NaN</td>\n",
       "    </tr>\n",
       "  </tbody>\n",
       "</table>\n",
       "</div>"
      ],
      "text/plain": [
       "                           Imdb Link  \\\n",
       "0  http://www.imdb.com/title/tt92974   \n",
       "1  http://www.imdb.com/title/tt83907   \n",
       "2  http://www.imdb.com/title/tt92997   \n",
       "3  http://www.imdb.com/title/tt93006   \n",
       "4  http://www.imdb.com/title/tt93029   \n",
       "\n",
       "                               Synopsis Link  \\\n",
       "0                                        NaN   \n",
       "1  /title/tt0083907/synopsis?ref_=tt_stry_pl   \n",
       "2                                        NaN   \n",
       "3                                        NaN   \n",
       "4                                        NaN   \n",
       "\n",
       "                                            Synopsis  \n",
       "0                                                NaN  \n",
       "1  \\nFive Michigan State University students vent...  \n",
       "2                                                NaN  \n",
       "3                                                NaN  \n",
       "4                                                NaN  "
      ]
     },
     "execution_count": 3,
     "metadata": {},
     "output_type": "execute_result"
    }
   ],
   "source": [
    "text_data.head()\n"
   ]
  },
  {
   "cell_type": "code",
   "execution_count": 4,
   "metadata": {
    "collapsed": true
   },
   "outputs": [],
   "source": [
    "# Se leen los datos del archivo csv\n",
    "movie_data = pd.read_csv(\"MovieGenre.csv\", encoding =\"ISO-8859-1\")\n",
    "\n",
    "def divide_list(n_chunks, list_to_divide):\n",
    "    chunk_size = len(list_to_divide)//n_chunks + 1\n",
    "    chunks = [list_to_divide[i:i+chunk_size] for i in range(0, len(list_to_divide), chunk_size)]\n",
    "    \n",
    "    return chunks\n",
    "\n",
    "n_chunks = 10\n",
    "genre_chunks = divide_list(n_chunks, movie_data['Genre'])"
   ]
  },
  {
   "cell_type": "code",
   "execution_count": 5,
   "metadata": {},
   "outputs": [
    {
     "data": {
      "text/plain": [
       "812"
      ]
     },
     "execution_count": 5,
     "metadata": {},
     "output_type": "execute_result"
    }
   ],
   "source": [
    "genre_chunk = genre_chunks[1]\n",
    "genre_chunk = genre_chunk[:812]\n",
    "len(genre_chunk)"
   ]
  },
  {
   "cell_type": "code",
   "execution_count": 6,
   "metadata": {},
   "outputs": [
    {
     "data": {
      "text/html": [
       "<div>\n",
       "<style>\n",
       "    .dataframe thead tr:only-child th {\n",
       "        text-align: right;\n",
       "    }\n",
       "\n",
       "    .dataframe thead th {\n",
       "        text-align: left;\n",
       "    }\n",
       "\n",
       "    .dataframe tbody tr th {\n",
       "        vertical-align: top;\n",
       "    }\n",
       "</style>\n",
       "<table border=\"1\" class=\"dataframe\">\n",
       "  <thead>\n",
       "    <tr style=\"text-align: right;\">\n",
       "      <th></th>\n",
       "      <th>Imdb Link</th>\n",
       "      <th>Synopsis Link</th>\n",
       "      <th>Synopsis</th>\n",
       "      <th>Genre</th>\n",
       "    </tr>\n",
       "  </thead>\n",
       "  <tbody>\n",
       "    <tr>\n",
       "      <th>0</th>\n",
       "      <td>http://www.imdb.com/title/tt92974</td>\n",
       "      <td>NaN</td>\n",
       "      <td>NaN</td>\n",
       "      <td>Family|Comedy</td>\n",
       "    </tr>\n",
       "    <tr>\n",
       "      <th>1</th>\n",
       "      <td>http://www.imdb.com/title/tt83907</td>\n",
       "      <td>/title/tt0083907/synopsis?ref_=tt_stry_pl</td>\n",
       "      <td>\\nFive Michigan State University students vent...</td>\n",
       "      <td>Horror</td>\n",
       "    </tr>\n",
       "    <tr>\n",
       "      <th>2</th>\n",
       "      <td>http://www.imdb.com/title/tt92997</td>\n",
       "      <td>NaN</td>\n",
       "      <td>NaN</td>\n",
       "      <td>Action|Crime|Drama</td>\n",
       "    </tr>\n",
       "    <tr>\n",
       "      <th>3</th>\n",
       "      <td>http://www.imdb.com/title/tt93006</td>\n",
       "      <td>NaN</td>\n",
       "      <td>NaN</td>\n",
       "      <td>Drama</td>\n",
       "    </tr>\n",
       "    <tr>\n",
       "      <th>4</th>\n",
       "      <td>http://www.imdb.com/title/tt93029</td>\n",
       "      <td>NaN</td>\n",
       "      <td>NaN</td>\n",
       "      <td>Crime|Drama|Thriller</td>\n",
       "    </tr>\n",
       "  </tbody>\n",
       "</table>\n",
       "</div>"
      ],
      "text/plain": [
       "                           Imdb Link  \\\n",
       "0  http://www.imdb.com/title/tt92974   \n",
       "1  http://www.imdb.com/title/tt83907   \n",
       "2  http://www.imdb.com/title/tt92997   \n",
       "3  http://www.imdb.com/title/tt93006   \n",
       "4  http://www.imdb.com/title/tt93029   \n",
       "\n",
       "                               Synopsis Link  \\\n",
       "0                                        NaN   \n",
       "1  /title/tt0083907/synopsis?ref_=tt_stry_pl   \n",
       "2                                        NaN   \n",
       "3                                        NaN   \n",
       "4                                        NaN   \n",
       "\n",
       "                                            Synopsis                 Genre  \n",
       "0                                                NaN         Family|Comedy  \n",
       "1  \\nFive Michigan State University students vent...                Horror  \n",
       "2                                                NaN    Action|Crime|Drama  \n",
       "3                                                NaN                 Drama  \n",
       "4                                                NaN  Crime|Drama|Thriller  "
      ]
     },
     "execution_count": 6,
     "metadata": {},
     "output_type": "execute_result"
    }
   ],
   "source": [
    "text_data['Genre'] = list(genre_chunk)\n",
    "text_data.head()"
   ]
  },
  {
   "cell_type": "code",
   "execution_count": 7,
   "metadata": {},
   "outputs": [
    {
     "data": {
      "text/html": [
       "<div>\n",
       "<style>\n",
       "    .dataframe thead tr:only-child th {\n",
       "        text-align: right;\n",
       "    }\n",
       "\n",
       "    .dataframe thead th {\n",
       "        text-align: left;\n",
       "    }\n",
       "\n",
       "    .dataframe tbody tr th {\n",
       "        vertical-align: top;\n",
       "    }\n",
       "</style>\n",
       "<table border=\"1\" class=\"dataframe\">\n",
       "  <thead>\n",
       "    <tr style=\"text-align: right;\">\n",
       "      <th></th>\n",
       "      <th>Imdb Link</th>\n",
       "      <th>Synopsis Link</th>\n",
       "      <th>Synopsis</th>\n",
       "      <th>Genre</th>\n",
       "    </tr>\n",
       "  </thead>\n",
       "  <tbody>\n",
       "    <tr>\n",
       "      <th>1</th>\n",
       "      <td>http://www.imdb.com/title/tt83907</td>\n",
       "      <td>/title/tt0083907/synopsis?ref_=tt_stry_pl</td>\n",
       "      <td>\\nFive Michigan State University students vent...</td>\n",
       "      <td>Horror</td>\n",
       "    </tr>\n",
       "    <tr>\n",
       "      <th>6</th>\n",
       "      <td>http://www.imdb.com/title/tt93044</td>\n",
       "      <td>/title/tt0093044/synopsis?ref_=tt_stry_pl</td>\n",
       "      <td>\\nThe plot centres on a secret 1968 East-West ...</td>\n",
       "      <td>Thriller</td>\n",
       "    </tr>\n",
       "    <tr>\n",
       "      <th>17</th>\n",
       "      <td>http://www.imdb.com/title/tt93260</td>\n",
       "      <td>/title/tt0093260/synopsis?ref_=tt_stry_pl</td>\n",
       "      <td>\\nIn San Francisco, California, down-on-his-lu...</td>\n",
       "      <td>Action|Adventure|Comedy</td>\n",
       "    </tr>\n",
       "    <tr>\n",
       "      <th>20</th>\n",
       "      <td>http://www.imdb.com/title/tt93300</td>\n",
       "      <td>/title/tt0093300/synopsis?ref_=tt_stry_pl</td>\n",
       "      <td>\\nIn Amity, Long Island, Ellen Brody (Lorraine...</td>\n",
       "      <td>Adventure|Horror|Thriller</td>\n",
       "    </tr>\n",
       "    <tr>\n",
       "      <th>24</th>\n",
       "      <td>http://www.imdb.com/title/tt93437</td>\n",
       "      <td>/title/tt0093437/synopsis?ref_=tt_stry_pl</td>\n",
       "      <td>\\nFollowing the divorce of their parents, Mich...</td>\n",
       "      <td>Comedy|Horror</td>\n",
       "    </tr>\n",
       "  </tbody>\n",
       "</table>\n",
       "</div>"
      ],
      "text/plain": [
       "                            Imdb Link  \\\n",
       "1   http://www.imdb.com/title/tt83907   \n",
       "6   http://www.imdb.com/title/tt93044   \n",
       "17  http://www.imdb.com/title/tt93260   \n",
       "20  http://www.imdb.com/title/tt93300   \n",
       "24  http://www.imdb.com/title/tt93437   \n",
       "\n",
       "                                Synopsis Link  \\\n",
       "1   /title/tt0083907/synopsis?ref_=tt_stry_pl   \n",
       "6   /title/tt0093044/synopsis?ref_=tt_stry_pl   \n",
       "17  /title/tt0093260/synopsis?ref_=tt_stry_pl   \n",
       "20  /title/tt0093300/synopsis?ref_=tt_stry_pl   \n",
       "24  /title/tt0093437/synopsis?ref_=tt_stry_pl   \n",
       "\n",
       "                                             Synopsis  \\\n",
       "1   \\nFive Michigan State University students vent...   \n",
       "6   \\nThe plot centres on a secret 1968 East-West ...   \n",
       "17  \\nIn San Francisco, California, down-on-his-lu...   \n",
       "20  \\nIn Amity, Long Island, Ellen Brody (Lorraine...   \n",
       "24  \\nFollowing the divorce of their parents, Mich...   \n",
       "\n",
       "                        Genre  \n",
       "1                      Horror  \n",
       "6                    Thriller  \n",
       "17    Action|Adventure|Comedy  \n",
       "20  Adventure|Horror|Thriller  \n",
       "24              Comedy|Horror  "
      ]
     },
     "execution_count": 7,
     "metadata": {},
     "output_type": "execute_result"
    }
   ],
   "source": [
    "text_data = text_data[pd.notnull(text_data['Synopsis Link'])]\n",
    "text_data.head()"
   ]
  },
  {
   "cell_type": "code",
   "execution_count": 8,
   "metadata": {},
   "outputs": [
    {
     "data": {
      "text/plain": [
       "263"
      ]
     },
     "execution_count": 8,
     "metadata": {},
     "output_type": "execute_result"
    }
   ],
   "source": []
  },
  {
   "cell_type": "code",
   "execution_count": 16,
   "metadata": {},
   "outputs": [
    {
     "data": {
      "text/plain": [
       "(87, 19569)"
      ]
     },
     "execution_count": 16,
     "metadata": {},
     "output_type": "execute_result"
    }
   ],
   "source": [
    "from sklearn.feature_extraction.text import TfidfVectorizer\n",
    "from sklearn.model_selection import train_test_split\n",
    "\n",
    "tfidf_vectorizer = TfidfVectorizer()\n",
    "X = tfidf_vectorizer.fit_transform(text_data['Synopsis'])\n",
    "Y = text_data['Genre']\n",
    "\n",
    "X_train, X_test, Y_train, Y_test = train_test_split(X, Y, test_size=0.33, random_state=42)\n",
    "\n"
   ]
  },
  {
   "cell_type": "code",
   "execution_count": null,
   "metadata": {
    "collapsed": true
   },
   "outputs": [],
   "source": []
  }
 ],
 "metadata": {
  "kernelspec": {
   "display_name": "Python 3",
   "language": "python",
   "name": "python3"
  },
  "language_info": {
   "codemirror_mode": {
    "name": "ipython",
    "version": 3
   },
   "file_extension": ".py",
   "mimetype": "text/x-python",
   "name": "python",
   "nbconvert_exporter": "python",
   "pygments_lexer": "ipython3",
   "version": "3.6.1"
  }
 },
 "nbformat": 4,
 "nbformat_minor": 2
}
