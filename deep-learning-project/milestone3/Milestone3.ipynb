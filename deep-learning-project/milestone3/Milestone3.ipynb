{
 "cells": [
  {
   "cell_type": "markdown",
   "metadata": {},
   "source": [
    "# Milestone 3 - CS109B Project Group 29\n",
    "**\"Predicting Movie Genres\"**<br>\n",
    "**CS109B (Spring 2017) Final Project Group 29**<br>\n",
    "Calvin J Chiew, Tim Hagmann, Ji Hua<br>\n",
    "TF: Taira Miyatake<br>"
   ]
  },
  {
   "cell_type": "markdown",
   "metadata": {},
   "source": [
    "## Deliverables\n",
    "\n",
    "- Detailed description and implementation of two different models\n",
    "- Description of your performance metrics\n",
    "- Careful performance evaluations for both models\n",
    "- Visualizations of the metrics for performance evaluation\n",
    "- Discussion of the differences between the models, their strengths, weaknesses, etc.\n",
    "- Discussion of the performances you achieved, and how you might be able to improve them in the future"
   ]
  },
  {
   "cell_type": "markdown",
   "metadata": {},
   "source": [
    "## Import Libraries"
   ]
  },
  {
   "cell_type": "code",
   "execution_count": 7,
   "metadata": {
    "collapsed": true
   },
   "outputs": [],
   "source": [
    "import numpy as np\n",
    "import pandas as pd\n",
    "import matplotlib\n",
    "import matplotlib.pyplot as plt\n",
    "%matplotlib inline\n",
    "import random\n",
    "import pickle\n",
    "from sklearn import preprocessing, metrics\n",
    "from sklearn.model_selection import train_test_split\n",
    "from sklearn.ensemble import RandomForestClassifier\n",
    "from sklearn.multiclass import OneVsRestClassifier\n",
    "from sklearn.svm import SVC\n",
    "from sklearn.linear_model import LogisticRegression\n",
    "from sklearn.neighbors import KNeighborsClassifier\n",
    "from sklearn.model_selection import KFold, cross_val_score\n",
    "import warnings"
   ]
  },
  {
   "cell_type": "markdown",
   "metadata": {},
   "source": [
    "## Overview"
   ]
  },
  {
   "cell_type": "markdown",
   "metadata": {},
   "source": [
    "In this milestone, we will use movie metadata extracted from TMDb and IMDb to train two \"traditional\" ML classifiers to predict movie genres. We will not use movie poster data for now. "
   ]
  },
  {
   "cell_type": "markdown",
   "metadata": {},
   "source": [
    "### Performance Metrics"
   ]
  },
  {
   "cell_type": "markdown",
   "metadata": {
    "collapsed": true
   },
   "source": [
    "Evaluation of model performance is tricky, due to the multi-label nature of the problem. For example, if a movie's true genre labels are A and B, but our model only predicted label A (or B, but not both) -- was this prediction correct or wrong? And what if the model predicted labels A and B plus an extra C genre? In order to calculate \"test accuracy\", we would have to define it and decide whether we valued precision or recall more?\n",
    "\n",
    "Earlier, we decided to have 20 outcome variables. For each movie, we have 19 binary (1/0) flags, one for each of the 19 genre classifications used by TMDb (namely Adventure, Fantasy, Animation, Drama, Horror, Action, Comedy, History, Western, Thriller, Crime, Documentary, Science Fiction, Mystery, Music, Romance, Family, War and Foreign), and a 20th outcome variable, the number of genres assigned (see Milestone 2 on our choice of outcome variables).\n",
    "\n",
    "After extensive discussion, we felt that in line with our choice of outcome variables, we could evaluate our model's performance on each outcome variable separately. We will have 19 test accuracies (one for each genre), which can be visualized and summarized by taking the mean."
   ]
  },
  {
   "cell_type": "markdown",
   "metadata": {},
   "source": [
    "### Data Preparation"
   ]
  },
  {
   "cell_type": "markdown",
   "metadata": {},
   "source": [
    "The data was manipulated and cleaned in Milestone 2 in preparation for modelling. In summary, our final dataframe consisted of the following variables:\n",
    "\n",
    "*Predictors from TMDb*\n",
    "- Title and plot summary, which have been converted using bag-of-words analysis into a term frequency times inverse document frequency (tf-idf) matrix of 389 vocabulary words (that make up at least 1% of the corpus) \n",
    "- Production company, which has been converted into 20 indicator variables, representing the top 20 production companies with the most films\n",
    "- Release date, which has been transformed into release year and release month\n",
    "- Runtime (mins)\n",
    "- Budget (USD)\n",
    "- Revenue (USD)\n",
    "- Popularity\n",
    "- Average user rating (on scale of 1-10)\n",
    "\n",
    "*Predictors from IMDb*\n",
    "- Cast (first 5 listed), directors (first 2 listed) and writers (first 2 listed), which have been converted into 150, 75 and 75 indicator variables respectively, representing the top 150 cast and top 75 directors and writers with the most films\n",
    "- US MPAA picture rating (eg. PG-13, R-21 etc.)\n",
    "\n",
    "*Outcome Variables*\n",
    "- TMDb genres, which have been dummy-coded into 19 indicator variables, one for each genre category\n",
    "- Number of TMDb genre tags"
   ]
  },
  {
   "cell_type": "markdown",
   "metadata": {},
   "source": [
    "---"
   ]
  },
  {
   "cell_type": "markdown",
   "metadata": {},
   "source": [
    "## Prepare Train & Test Sets"
   ]
  },
  {
   "cell_type": "code",
   "execution_count": 8,
   "metadata": {},
   "outputs": [
    {
     "name": "stderr",
     "output_type": "stream",
     "text": [
      "/home/ubuntu/.local/lib/python3.5/site-packages/IPython/core/interactiveshell.py:2717: DtypeWarning: Columns (1,2,5,6) have mixed types. Specify dtype option on import or set low_memory=False.\n",
      "  interactivity=interactivity, compiler=compiler, result=result)\n"
     ]
    },
    {
     "data": {
      "text/html": [
       "<div>\n",
       "<table border=\"1\" class=\"dataframe\">\n",
       "  <thead>\n",
       "    <tr style=\"text-align: right;\">\n",
       "      <th></th>\n",
       "      <th>budget</th>\n",
       "      <th>revenue</th>\n",
       "      <th>runtime</th>\n",
       "      <th>popularity</th>\n",
       "      <th>user_rating</th>\n",
       "      <th>release_year</th>\n",
       "      <th>release_month</th>\n",
       "      <th>USA_rating</th>\n",
       "      <th>Warner Bros</th>\n",
       "      <th>Metro-Goldwyn-Mayer MGM</th>\n",
       "      <th>...</th>\n",
       "      <th>Crime</th>\n",
       "      <th>Documentary</th>\n",
       "      <th>Science Fiction</th>\n",
       "      <th>Mystery</th>\n",
       "      <th>Music</th>\n",
       "      <th>Romance</th>\n",
       "      <th>Family</th>\n",
       "      <th>War</th>\n",
       "      <th>Foreign</th>\n",
       "      <th>num_genres</th>\n",
       "    </tr>\n",
       "  </thead>\n",
       "  <tbody>\n",
       "    <tr>\n",
       "      <th>0</th>\n",
       "      <td>0.0</td>\n",
       "      <td>0.0</td>\n",
       "      <td>69</td>\n",
       "      <td>0.623849</td>\n",
       "      <td>6.8</td>\n",
       "      <td>1988.0</td>\n",
       "      <td>10.0</td>\n",
       "      <td>Missing</td>\n",
       "      <td>0.0</td>\n",
       "      <td>0.0</td>\n",
       "      <td>...</td>\n",
       "      <td>1.0</td>\n",
       "      <td>0.0</td>\n",
       "      <td>0.0</td>\n",
       "      <td>0.0</td>\n",
       "      <td>0.0</td>\n",
       "      <td>0.0</td>\n",
       "      <td>0.0</td>\n",
       "      <td>0.0</td>\n",
       "      <td>0.0</td>\n",
       "      <td>2.0</td>\n",
       "    </tr>\n",
       "    <tr>\n",
       "      <th>1</th>\n",
       "      <td>0.0</td>\n",
       "      <td>0.0</td>\n",
       "      <td>76</td>\n",
       "      <td>0.288572</td>\n",
       "      <td>6.8</td>\n",
       "      <td>1986.0</td>\n",
       "      <td>10.0</td>\n",
       "      <td>Missing</td>\n",
       "      <td>0.0</td>\n",
       "      <td>0.0</td>\n",
       "      <td>...</td>\n",
       "      <td>0.0</td>\n",
       "      <td>0.0</td>\n",
       "      <td>0.0</td>\n",
       "      <td>0.0</td>\n",
       "      <td>0.0</td>\n",
       "      <td>0.0</td>\n",
       "      <td>0.0</td>\n",
       "      <td>0.0</td>\n",
       "      <td>0.0</td>\n",
       "      <td>2.0</td>\n",
       "    </tr>\n",
       "    <tr>\n",
       "      <th>2</th>\n",
       "      <td>4000000.0</td>\n",
       "      <td>4300000.0</td>\n",
       "      <td>98</td>\n",
       "      <td>1.76899</td>\n",
       "      <td>6.4</td>\n",
       "      <td>1995.0</td>\n",
       "      <td>12.0</td>\n",
       "      <td>R</td>\n",
       "      <td>0.0</td>\n",
       "      <td>0.0</td>\n",
       "      <td>...</td>\n",
       "      <td>1.0</td>\n",
       "      <td>0.0</td>\n",
       "      <td>0.0</td>\n",
       "      <td>0.0</td>\n",
       "      <td>0.0</td>\n",
       "      <td>0.0</td>\n",
       "      <td>0.0</td>\n",
       "      <td>0.0</td>\n",
       "      <td>0.0</td>\n",
       "      <td>2.0</td>\n",
       "    </tr>\n",
       "    <tr>\n",
       "      <th>3</th>\n",
       "      <td>0.0</td>\n",
       "      <td>12136938.0</td>\n",
       "      <td>110</td>\n",
       "      <td>0.676269</td>\n",
       "      <td>6.6</td>\n",
       "      <td>1993.0</td>\n",
       "      <td>10.0</td>\n",
       "      <td>R</td>\n",
       "      <td>0.0</td>\n",
       "      <td>0.0</td>\n",
       "      <td>...</td>\n",
       "      <td>1.0</td>\n",
       "      <td>0.0</td>\n",
       "      <td>0.0</td>\n",
       "      <td>0.0</td>\n",
       "      <td>0.0</td>\n",
       "      <td>0.0</td>\n",
       "      <td>0.0</td>\n",
       "      <td>0.0</td>\n",
       "      <td>0.0</td>\n",
       "      <td>3.0</td>\n",
       "    </tr>\n",
       "    <tr>\n",
       "      <th>4</th>\n",
       "      <td>42000.0</td>\n",
       "      <td>0.0</td>\n",
       "      <td>80</td>\n",
       "      <td>0.125477</td>\n",
       "      <td>5.2</td>\n",
       "      <td>2006.0</td>\n",
       "      <td>1.0</td>\n",
       "      <td>Missing</td>\n",
       "      <td>0.0</td>\n",
       "      <td>0.0</td>\n",
       "      <td>...</td>\n",
       "      <td>0.0</td>\n",
       "      <td>1.0</td>\n",
       "      <td>0.0</td>\n",
       "      <td>0.0</td>\n",
       "      <td>0.0</td>\n",
       "      <td>0.0</td>\n",
       "      <td>0.0</td>\n",
       "      <td>0.0</td>\n",
       "      <td>0.0</td>\n",
       "      <td>1.0</td>\n",
       "    </tr>\n",
       "  </tbody>\n",
       "</table>\n",
       "<p>5 rows × 734 columns</p>\n",
       "</div>"
      ],
      "text/plain": [
       "      budget     revenue runtime popularity  user_rating  release_year  \\\n",
       "0        0.0         0.0      69   0.623849          6.8        1988.0   \n",
       "1        0.0         0.0      76   0.288572          6.8        1986.0   \n",
       "2  4000000.0   4300000.0      98    1.76899          6.4        1995.0   \n",
       "3        0.0  12136938.0     110   0.676269          6.6        1993.0   \n",
       "4    42000.0         0.0      80   0.125477          5.2        2006.0   \n",
       "\n",
       "   release_month USA_rating  Warner Bros  Metro-Goldwyn-Mayer MGM     ...      \\\n",
       "0           10.0    Missing          0.0                      0.0     ...       \n",
       "1           10.0    Missing          0.0                      0.0     ...       \n",
       "2           12.0          R          0.0                      0.0     ...       \n",
       "3           10.0          R          0.0                      0.0     ...       \n",
       "4            1.0    Missing          0.0                      0.0     ...       \n",
       "\n",
       "   Crime  Documentary  Science Fiction  Mystery  Music  Romance  Family  War  \\\n",
       "0    1.0          0.0              0.0      0.0    0.0      0.0     0.0  0.0   \n",
       "1    0.0          0.0              0.0      0.0    0.0      0.0     0.0  0.0   \n",
       "2    1.0          0.0              0.0      0.0    0.0      0.0     0.0  0.0   \n",
       "3    1.0          0.0              0.0      0.0    0.0      0.0     0.0  0.0   \n",
       "4    0.0          1.0              0.0      0.0    0.0      0.0     0.0  0.0   \n",
       "\n",
       "   Foreign  num_genres  \n",
       "0      0.0         2.0  \n",
       "1      0.0         2.0  \n",
       "2      0.0         2.0  \n",
       "3      0.0         3.0  \n",
       "4      0.0         1.0  \n",
       "\n",
       "[5 rows x 734 columns]"
      ]
     },
     "execution_count": 8,
     "metadata": {},
     "output_type": "execute_result"
    }
   ],
   "source": [
    "# read in dataframe\n",
    "data = pd.read_csv(\"/home/ubuntu/data/clean_data/milestone3/merged3.csv\")\n",
    "data = data.drop(['Unnamed: 0', 'tmdb_id', 'imdb_id'], axis=1)\n",
    "data.head()"
   ]
  },
  {
   "cell_type": "code",
   "execution_count": 9,
   "metadata": {
    "collapsed": true
   },
   "outputs": [],
   "source": [
    "# convert data types\n",
    "data['runtime'] = data['runtime'].apply(pd.to_numeric, errors='coerce')\n",
    "data['popularity'] = data['popularity'].apply(pd.to_numeric, errors='coerce')\n",
    "\n",
    "# replace nan\n",
    "data['runtime'].fillna(0, inplace=True)\n",
    "data['popularity'].fillna(0, inplace=True)"
   ]
  },
  {
   "cell_type": "code",
   "execution_count": 10,
   "metadata": {},
   "outputs": [
    {
     "data": {
      "text/plain": [
       "(69915, 734)"
      ]
     },
     "execution_count": 10,
     "metadata": {},
     "output_type": "execute_result"
    }
   ],
   "source": [
    "data.shape"
   ]
  },
  {
   "cell_type": "code",
   "execution_count": 11,
   "metadata": {
    "collapsed": true
   },
   "outputs": [],
   "source": [
    "# separate x and y\n",
    "y = data.ix[:, 714:734]\n",
    "x = data.ix[:, 0:714]"
   ]
  },
  {
   "cell_type": "code",
   "execution_count": 12,
   "metadata": {},
   "outputs": [
    {
     "data": {
      "text/html": [
       "<div>\n",
       "<table border=\"1\" class=\"dataframe\">\n",
       "  <thead>\n",
       "    <tr style=\"text-align: right;\">\n",
       "      <th></th>\n",
       "      <th>Adventure</th>\n",
       "      <th>Fantasy</th>\n",
       "      <th>Animation</th>\n",
       "      <th>Drama</th>\n",
       "      <th>Horror</th>\n",
       "      <th>Action</th>\n",
       "      <th>Comedy</th>\n",
       "      <th>History</th>\n",
       "      <th>Western</th>\n",
       "      <th>Thriller</th>\n",
       "      <th>Crime</th>\n",
       "      <th>Documentary</th>\n",
       "      <th>Science Fiction</th>\n",
       "      <th>Mystery</th>\n",
       "      <th>Music</th>\n",
       "      <th>Romance</th>\n",
       "      <th>Family</th>\n",
       "      <th>War</th>\n",
       "      <th>Foreign</th>\n",
       "      <th>num_genres</th>\n",
       "    </tr>\n",
       "  </thead>\n",
       "  <tbody>\n",
       "    <tr>\n",
       "      <th>0</th>\n",
       "      <td>0.0</td>\n",
       "      <td>0.0</td>\n",
       "      <td>0.0</td>\n",
       "      <td>1.0</td>\n",
       "      <td>0.0</td>\n",
       "      <td>0.0</td>\n",
       "      <td>0.0</td>\n",
       "      <td>0.0</td>\n",
       "      <td>0.0</td>\n",
       "      <td>0.0</td>\n",
       "      <td>1.0</td>\n",
       "      <td>0.0</td>\n",
       "      <td>0.0</td>\n",
       "      <td>0.0</td>\n",
       "      <td>0.0</td>\n",
       "      <td>0.0</td>\n",
       "      <td>0.0</td>\n",
       "      <td>0.0</td>\n",
       "      <td>0.0</td>\n",
       "      <td>2.0</td>\n",
       "    </tr>\n",
       "    <tr>\n",
       "      <th>1</th>\n",
       "      <td>0.0</td>\n",
       "      <td>0.0</td>\n",
       "      <td>0.0</td>\n",
       "      <td>1.0</td>\n",
       "      <td>0.0</td>\n",
       "      <td>0.0</td>\n",
       "      <td>1.0</td>\n",
       "      <td>0.0</td>\n",
       "      <td>0.0</td>\n",
       "      <td>0.0</td>\n",
       "      <td>0.0</td>\n",
       "      <td>0.0</td>\n",
       "      <td>0.0</td>\n",
       "      <td>0.0</td>\n",
       "      <td>0.0</td>\n",
       "      <td>0.0</td>\n",
       "      <td>0.0</td>\n",
       "      <td>0.0</td>\n",
       "      <td>0.0</td>\n",
       "      <td>2.0</td>\n",
       "    </tr>\n",
       "    <tr>\n",
       "      <th>2</th>\n",
       "      <td>0.0</td>\n",
       "      <td>0.0</td>\n",
       "      <td>0.0</td>\n",
       "      <td>0.0</td>\n",
       "      <td>0.0</td>\n",
       "      <td>0.0</td>\n",
       "      <td>1.0</td>\n",
       "      <td>0.0</td>\n",
       "      <td>0.0</td>\n",
       "      <td>0.0</td>\n",
       "      <td>1.0</td>\n",
       "      <td>0.0</td>\n",
       "      <td>0.0</td>\n",
       "      <td>0.0</td>\n",
       "      <td>0.0</td>\n",
       "      <td>0.0</td>\n",
       "      <td>0.0</td>\n",
       "      <td>0.0</td>\n",
       "      <td>0.0</td>\n",
       "      <td>2.0</td>\n",
       "    </tr>\n",
       "    <tr>\n",
       "      <th>3</th>\n",
       "      <td>0.0</td>\n",
       "      <td>0.0</td>\n",
       "      <td>0.0</td>\n",
       "      <td>0.0</td>\n",
       "      <td>0.0</td>\n",
       "      <td>1.0</td>\n",
       "      <td>0.0</td>\n",
       "      <td>0.0</td>\n",
       "      <td>0.0</td>\n",
       "      <td>1.0</td>\n",
       "      <td>1.0</td>\n",
       "      <td>0.0</td>\n",
       "      <td>0.0</td>\n",
       "      <td>0.0</td>\n",
       "      <td>0.0</td>\n",
       "      <td>0.0</td>\n",
       "      <td>0.0</td>\n",
       "      <td>0.0</td>\n",
       "      <td>0.0</td>\n",
       "      <td>3.0</td>\n",
       "    </tr>\n",
       "    <tr>\n",
       "      <th>4</th>\n",
       "      <td>0.0</td>\n",
       "      <td>0.0</td>\n",
       "      <td>0.0</td>\n",
       "      <td>0.0</td>\n",
       "      <td>0.0</td>\n",
       "      <td>0.0</td>\n",
       "      <td>0.0</td>\n",
       "      <td>0.0</td>\n",
       "      <td>0.0</td>\n",
       "      <td>0.0</td>\n",
       "      <td>0.0</td>\n",
       "      <td>1.0</td>\n",
       "      <td>0.0</td>\n",
       "      <td>0.0</td>\n",
       "      <td>0.0</td>\n",
       "      <td>0.0</td>\n",
       "      <td>0.0</td>\n",
       "      <td>0.0</td>\n",
       "      <td>0.0</td>\n",
       "      <td>1.0</td>\n",
       "    </tr>\n",
       "  </tbody>\n",
       "</table>\n",
       "</div>"
      ],
      "text/plain": [
       "   Adventure  Fantasy  Animation  Drama  Horror  Action  Comedy  History  \\\n",
       "0        0.0      0.0        0.0    1.0     0.0     0.0     0.0      0.0   \n",
       "1        0.0      0.0        0.0    1.0     0.0     0.0     1.0      0.0   \n",
       "2        0.0      0.0        0.0    0.0     0.0     0.0     1.0      0.0   \n",
       "3        0.0      0.0        0.0    0.0     0.0     1.0     0.0      0.0   \n",
       "4        0.0      0.0        0.0    0.0     0.0     0.0     0.0      0.0   \n",
       "\n",
       "   Western  Thriller  Crime  Documentary  Science Fiction  Mystery  Music  \\\n",
       "0      0.0       0.0    1.0          0.0              0.0      0.0    0.0   \n",
       "1      0.0       0.0    0.0          0.0              0.0      0.0    0.0   \n",
       "2      0.0       0.0    1.0          0.0              0.0      0.0    0.0   \n",
       "3      0.0       1.0    1.0          0.0              0.0      0.0    0.0   \n",
       "4      0.0       0.0    0.0          1.0              0.0      0.0    0.0   \n",
       "\n",
       "   Romance  Family  War  Foreign  num_genres  \n",
       "0      0.0     0.0  0.0      0.0         2.0  \n",
       "1      0.0     0.0  0.0      0.0         2.0  \n",
       "2      0.0     0.0  0.0      0.0         2.0  \n",
       "3      0.0     0.0  0.0      0.0         3.0  \n",
       "4      0.0     0.0  0.0      0.0         1.0  "
      ]
     },
     "execution_count": 12,
     "metadata": {},
     "output_type": "execute_result"
    }
   ],
   "source": [
    "y.head()"
   ]
  },
  {
   "cell_type": "code",
   "execution_count": 13,
   "metadata": {},
   "outputs": [
    {
     "data": {
      "text/plain": [
       "(69915, 20)"
      ]
     },
     "execution_count": 13,
     "metadata": {},
     "output_type": "execute_result"
    }
   ],
   "source": [
    "y.shape"
   ]
  },
  {
   "cell_type": "code",
   "execution_count": 14,
   "metadata": {},
   "outputs": [
    {
     "data": {
      "text/html": [
       "<div>\n",
       "<table border=\"1\" class=\"dataframe\">\n",
       "  <thead>\n",
       "    <tr style=\"text-align: right;\">\n",
       "      <th></th>\n",
       "      <th>budget</th>\n",
       "      <th>revenue</th>\n",
       "      <th>runtime</th>\n",
       "      <th>popularity</th>\n",
       "      <th>user_rating</th>\n",
       "      <th>release_year</th>\n",
       "      <th>release_month</th>\n",
       "      <th>USA_rating</th>\n",
       "      <th>Warner Bros</th>\n",
       "      <th>Metro-Goldwyn-Mayer MGM</th>\n",
       "      <th>...</th>\n",
       "      <th>word_work</th>\n",
       "      <th>word_working</th>\n",
       "      <th>word_works</th>\n",
       "      <th>word_world</th>\n",
       "      <th>word_writer</th>\n",
       "      <th>word_written</th>\n",
       "      <th>word_year</th>\n",
       "      <th>word_years</th>\n",
       "      <th>word_york</th>\n",
       "      <th>word_young</th>\n",
       "    </tr>\n",
       "  </thead>\n",
       "  <tbody>\n",
       "    <tr>\n",
       "      <th>0</th>\n",
       "      <td>0.0</td>\n",
       "      <td>0.0</td>\n",
       "      <td>69.0</td>\n",
       "      <td>0.623849</td>\n",
       "      <td>6.8</td>\n",
       "      <td>1988.0</td>\n",
       "      <td>10.0</td>\n",
       "      <td>Missing</td>\n",
       "      <td>0.0</td>\n",
       "      <td>0.0</td>\n",
       "      <td>...</td>\n",
       "      <td>0.0</td>\n",
       "      <td>0.0</td>\n",
       "      <td>0.0</td>\n",
       "      <td>0.000000</td>\n",
       "      <td>0.0</td>\n",
       "      <td>0.000000</td>\n",
       "      <td>0.0</td>\n",
       "      <td>0.0</td>\n",
       "      <td>0.000000</td>\n",
       "      <td>0.0</td>\n",
       "    </tr>\n",
       "    <tr>\n",
       "      <th>1</th>\n",
       "      <td>0.0</td>\n",
       "      <td>0.0</td>\n",
       "      <td>76.0</td>\n",
       "      <td>0.288572</td>\n",
       "      <td>6.8</td>\n",
       "      <td>1986.0</td>\n",
       "      <td>10.0</td>\n",
       "      <td>Missing</td>\n",
       "      <td>0.0</td>\n",
       "      <td>0.0</td>\n",
       "      <td>...</td>\n",
       "      <td>0.0</td>\n",
       "      <td>0.0</td>\n",
       "      <td>0.0</td>\n",
       "      <td>0.000000</td>\n",
       "      <td>0.0</td>\n",
       "      <td>0.000000</td>\n",
       "      <td>0.0</td>\n",
       "      <td>0.0</td>\n",
       "      <td>0.000000</td>\n",
       "      <td>0.0</td>\n",
       "    </tr>\n",
       "    <tr>\n",
       "      <th>2</th>\n",
       "      <td>4000000.0</td>\n",
       "      <td>4300000.0</td>\n",
       "      <td>98.0</td>\n",
       "      <td>1.768986</td>\n",
       "      <td>6.4</td>\n",
       "      <td>1995.0</td>\n",
       "      <td>12.0</td>\n",
       "      <td>R</td>\n",
       "      <td>0.0</td>\n",
       "      <td>0.0</td>\n",
       "      <td>...</td>\n",
       "      <td>0.0</td>\n",
       "      <td>0.0</td>\n",
       "      <td>0.0</td>\n",
       "      <td>0.000000</td>\n",
       "      <td>0.0</td>\n",
       "      <td>0.000000</td>\n",
       "      <td>0.0</td>\n",
       "      <td>0.0</td>\n",
       "      <td>0.000000</td>\n",
       "      <td>0.0</td>\n",
       "    </tr>\n",
       "    <tr>\n",
       "      <th>3</th>\n",
       "      <td>0.0</td>\n",
       "      <td>12136938.0</td>\n",
       "      <td>110.0</td>\n",
       "      <td>0.676269</td>\n",
       "      <td>6.6</td>\n",
       "      <td>1993.0</td>\n",
       "      <td>10.0</td>\n",
       "      <td>R</td>\n",
       "      <td>0.0</td>\n",
       "      <td>0.0</td>\n",
       "      <td>...</td>\n",
       "      <td>0.0</td>\n",
       "      <td>0.0</td>\n",
       "      <td>0.0</td>\n",
       "      <td>0.000000</td>\n",
       "      <td>0.0</td>\n",
       "      <td>0.000000</td>\n",
       "      <td>0.0</td>\n",
       "      <td>0.0</td>\n",
       "      <td>0.000000</td>\n",
       "      <td>0.0</td>\n",
       "    </tr>\n",
       "    <tr>\n",
       "      <th>4</th>\n",
       "      <td>42000.0</td>\n",
       "      <td>0.0</td>\n",
       "      <td>80.0</td>\n",
       "      <td>0.125477</td>\n",
       "      <td>5.2</td>\n",
       "      <td>2006.0</td>\n",
       "      <td>1.0</td>\n",
       "      <td>Missing</td>\n",
       "      <td>0.0</td>\n",
       "      <td>0.0</td>\n",
       "      <td>...</td>\n",
       "      <td>0.0</td>\n",
       "      <td>0.0</td>\n",
       "      <td>0.0</td>\n",
       "      <td>0.119018</td>\n",
       "      <td>0.0</td>\n",
       "      <td>0.180166</td>\n",
       "      <td>0.0</td>\n",
       "      <td>0.0</td>\n",
       "      <td>0.165786</td>\n",
       "      <td>0.0</td>\n",
       "    </tr>\n",
       "  </tbody>\n",
       "</table>\n",
       "<p>5 rows × 714 columns</p>\n",
       "</div>"
      ],
      "text/plain": [
       "      budget     revenue  runtime  popularity  user_rating  release_year  \\\n",
       "0        0.0         0.0     69.0    0.623849          6.8        1988.0   \n",
       "1        0.0         0.0     76.0    0.288572          6.8        1986.0   \n",
       "2  4000000.0   4300000.0     98.0    1.768986          6.4        1995.0   \n",
       "3        0.0  12136938.0    110.0    0.676269          6.6        1993.0   \n",
       "4    42000.0         0.0     80.0    0.125477          5.2        2006.0   \n",
       "\n",
       "   release_month USA_rating  Warner Bros  Metro-Goldwyn-Mayer MGM     ...      \\\n",
       "0           10.0    Missing          0.0                      0.0     ...       \n",
       "1           10.0    Missing          0.0                      0.0     ...       \n",
       "2           12.0          R          0.0                      0.0     ...       \n",
       "3           10.0          R          0.0                      0.0     ...       \n",
       "4            1.0    Missing          0.0                      0.0     ...       \n",
       "\n",
       "   word_work  word_working  word_works  word_world  word_writer  word_written  \\\n",
       "0        0.0           0.0         0.0    0.000000          0.0      0.000000   \n",
       "1        0.0           0.0         0.0    0.000000          0.0      0.000000   \n",
       "2        0.0           0.0         0.0    0.000000          0.0      0.000000   \n",
       "3        0.0           0.0         0.0    0.000000          0.0      0.000000   \n",
       "4        0.0           0.0         0.0    0.119018          0.0      0.180166   \n",
       "\n",
       "   word_year  word_years  word_york  word_young  \n",
       "0        0.0         0.0   0.000000         0.0  \n",
       "1        0.0         0.0   0.000000         0.0  \n",
       "2        0.0         0.0   0.000000         0.0  \n",
       "3        0.0         0.0   0.000000         0.0  \n",
       "4        0.0         0.0   0.165786         0.0  \n",
       "\n",
       "[5 rows x 714 columns]"
      ]
     },
     "execution_count": 14,
     "metadata": {},
     "output_type": "execute_result"
    }
   ],
   "source": [
    "x.head()"
   ]
  },
  {
   "cell_type": "code",
   "execution_count": 15,
   "metadata": {},
   "outputs": [
    {
     "data": {
      "text/plain": [
       "(69915, 714)"
      ]
     },
     "execution_count": 15,
     "metadata": {},
     "output_type": "execute_result"
    }
   ],
   "source": [
    "x.shape"
   ]
  },
  {
   "cell_type": "code",
   "execution_count": 16,
   "metadata": {
    "collapsed": true
   },
   "outputs": [],
   "source": [
    "# get dummy variables for release_year, release_month, USA_rating\n",
    "x = pd.get_dummies(x, columns=['release_year', 'release_month', 'USA_rating'])"
   ]
  },
  {
   "cell_type": "code",
   "execution_count": 17,
   "metadata": {
    "collapsed": true
   },
   "outputs": [],
   "source": [
    "# scale the data\n",
    "x = preprocessing.scale(x)"
   ]
  },
  {
   "cell_type": "code",
   "execution_count": 18,
   "metadata": {
    "collapsed": true
   },
   "outputs": [],
   "source": [
    "# create training and testing sets (66% train, 33% test)\n",
    "np.random.seed(123)\n",
    "x_train, x_test, y_train, y_test = train_test_split(x, y, test_size=0.33)"
   ]
  },
  {
   "cell_type": "code",
   "execution_count": 19,
   "metadata": {},
   "outputs": [
    {
     "data": {
      "text/plain": [
       "(46843, 878)"
      ]
     },
     "execution_count": 19,
     "metadata": {},
     "output_type": "execute_result"
    }
   ],
   "source": [
    "x_train.shape"
   ]
  },
  {
   "cell_type": "code",
   "execution_count": 20,
   "metadata": {},
   "outputs": [
    {
     "data": {
      "text/plain": [
       "(23072, 878)"
      ]
     },
     "execution_count": 20,
     "metadata": {},
     "output_type": "execute_result"
    }
   ],
   "source": [
    "x_test.shape"
   ]
  },
  {
   "cell_type": "code",
   "execution_count": 21,
   "metadata": {
    "collapsed": true
   },
   "outputs": [],
   "source": [
    "# select 19 genre classes\n",
    "y_train19 = y_train.ix[:, 0:19]\n",
    "y_test19 = y_test.ix[:, 0:19]"
   ]
  },
  {
   "cell_type": "markdown",
   "metadata": {},
   "source": [
    "---"
   ]
  },
  {
   "cell_type": "markdown",
   "metadata": {},
   "source": [
    "## Model 0: Baseline Model"
   ]
  },
  {
   "cell_type": "markdown",
   "metadata": {},
   "source": [
    "Here, we create a baseline model, which flags a genre '1' randomly at a probability of around 10%, which is the overall proportion of flag '1' across all 19 genre classes. This serves as a benchmark for our two subsequent models. "
   ]
  },
  {
   "cell_type": "code",
   "execution_count": 22,
   "metadata": {
    "collapsed": true
   },
   "outputs": [],
   "source": [
    "def random_classifier(df_y):\n",
    "    prop = df_y.sum() / df_y.shape[0]\n",
    "    pred = np.random.binomial(1, np.mean(prop), df_y.shape)\n",
    "    return pred"
   ]
  },
  {
   "cell_type": "code",
   "execution_count": 23,
   "metadata": {},
   "outputs": [
    {
     "data": {
      "text/plain": [
       "Adventure          0.844227\n",
       "Fantasy            0.860220\n",
       "Animation          0.850251\n",
       "Drama              0.564277\n",
       "Horror             0.808296\n",
       "Action             0.777306\n",
       "Comedy             0.662925\n",
       "History            0.875390\n",
       "Western            0.877080\n",
       "Thriller           0.777739\n",
       "Crime              0.827063\n",
       "Documentary        0.827497\n",
       "Science Fiction    0.849341\n",
       "Mystery            0.859180\n",
       "Music              0.861867\n",
       "Romance            0.789485\n",
       "Family             0.843750\n",
       "War                0.875347\n",
       "Foreign            0.840803\n",
       "dtype: float64"
      ]
     },
     "execution_count": 23,
     "metadata": {},
     "output_type": "execute_result"
    }
   ],
   "source": [
    "# naive model\n",
    "np.random.seed(123)\n",
    "pred_baseline = random_classifier(y_test19)\n",
    "\n",
    "# show test accuracies for each class\n",
    "acc_baseline = np.mean(pred_baseline == y_test19)\n",
    "acc_baseline"
   ]
  },
  {
   "cell_type": "code",
   "execution_count": 24,
   "metadata": {},
   "outputs": [
    {
     "name": "stdout",
     "output_type": "stream",
     "text": [
      "Overall baseline accuracy 81.43\n"
     ]
    }
   ],
   "source": [
    "# overall accuracy\n",
    "print (\"Overall baseline accuracy\", round(acc_baseline.sum() / 19 * 100, 2))"
   ]
  },
  {
   "cell_type": "code",
   "execution_count": 25,
   "metadata": {},
   "outputs": [
    {
     "name": "stdout",
     "output_type": "stream",
     "text": [
      "Precision baseline 0.196\n",
      "Recall baseline 0.105\n",
      "F1 score baseline 0.121\n"
     ]
    }
   ],
   "source": [
    "# F1 score\n",
    "print (\"Precision baseline\", round(metrics.precision_score(y_test19, pred_baseline, average='weighted'), 3))\n",
    "print (\"Recall baseline\", round(metrics.recall_score(y_test19, pred_baseline, average='weighted'), 3))\n",
    "print (\"F1 score baseline\", round(metrics.f1_score(y_test19, pred_baseline, average='weighted'), 3))"
   ]
  },
  {
   "cell_type": "markdown",
   "metadata": {},
   "source": [
    "---"
   ]
  },
  {
   "cell_type": "markdown",
   "metadata": {},
   "source": [
    "## Model 1: Random Forest"
   ]
  },
  {
   "cell_type": "markdown",
   "metadata": {},
   "source": [
    "Given this multi-class, multi-label problem, we will employ one-vs-rest (OvR) strategy, which consists of fitting one classifier per genre. For each classifier, the genre is fitted against all the other genres. \n",
    "\n",
    "To address the imbalanced nature of this dataset (as discussed in Milestone 2), we will use balanced class weights."
   ]
  },
  {
   "cell_type": "markdown",
   "metadata": {},
   "source": [
    "### [UPDATE] Parameter Tuning"
   ]
  },
  {
   "cell_type": "code",
   "execution_count": 33,
   "metadata": {},
   "outputs": [
    {
     "name": "stdout",
     "output_type": "stream",
     "text": [
      "5\n",
      "10\n",
      "15\n",
      "20\n",
      "25\n",
      "30\n",
      "35\n",
      "40\n",
      "45\n",
      "50\n",
      "55\n",
      "60\n",
      "65\n",
      "70\n",
      "75\n",
      "80\n"
     ]
    }
   ],
   "source": [
    "warnings.filterwarnings('ignore')\n",
    "\n",
    "rf = RandomForestClassifier(class_weight=\"balanced\",oob_score=True)\n",
    "# Range of `n_estimators` values to explore.\n",
    "min_estimators = 5\n",
    "max_estimators = 85\n",
    "oob_error_list=[]\n",
    "for i in range(min_estimators, max_estimators,5):\n",
    "    print(i)\n",
    "    rf.set_params(n_estimators=i)\n",
    "    rf.fit(x_train, y_train19)\n",
    "\n",
    "    # Record the OOB error for each `n_estimators=i` setting.\n",
    "    oob_error = 1 - rf.oob_score_\n",
    "    oob_error_list.append(oob_error)"
   ]
  },
  {
   "cell_type": "code",
   "execution_count": 68,
   "metadata": {},
   "outputs": [
    {
     "data": {
      "image/png": "[encoded data removed]",
      "text/plain": [
       "<matplotlib.figure.Figure at 0x7fe3d563e3c8>"
      ]
     },
     "metadata": {},
     "output_type": "display_data"
    }
   ],
   "source": [
    "n_tree=range(min_estimators, max_estimators,5)\n",
    "plt.title('OOB error rate over number of trees')\n",
    "plt.plot(n_tree, oob_error_list)\n",
    "plt.xlim(min_estimators, max_estimators)\n",
    "plt.xlabel(\"number of trees\")\n",
    "plt.ylabel(\"OOB error rate\")\n",
    "plt.grid()\n",
    "plt.show()"
   ]
  },
  {
   "cell_type": "code",
   "execution_count": 26,
   "metadata": {},
   "outputs": [
    {
     "data": {
      "text/plain": [
       "RandomForestClassifier(bootstrap=True, class_weight='balanced',\n",
       "            criterion='gini', max_depth=None, max_features='auto',\n",
       "            max_leaf_nodes=None, min_impurity_split=1e-07,\n",
       "            min_samples_leaf=1, min_samples_split=2,\n",
       "            min_weight_fraction_leaf=0.0, n_estimators=80, n_jobs=1,\n",
       "            oob_score=True, random_state=None, verbose=0, warm_start=False)"
      ]
     },
     "execution_count": 26,
     "metadata": {},
     "output_type": "execute_result"
    }
   ],
   "source": [
    "# fit random forest\n",
    "rf = RandomForestClassifier(n_estimators=80,class_weight=\"balanced\",oob_score=True)\n",
    "rf.fit(x_train, y_train19)"
   ]
  },
  {
   "cell_type": "code",
   "execution_count": 33,
   "metadata": {},
   "outputs": [
    {
     "data": {
      "text/plain": [
       "Adventure          0.931432\n",
       "Fantasy            0.954534\n",
       "Animation          0.948422\n",
       "Drama              0.681085\n",
       "Horror             0.893984\n",
       "Action             0.849948\n",
       "Comedy             0.715066\n",
       "History            0.973994\n",
       "Western            0.975035\n",
       "Thriller           0.852809\n",
       "Crime              0.912448\n",
       "Documentary        0.920856\n",
       "Science Fiction    0.937977\n",
       "Mystery            0.953753\n",
       "Music              0.955921\n",
       "Romance            0.864424\n",
       "Family             0.931215\n",
       "War                0.974645\n",
       "Foreign            0.929828\n",
       "dtype: float64"
      ]
     },
     "execution_count": 33,
     "metadata": {},
     "output_type": "execute_result"
    }
   ],
   "source": [
    "# predict on test set\n",
    "pred_rf = rf.predict(x_test)\n",
    "\n",
    "# show test accuracies for each class\n",
    "acc_rf = np.mean(pred_rf == y_test19)\n",
    "acc_rf"
   ]
  },
  {
   "cell_type": "code",
   "execution_count": 37,
   "metadata": {},
   "outputs": [
    {
     "name": "stdout",
     "output_type": "stream",
     "text": [
      "Overall random forest accuracy 90.3 %\n",
      "\n"
     ]
    }
   ],
   "source": [
    "# overall accuracy\n",
    "print (\"Overall random forest accuracy\", round(acc_rf.sum() / 19 * 100, 2), \"%\\n\")"
   ]
  },
  {
   "cell_type": "code",
   "execution_count": 38,
   "metadata": {},
   "outputs": [
    {
     "name": "stdout",
     "output_type": "stream",
     "text": [
      "Precision random forest 0.814\n",
      "Recall random forest 0.122\n",
      "F1 score random forest 0.16\n"
     ]
    }
   ],
   "source": [
    "# F1 score\n",
    "print (\"Precision random forest\", round(metrics.precision_score(y_test19, pred_rf, average='weighted'), 3))\n",
    "print (\"Recall random forest\", round(metrics.recall_score(y_test19, pred_rf, average='weighted'), 3))\n",
    "print (\"F1 score random forest\", round(metrics.f1_score(y_test19, pred_rf, average='weighted'), 3))"
   ]
  },
  {
   "cell_type": "code",
   "execution_count": 24,
   "metadata": {
    "collapsed": true
   },
   "outputs": [],
   "source": [
    "# save random forest to disk\n",
    "path = 'models/rf.sav'\n",
    "pickle.dump(rf, open(path, 'wb'))"
   ]
  },
  {
   "cell_type": "markdown",
   "metadata": {},
   "source": [
    "---"
   ]
  },
  {
   "cell_type": "markdown",
   "metadata": {},
   "source": [
    "## Model 2: *k*-Nearest Neighbors"
   ]
  },
  {
   "cell_type": "markdown",
   "metadata": {},
   "source": [
    "### [UPDATE] Parameter Tuning"
   ]
  },
  {
   "cell_type": "code",
   "execution_count": null,
   "metadata": {
    "collapsed": true
   },
   "outputs": [],
   "source": [
    "k_list=range(5,15)\n",
    "k_fold = KFold(n_splits=2)\n",
    "acc_list=[]\n",
    "for k in k_list:\n",
    "    knn = KNeighborsClassifier(n_neighbors=k)\n",
    "    scores=[]\n",
    "    for train, test in k_fold.split(x_train):\n",
    "        knn.fit(x_train[train], np.array(y_train19)[train])\n",
    "        score=knn.score(x_train[test], np.array(y_train19)[test])\n",
    "        scores.append(score)\n",
    "    acc_list.append(np.mean(scores))"
   ]
  },
  {
   "cell_type": "code",
   "execution_count": 27,
   "metadata": {
    "collapsed": true
   },
   "outputs": [],
   "source": [
    "# fit knn where k=5\n",
    "knn = KNeighborsClassifier(n_neighbors=5).fit(x_train, y_train19)"
   ]
  },
  {
   "cell_type": "code",
   "execution_count": 28,
   "metadata": {},
   "outputs": [
    {
     "data": {
      "text/plain": [
       "Adventure          0.931215\n",
       "Fantasy            0.954230\n",
       "Animation          0.953537\n",
       "Drama              0.573812\n",
       "Horror             0.893074\n",
       "Action             0.850555\n",
       "Comedy             0.634752\n",
       "History            0.973128\n",
       "Western            0.976162\n",
       "Thriller           0.846481\n",
       "Crime              0.905340\n",
       "Documentary        0.911841\n",
       "Science Fiction    0.937283\n",
       "Mystery            0.954187\n",
       "Music              0.961122\n",
       "Romance            0.855626\n",
       "Family             0.932386\n",
       "War                0.974515\n",
       "Foreign            0.926881\n",
       "dtype: float64"
      ]
     },
     "execution_count": 28,
     "metadata": {},
     "output_type": "execute_result"
    }
   ],
   "source": [
    "# predict on test set\n",
    "pred_knn = knn.predict(x_test)\n",
    "\n",
    "# show test accuracies for each class\n",
    "acc_knn = np.mean(pred_knn == y_test19)\n",
    "acc_knn"
   ]
  },
  {
   "cell_type": "code",
   "execution_count": 18,
   "metadata": {},
   "outputs": [
    {
     "name": "stdout",
     "output_type": "stream",
     "text": [
      "Overall k-nearest neighbors accuracy 89.06 %\n",
      "\n"
     ]
    }
   ],
   "source": [
    "# overall accuracy\n",
    "print \"Overall k-nearest neighbors accuracy\", round(acc_knn.sum() / 19 * 100, 2), \"%\\n\""
   ]
  },
  {
   "cell_type": "code",
   "execution_count": 20,
   "metadata": {},
   "outputs": [
    {
     "name": "stdout",
     "output_type": "stream",
     "text": [
      "Precision k-nearest neighbors 0.374\n",
      "Recall k-nearest neighbors 0.184\n",
      "F1 score k-nearest neighbors 0.224\n"
     ]
    }
   ],
   "source": [
    "# F1 score\n",
    "print \"Precision k-nearest neighbors\", round(metrics.precision_score(y_test19, pred_knn, average='weighted'), 3)\n",
    "print \"Recall k-nearest neighbors\", round(metrics.recall_score(y_test19, pred_knn, average='weighted'), 3)\n",
    "print \"F1 score k-nearest neighbors\", round(metrics.f1_score(y_test19, pred_knn, average='weighted'), 3)"
   ]
  },
  {
   "cell_type": "code",
   "execution_count": 33,
   "metadata": {
    "collapsed": true
   },
   "outputs": [],
   "source": [
    "# save knn to disk\n",
    "path = 'models/knn.sav'\n",
    "pickle.dump(knn, open(path, 'wb'))"
   ]
  },
  {
   "cell_type": "markdown",
   "metadata": {},
   "source": [
    "---"
   ]
  },
  {
   "cell_type": "markdown",
   "metadata": {},
   "source": [
    "SVM was considered as an alternative model but was not used in view of computation time.\n",
    "\n",
    "Since sklearn's support vector classifier does not have inherent multi-label support, we wrap it with the OneVsRestClassifer function. In view of computation time, we used a linear kernel here (rather than RBF)."
   ]
  },
  {
   "cell_type": "code",
   "execution_count": null,
   "metadata": {
    "collapsed": true
   },
   "outputs": [],
   "source": [
    "# fit linear svm\n",
    "svm = OneVsRestClassifier(SVC(kernel='linear', class_weight='balanced')).fit(x_train, y_train19)"
   ]
  },
  {
   "cell_type": "markdown",
   "metadata": {},
   "source": [
    "---"
   ]
  },
  {
   "cell_type": "markdown",
   "metadata": {},
   "source": [
    "## Logistic Regression Model for Number of Genre Labels"
   ]
  },
  {
   "cell_type": "markdown",
   "metadata": {},
   "source": [
    "In addition to the 19 genre outcomes, we want another model that can predict the number of genres to be assigned to each movie. Using this predicted number, we can then assign genres to each test movie when we also have the predicted probabilities of every genre (obtained from above models). Here, we use logistic regression to predict the number of genre labels, by treating it as a categorical variable (with multiple classes)."
   ]
  },
  {
   "cell_type": "code",
   "execution_count": 47,
   "metadata": {
    "collapsed": true
   },
   "outputs": [],
   "source": [
    "# select number of genre labels as outcome\n",
    "y_train20 = y_train.ix[:, 19]\n",
    "y_test20 = y_test.ix[:, 19]"
   ]
  },
  {
   "cell_type": "code",
   "execution_count": null,
   "metadata": {
    "collapsed": true
   },
   "outputs": [],
   "source": [
    "# fit logistic regression\n",
    "log = LogisticRegression(class_weight='balanced').fit(x_train, y_train20)"
   ]
  },
  {
   "cell_type": "code",
   "execution_count": 36,
   "metadata": {},
   "outputs": [
    {
     "name": "stdout",
     "output_type": "stream",
     "text": [
      "Overall accuracy: 32.35 %\n",
      "\n",
      "Confusion matrix:\n"
     ]
    },
    {
     "data": {
      "text/html": [
       "<div>\n",
       "<table border=\"1\" class=\"dataframe\">\n",
       "  <thead>\n",
       "    <tr style=\"text-align: right;\">\n",
       "      <th>Predicted</th>\n",
       "      <th>0.0</th>\n",
       "      <th>1.0</th>\n",
       "      <th>2.0</th>\n",
       "      <th>3.0</th>\n",
       "      <th>4.0</th>\n",
       "      <th>5.0</th>\n",
       "      <th>6.0</th>\n",
       "      <th>7.0</th>\n",
       "      <th>8.0</th>\n",
       "      <th>All</th>\n",
       "    </tr>\n",
       "    <tr>\n",
       "      <th>True</th>\n",
       "      <th></th>\n",
       "      <th></th>\n",
       "      <th></th>\n",
       "      <th></th>\n",
       "      <th></th>\n",
       "      <th></th>\n",
       "      <th></th>\n",
       "      <th></th>\n",
       "      <th></th>\n",
       "      <th></th>\n",
       "    </tr>\n",
       "  </thead>\n",
       "  <tbody>\n",
       "    <tr>\n",
       "      <th>2.0</th>\n",
       "      <td>38</td>\n",
       "      <td>9719</td>\n",
       "      <td>7378</td>\n",
       "      <td>3782</td>\n",
       "      <td>1124</td>\n",
       "      <td>240</td>\n",
       "      <td>42</td>\n",
       "      <td>4</td>\n",
       "      <td>1</td>\n",
       "      <td>22328</td>\n",
       "    </tr>\n",
       "    <tr>\n",
       "      <th>3.0</th>\n",
       "      <td>0</td>\n",
       "      <td>31</td>\n",
       "      <td>47</td>\n",
       "      <td>58</td>\n",
       "      <td>31</td>\n",
       "      <td>8</td>\n",
       "      <td>1</td>\n",
       "      <td>0</td>\n",
       "      <td>0</td>\n",
       "      <td>176</td>\n",
       "    </tr>\n",
       "    <tr>\n",
       "      <th>4.0</th>\n",
       "      <td>0</td>\n",
       "      <td>13</td>\n",
       "      <td>19</td>\n",
       "      <td>23</td>\n",
       "      <td>14</td>\n",
       "      <td>3</td>\n",
       "      <td>5</td>\n",
       "      <td>0</td>\n",
       "      <td>0</td>\n",
       "      <td>77</td>\n",
       "    </tr>\n",
       "    <tr>\n",
       "      <th>5.0</th>\n",
       "      <td>0</td>\n",
       "      <td>20</td>\n",
       "      <td>18</td>\n",
       "      <td>22</td>\n",
       "      <td>12</td>\n",
       "      <td>8</td>\n",
       "      <td>0</td>\n",
       "      <td>0</td>\n",
       "      <td>0</td>\n",
       "      <td>80</td>\n",
       "    </tr>\n",
       "    <tr>\n",
       "      <th>6.0</th>\n",
       "      <td>0</td>\n",
       "      <td>32</td>\n",
       "      <td>51</td>\n",
       "      <td>95</td>\n",
       "      <td>69</td>\n",
       "      <td>28</td>\n",
       "      <td>6</td>\n",
       "      <td>0</td>\n",
       "      <td>0</td>\n",
       "      <td>281</td>\n",
       "    </tr>\n",
       "    <tr>\n",
       "      <th>7.0</th>\n",
       "      <td>0</td>\n",
       "      <td>12</td>\n",
       "      <td>29</td>\n",
       "      <td>43</td>\n",
       "      <td>17</td>\n",
       "      <td>12</td>\n",
       "      <td>2</td>\n",
       "      <td>0</td>\n",
       "      <td>0</td>\n",
       "      <td>115</td>\n",
       "    </tr>\n",
       "    <tr>\n",
       "      <th>10.0</th>\n",
       "      <td>0</td>\n",
       "      <td>8</td>\n",
       "      <td>4</td>\n",
       "      <td>2</td>\n",
       "      <td>1</td>\n",
       "      <td>0</td>\n",
       "      <td>0</td>\n",
       "      <td>0</td>\n",
       "      <td>0</td>\n",
       "      <td>15</td>\n",
       "    </tr>\n",
       "    <tr>\n",
       "      <th>All</th>\n",
       "      <td>38</td>\n",
       "      <td>9835</td>\n",
       "      <td>7546</td>\n",
       "      <td>4025</td>\n",
       "      <td>1268</td>\n",
       "      <td>299</td>\n",
       "      <td>56</td>\n",
       "      <td>4</td>\n",
       "      <td>1</td>\n",
       "      <td>23072</td>\n",
       "    </tr>\n",
       "  </tbody>\n",
       "</table>\n",
       "</div>"
      ],
      "text/plain": [
       "Predicted  0.0   1.0   2.0   3.0   4.0  5.0  6.0  7.0  8.0    All\n",
       "True                                                             \n",
       "2.0         38  9719  7378  3782  1124  240   42    4    1  22328\n",
       "3.0          0    31    47    58    31    8    1    0    0    176\n",
       "4.0          0    13    19    23    14    3    5    0    0     77\n",
       "5.0          0    20    18    22    12    8    0    0    0     80\n",
       "6.0          0    32    51    95    69   28    6    0    0    281\n",
       "7.0          0    12    29    43    17   12    2    0    0    115\n",
       "10.0         0     8     4     2     1    0    0    0    0     15\n",
       "All         38  9835  7546  4025  1268  299   56    4    1  23072"
      ]
     },
     "execution_count": 36,
     "metadata": {},
     "output_type": "execute_result"
    }
   ],
   "source": [
    "# predict on test set\n",
    "pred_log = log.predict(x_test)\n",
    "\n",
    "# calculate accuracy\n",
    "acc_log = np.mean(pred_log == y_test20)\n",
    "\n",
    "print \"Overall model accuracy:\", round(acc_log * 100, 2), \"%\\n\"\n",
    "print \"Confusion matrix:\"\n",
    "pd.crosstab(pred_log, y_test20, rownames=['True'], colnames=['Predicted'], margins=True)"
   ]
  },
  {
   "cell_type": "markdown",
   "metadata": {},
   "source": [
    "We note that the accuracy of this model which predicts the number of genre labels is fairly low (32%). This is partly due to a large number of classes.\n",
    "\n",
    "However, we know from earlier data exploration that the majority of movies are tagged with 3 or less genres (see Milestone 2). If we believe that it is more important to have few but highly accurate genre tags, as opposed to more but less accurate tags, then in the final combined prediction, we should simply assign each movie 1 or 2 genres with the highest predicted probabilities (eg. from the random forest), rather than using this predicted number of genre labels."
   ]
  },
  {
   "cell_type": "code",
   "execution_count": 37,
   "metadata": {
    "collapsed": true
   },
   "outputs": [],
   "source": [
    "# save log to disk\n",
    "path = 'models/log.sav'\n",
    "pickle.dump(log, open(path, 'wb'))"
   ]
  },
  {
   "cell_type": "markdown",
   "metadata": {},
   "source": [
    "---"
   ]
  },
  {
   "cell_type": "markdown",
   "metadata": {},
   "source": [
    "## Model Comparison"
   ]
  },
  {
   "cell_type": "markdown",
   "metadata": {},
   "source": [
    "Here, we visualize the performance of our two models across all 19 genres."
   ]
  },
  {
   "cell_type": "code",
   "execution_count": 38,
   "metadata": {
    "collapsed": true
   },
   "outputs": [],
   "source": [
    "# convert accuracies to dataframe \n",
    "acc1 = pd.DataFrame(acc_baseline, columns=['Baseline'])\n",
    "acc2 = pd.DataFrame(acc_knn, columns=['KNN'])\n",
    "acc3 = pd.DataFrame(acc_rf, columns=['Random Forest'])\n",
    "\n",
    "# merge into one dataframe\n",
    "acc = pd.concat([acc1, acc2, acc3], axis=1)"
   ]
  },
  {
   "cell_type": "code",
   "execution_count": 41,
   "metadata": {},
   "outputs": [
    {
     "data": {
      "image/png": "[encoded data removed]",
      "text/plain": [
       "<matplotlib.figure.Figure at 0x18705400>"
      ]
     },
     "metadata": {},
     "output_type": "display_data"
    }
   ],
   "source": [
    "# create plot\n",
    "fig, ax = plt.subplots(figsize=(20,7))\n",
    "pos = list(range(len(acc['Baseline'])))\n",
    "width = 0.23\n",
    "\n",
    "# baseline bars\n",
    "plt.bar(pos, acc['Baseline'], width, alpha=0.5, color='green', label='Baseline')\n",
    "\n",
    "# knn bars\n",
    "plt.bar([p + width for p in pos], acc['KNN'], width, alpha=0.5, color='b', label='KNN')\n",
    "\n",
    "# random forest bars\n",
    "plt.bar([p + width*2 for p in pos], acc['Random Forest'], width, alpha=0.5, color='r', label='Random Forest')\n",
    "\n",
    "# labels\n",
    "ax.set_xlabel('Genre')\n",
    "ax.set_ylabel('Test Accuracy')\n",
    "ax.set_title('Model Evaluation')\n",
    "ax.set_xticks([p + 1.5 * width for p in pos])\n",
    "ax.set_xticklabels(acc.index)\n",
    "\n",
    "# limits\n",
    "plt.xlim(min(pos)-width, max(pos)+width*4)\n",
    "plt.ylim(0.5, 1.0)\n",
    "\n",
    "# overall accuracies\n",
    "plt.axhline(y=0.90, color='r', linestyle='dashed')\n",
    "plt.axhline(y=0.89, color='b', linestyle='dashed')\n",
    "plt.axhline(y=0.81, color='g', linestyle='dashed')\n",
    "\n",
    "plt.legend(loc='lower left')\n",
    "plt.grid()\n",
    "plt.tight_layout()\n",
    "plt.show()"
   ]
  },
  {
   "cell_type": "code",
   "execution_count": 39,
   "metadata": {
    "collapsed": true
   },
   "outputs": [],
   "source": [
    "# save to csv\n",
    "acc.to_csv('model_acc.csv')"
   ]
  },
  {
   "cell_type": "code",
   "execution_count": 36,
   "metadata": {},
   "outputs": [
    {
     "name": "stdout",
     "output_type": "stream",
     "text": [
      "genre\t baseline\t random forest\t knn\t\n",
      "Adventure 0.075 0.571 0.484\n",
      "Fantasy 0.044 1.0 0.484\n",
      "Animation 0.056 0.992 0.905\n",
      "Drama 0.416 0.674 0.486\n",
      "Horror 0.1 0.952 0.497\n",
      "Action 0.16 0.969 0.559\n",
      "Comedy 0.315 0.669 0.377\n",
      "History 0.024 1.0 0.091\n",
      "Western 0.025 1.0 0.714\n",
      "Thriller 0.146 0.727 0.353\n",
      "Crime 0.084 0.75 0.22\n",
      "Documentary 0.092 0.944 0.498\n",
      "Science Fiction 0.061 1.0 0.386\n",
      "Mystery 0.044 1.0 0.643\n",
      "Music 0.036 1.0 0.77\n",
      "Romance 0.136 0.895 0.309\n",
      "Family 0.072 0.921 0.658\n",
      "War 0.026 1.0 0.458\n",
      "Foreign 0.067 1.0 0.21\n"
     ]
    }
   ],
   "source": [
    "labels=y_test19.columns.tolist()\n",
    "print('genre\\t','baseline\\t','random forest\\t','knn\\t')\n",
    "prec_baselines,prec_rfs,prec_knns=[],[],[]\n",
    "for i in range(len(labels)):\n",
    "    prec_base= round(metrics.precision_score(y_test19.iloc[:,i], pred_baseline[:,i], average='binary'),3)\n",
    "    prec_rf=round(metrics.precision_score(y_test19.iloc[:,i], pred_rf[:,i], average='binary'),3)\n",
    "    prec_knn=round(metrics.precision_score(y_test19.iloc[:,i], pred_knn[:,i], average='binary'),3)\n",
    "    print(labels[i],prec_base,prec_rf,prec_knn)\n",
    "    prec_baselines.append(prec_base)\n",
    "    prec_rfs.append(prec_rf)\n",
    "    prec_knns.append(prec_knn)\n",
    "   "
   ]
  },
  {
   "cell_type": "code",
   "execution_count": 40,
   "metadata": {
    "collapsed": true
   },
   "outputs": [],
   "source": [
    "# convert precuracies to dataframe \n",
    "prec1 = pd.DataFrame(prec_baselines, columns=['Baseline'])\n",
    "prec2 = pd.DataFrame(prec_knns, columns=['KNN'])\n",
    "prec3 = pd.DataFrame(prec_rfs, columns=['Random Forest'])\n",
    "\n",
    "# merge into one dataframe\n",
    "prec = pd.concat([prec1, prec2, prec3], axis=1)\n",
    "prec.index=labels"
   ]
  },
  {
   "cell_type": "code",
   "execution_count": 41,
   "metadata": {},
   "outputs": [
    {
     "data": {
      "text/html": [
       "<div>\n",
       "<table border=\"1\" class=\"dataframe\">\n",
       "  <thead>\n",
       "    <tr style=\"text-align: right;\">\n",
       "      <th></th>\n",
       "      <th>Baseline</th>\n",
       "      <th>KNN</th>\n",
       "      <th>Random Forest</th>\n",
       "    </tr>\n",
       "  </thead>\n",
       "  <tbody>\n",
       "    <tr>\n",
       "      <th>Adventure</th>\n",
       "      <td>0.075</td>\n",
       "      <td>0.484</td>\n",
       "      <td>0.571</td>\n",
       "    </tr>\n",
       "    <tr>\n",
       "      <th>Fantasy</th>\n",
       "      <td>0.044</td>\n",
       "      <td>0.484</td>\n",
       "      <td>1.000</td>\n",
       "    </tr>\n",
       "    <tr>\n",
       "      <th>Animation</th>\n",
       "      <td>0.056</td>\n",
       "      <td>0.905</td>\n",
       "      <td>0.992</td>\n",
       "    </tr>\n",
       "    <tr>\n",
       "      <th>Drama</th>\n",
       "      <td>0.416</td>\n",
       "      <td>0.486</td>\n",
       "      <td>0.674</td>\n",
       "    </tr>\n",
       "    <tr>\n",
       "      <th>Horror</th>\n",
       "      <td>0.100</td>\n",
       "      <td>0.497</td>\n",
       "      <td>0.952</td>\n",
       "    </tr>\n",
       "    <tr>\n",
       "      <th>Action</th>\n",
       "      <td>0.160</td>\n",
       "      <td>0.559</td>\n",
       "      <td>0.969</td>\n",
       "    </tr>\n",
       "    <tr>\n",
       "      <th>Comedy</th>\n",
       "      <td>0.315</td>\n",
       "      <td>0.377</td>\n",
       "      <td>0.669</td>\n",
       "    </tr>\n",
       "    <tr>\n",
       "      <th>History</th>\n",
       "      <td>0.024</td>\n",
       "      <td>0.091</td>\n",
       "      <td>1.000</td>\n",
       "    </tr>\n",
       "    <tr>\n",
       "      <th>Western</th>\n",
       "      <td>0.025</td>\n",
       "      <td>0.714</td>\n",
       "      <td>1.000</td>\n",
       "    </tr>\n",
       "    <tr>\n",
       "      <th>Thriller</th>\n",
       "      <td>0.146</td>\n",
       "      <td>0.353</td>\n",
       "      <td>0.727</td>\n",
       "    </tr>\n",
       "    <tr>\n",
       "      <th>Crime</th>\n",
       "      <td>0.084</td>\n",
       "      <td>0.220</td>\n",
       "      <td>0.750</td>\n",
       "    </tr>\n",
       "    <tr>\n",
       "      <th>Documentary</th>\n",
       "      <td>0.092</td>\n",
       "      <td>0.498</td>\n",
       "      <td>0.944</td>\n",
       "    </tr>\n",
       "    <tr>\n",
       "      <th>Science Fiction</th>\n",
       "      <td>0.061</td>\n",
       "      <td>0.386</td>\n",
       "      <td>1.000</td>\n",
       "    </tr>\n",
       "    <tr>\n",
       "      <th>Mystery</th>\n",
       "      <td>0.044</td>\n",
       "      <td>0.643</td>\n",
       "      <td>1.000</td>\n",
       "    </tr>\n",
       "    <tr>\n",
       "      <th>Music</th>\n",
       "      <td>0.036</td>\n",
       "      <td>0.770</td>\n",
       "      <td>1.000</td>\n",
       "    </tr>\n",
       "    <tr>\n",
       "      <th>Romance</th>\n",
       "      <td>0.136</td>\n",
       "      <td>0.309</td>\n",
       "      <td>0.895</td>\n",
       "    </tr>\n",
       "    <tr>\n",
       "      <th>Family</th>\n",
       "      <td>0.072</td>\n",
       "      <td>0.658</td>\n",
       "      <td>0.921</td>\n",
       "    </tr>\n",
       "    <tr>\n",
       "      <th>War</th>\n",
       "      <td>0.026</td>\n",
       "      <td>0.458</td>\n",
       "      <td>1.000</td>\n",
       "    </tr>\n",
       "    <tr>\n",
       "      <th>Foreign</th>\n",
       "      <td>0.067</td>\n",
       "      <td>0.210</td>\n",
       "      <td>1.000</td>\n",
       "    </tr>\n",
       "  </tbody>\n",
       "</table>\n",
       "</div>"
      ],
      "text/plain": [
       "                 Baseline    KNN  Random Forest\n",
       "Adventure           0.075  0.484          0.571\n",
       "Fantasy             0.044  0.484          1.000\n",
       "Animation           0.056  0.905          0.992\n",
       "Drama               0.416  0.486          0.674\n",
       "Horror              0.100  0.497          0.952\n",
       "Action              0.160  0.559          0.969\n",
       "Comedy              0.315  0.377          0.669\n",
       "History             0.024  0.091          1.000\n",
       "Western             0.025  0.714          1.000\n",
       "Thriller            0.146  0.353          0.727\n",
       "Crime               0.084  0.220          0.750\n",
       "Documentary         0.092  0.498          0.944\n",
       "Science Fiction     0.061  0.386          1.000\n",
       "Mystery             0.044  0.643          1.000\n",
       "Music               0.036  0.770          1.000\n",
       "Romance             0.136  0.309          0.895\n",
       "Family              0.072  0.658          0.921\n",
       "War                 0.026  0.458          1.000\n",
       "Foreign             0.067  0.210          1.000"
      ]
     },
     "execution_count": 41,
     "metadata": {},
     "output_type": "execute_result"
    }
   ],
   "source": [
    "prec"
   ]
  },
  {
   "cell_type": "markdown",
   "metadata": {},
   "source": [
    "### [UPDATE] New Plots of Precision/Recall by Genre"
   ]
  },
  {
   "cell_type": "code",
   "execution_count": 54,
   "metadata": {},
   "outputs": [
    {
     "data": {
      "image/png": "[encoded data removed]",
      "text/plain": [
       "<matplotlib.figure.Figure at 0x7fcb79b8f8d0>"
      ]
     },
     "metadata": {},
     "output_type": "display_data"
    }
   ],
   "source": [
    "# create plot\n",
    "fig, ax = plt.subplots(figsize=(20,7))\n",
    "pos = list(range(len(prec['Baseline'])))\n",
    "width = 0.23\n",
    "\n",
    "# baseline bars\n",
    "plt.bar(pos, prec['Baseline'], width, alpha=0.5, color='green', label='Baseline')\n",
    "\n",
    "# knn bars\n",
    "plt.bar([p + width for p in pos], prec['KNN'], width, alpha=0.5, color='b', label='KNN')\n",
    "\n",
    "# random forest bars\n",
    "plt.bar([p + width*2 for p in pos], prec['Random Forest'], width, alpha=0.5, color='r', label='Random Forest')\n",
    "\n",
    "# labels\n",
    "ax.set_xlabel('Genre')\n",
    "ax.set_ylabel('Test precision')\n",
    "ax.set_title('Model Evaluation-precision rate over genres')\n",
    "ax.set_xticks([p + 1.5 * width for p in pos])\n",
    "ax.set_xticklabels(prec.index)\n",
    "\n",
    "# limits\n",
    "plt.xlim(min(pos)-width, max(pos)+width*4)\n",
    "plt.ylim(0.0, 1.0)\n",
    "\n",
    "# overall precision\n",
    "plt.axhline(y=0.814, color='r', linestyle='dashed')\n",
    "plt.axhline(y=0.374, color='b', linestyle='dashed')\n",
    "plt.axhline(y=0.196, color='g', linestyle='dashed')\n",
    "\n",
    "plt.legend(loc='lower left')\n",
    "plt.grid()\n",
    "plt.tight_layout()\n",
    "plt.savefig('/data/precision.png')\n",
    "plt.show()"
   ]
  },
  {
   "cell_type": "code",
   "execution_count": 45,
   "metadata": {},
   "outputs": [
    {
     "name": "stdout",
     "output_type": "stream",
     "text": [
      "genre\t baseline\t random forest\t knn\t\n",
      "Adventure 0.111 0.005 0.029\n",
      "Fantasy 0.099 0.005 0.028\n",
      "Animation 0.103 0.093 0.204\n",
      "Drama 0.106 0.459 0.341\n",
      "Horror 0.099 0.008 0.073\n",
      "Action 0.111 0.009 0.06\n",
      "Comedy 0.113 0.083 0.348\n",
      "History 0.096 0.003 0.003\n",
      "Western 0.103 0.007 0.086\n",
      "Thriller 0.104 0.009 0.044\n",
      "Crime 0.098 0.004 0.031\n",
      "Documentary 0.108 0.107 0.152\n",
      "Science Fiction 0.098 0.002 0.015\n",
      "Mystery 0.097 0.002 0.025\n",
      "Music 0.082 0.007 0.177\n",
      "Romance 0.102 0.005 0.048\n",
      "Family 0.103 0.022 0.076\n",
      "War 0.109 0.002 0.019\n",
      "Foreign 0.096 0.006 0.013\n"
     ]
    }
   ],
   "source": [
    "#labels=y_test19.columns.tolist()\n",
    "print('genre\\t','baseline\\t','random forest\\t','knn\\t')\n",
    "rec_baselines,rec_rfs,rec_knns=[],[],[]\n",
    "for i in range(len(labels)):\n",
    "    rec_base= round(metrics.recall_score(y_test19.iloc[:,i], pred_baseline[:,i], average='binary'),3)\n",
    "    rec_rf=round(metrics.recall_score(y_test19.iloc[:,i], pred_rf[:,i], average='binary'),3)\n",
    "    rec_knn=round(metrics.recall_score(y_test19.iloc[:,i], pred_knn[:,i], average='binary'),3)\n",
    "    print(labels[i],rec_base,rec_rf,rec_knn)\n",
    "    rec_baselines.append(rec_base)\n",
    "    rec_rfs.append(rec_rf)\n",
    "    rec_knns.append(rec_knn)"
   ]
  },
  {
   "cell_type": "code",
   "execution_count": 47,
   "metadata": {
    "collapsed": true
   },
   "outputs": [],
   "source": [
    "# convert recuracies to dataframe \n",
    "rec1 = pd.DataFrame(rec_baselines, columns=['Baseline'])\n",
    "rec2 = pd.DataFrame(rec_knns, columns=['KNN'])\n",
    "rec3 = pd.DataFrame(rec_rfs, columns=['Random Forest'])\n",
    "\n",
    "# merge into one dataframe\n",
    "rec = pd.concat([rec1, rec2, rec3], axis=1)\n",
    "rec.index=labels"
   ]
  },
  {
   "cell_type": "code",
   "execution_count": 55,
   "metadata": {
    "scrolled": true
   },
   "outputs": [
    {
     "data": {
      "image/png": "[encoded data removed]",
      "text/plain": [
       "<matplotlib.figure.Figure at 0x7fcb79d526d8>"
      ]
     },
     "metadata": {},
     "output_type": "display_data"
    }
   ],
   "source": [
    "# create plot\n",
    "fig, ax = plt.subplots(figsize=(20,7))\n",
    "pos = list(range(len(rec['Baseline'])))\n",
    "width = 0.23\n",
    "\n",
    "# baseline bars\n",
    "plt.bar(pos, rec['Baseline'], width, alpha=0.5, color='green', label='Baseline')\n",
    "\n",
    "# knn bars\n",
    "plt.bar([p + width for p in pos], rec['KNN'], width, alpha=0.5, color='b', label='KNN')\n",
    "\n",
    "# random forest bars\n",
    "plt.bar([p + width*2 for p in pos], rec['Random Forest'], width, alpha=0.5, color='r', label='Random Forest')\n",
    "\n",
    "# labels\n",
    "ax.set_xlabel('Genre')\n",
    "ax.set_ylabel('Test recall')\n",
    "ax.set_title('Model Evaluation-Recall rate over genres')\n",
    "ax.set_xticks([p + 1.5 * width for p in pos])\n",
    "ax.set_xticklabels(rec.index)\n",
    "\n",
    "# limits\n",
    "plt.xlim(min(pos)-width, max(pos)+width*4)\n",
    "plt.ylim(0.0, 0.5)\n",
    "\n",
    "# overall recall\n",
    "plt.axhline(y=0.122, color='r', linestyle='dashed')\n",
    "plt.axhline(y=0.184, color='b', linestyle='dashed')\n",
    "plt.axhline(y=0.105, color='g', linestyle='dashed')\n",
    "\n",
    "plt.legend(loc='lower left')\n",
    "plt.grid()\n",
    "plt.tight_layout()\n",
    "plt.savefig('/data/recall.png')\n",
    "plt.show()"
   ]
  },
  {
   "cell_type": "markdown",
   "metadata": {},
   "source": [
    "In general, both models achieved pretty similar test accuracy results across all genres, with the random forest model (overall accuracy 90%) slightly edging out the kNN model (overall accuracy 89%). Both models performed better than the baseline model (overall accuracy 81%), which was intentionally designed as a very high benchmark. The hardest genres to predict correctly were drama and comedy (test accuracies below 80%). Both models are able to deal well with non-linear decision boundaries. \n",
    "\n",
    "Since the majority of the genre labels are negative (coded '0'), we might want to focus on the positive flags. As opposed to test accuracy, the F1 score which is derived from precision and recall, does not give any credit for classifying true negatives. \n",
    "\n",
    "Ignoring the true negatives, we see a different model comparison. Although the kNN model has lower precision than the random forest, it has higher recall, leading to an overall higher F1 score. Recall reflects the model's ability to find all the positive flags, while precision reflects the model's ability to not flag as positive a genre that is negative. \n",
    "\n",
    "However, as mentioned in the earlier section, we may tend to prefer fewer but highly spot-on genre labels, as opposed to more but less accurate labels. As such, we might consider precision to be more important. If we weight precision more than recall, then the random forest may still turn out to be better."
   ]
  },
  {
   "cell_type": "markdown",
   "metadata": {},
   "source": [
    "---"
   ]
  },
  {
   "cell_type": "markdown",
   "metadata": {},
   "source": [
    "## Discussion"
   ]
  },
  {
   "cell_type": "markdown",
   "metadata": {},
   "source": [
    "We believe these are the strengths of our models:\n",
    "- Large sample size (~70,000 observations in total, ~47,000 in training set and ~23,000 in testing set)\n",
    "- Wide variety of promising predictors which were scraped from both IMDb and TMDb\n",
    "- Use of methods that were appropriate for the multi-label problem\n",
    "- Accounted for class imbalance\n",
    "\n",
    "Our models had several weaknesses which we could have improved on as follows:\n",
    "- The parameters of our models were not optimized. Given more time, we would conduct parameter tuning of our models to improve their performance.\n",
    "- We note the large number of predictor (X) variables in our dataset (almost 880 including dummy variables). We could have applied PCA prior to modelling for dimensionality reduction. We could have also coded 'release year' into decades or five-year intervals instead of dummy-coding it directly to reduce the number of predictors somewhat.\n",
    "- We could have incorporated poster data into our models. However, conversion of the w500 posters into pixel arrays resulted in a large matrix with 1,125,000 features (see Milestone 2). Given the large size of this matrix, it would not have been possible to load and manipulate it on our local machines.\n",
    "- We could have explored other possible models such as SVM, LDA/QDA, boosting etc. and compared them.\n",
    "- We could have considered other performance metrics such as sensitivity/specificity, AUC under ROC or precision-recall curve etc."
   ]
  },
  {
   "cell_type": "markdown",
   "metadata": {},
   "source": [
    "---"
   ]
  },
  {
   "cell_type": "markdown",
   "metadata": {},
   "source": [
    "## Next Steps"
   ]
  },
  {
   "cell_type": "markdown",
   "metadata": {
    "collapsed": true
   },
   "source": [
    "Moving forward, we will employ deep learning for this task and train a network using movie poster images on AWS. We can compare its performance to the above traditional models trained on movie metadata and even combine both of them together."
   ]
  }
 ],
 "metadata": {
  "anaconda-cloud": {},
  "kernelspec": {
   "display_name": "Python [Root]",
   "language": "python",
   "name": "Python [Root]"
  },
  "language_info": {
   "codemirror_mode": {
    "name": "ipython",
    "version": 2
   },
   "file_extension": ".py",
   "mimetype": "text/x-python",
   "name": "python",
   "nbconvert_exporter": "python",
   "pygments_lexer": "ipython2",
   "version": "2.7.12"
  }
 },
 "nbformat": 4,
 "nbformat_minor": 1
}
