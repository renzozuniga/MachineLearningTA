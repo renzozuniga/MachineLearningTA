{
 "cells": [
  {
   "cell_type": "markdown",
   "metadata": {},
   "source": [
    "# Milestone 1 - CS109B Project Group 29\n",
    "**\"Predicting Movie Genres\"**<br>\n",
    "**CS109B (Spring 2017) Final Project Group 29**<br>\n",
    "Calvin J Chiew, Tim Hagmann, Ji Hua<br>\n",
    "TF: Alyssa Wilson<br>"
   ]
  },
  {
   "cell_type": "markdown",
   "metadata": {},
   "source": [
    "## Deliverables\n",
    "\n",
    "- API code to access the genre and movie poster path of your favorite movie\n",
    "- Genre for this movie listed by TMDb and IMDb\n",
    "- A list of the 10 most popular movies of 2016 from TMDb and their genre obtained via the API\n",
    "- Comments on what challenges you see for predicting movie genre based on the data you have, and how to address them \n",
    "- Code to generate the movie genre pairs and a suitable visualization of the result\n",
    "- Additional visualization sketches and EDA with a focus on movie genres\n",
    "- A list of questions you could answer with this and related data. Get creative here!"
   ]
  },
  {
   "cell_type": "markdown",
   "metadata": {},
   "source": [
    "## Import Libraries"
   ]
  },
  {
   "cell_type": "code",
   "execution_count": 1,
   "metadata": {
    "collapsed": true
   },
   "outputs": [],
   "source": [
    "import json\n",
    "import numpy as np\n",
    "import pandas as pd\n",
    "import matplotlib\n",
    "import matplotlib.pyplot as plt\n",
    "%matplotlib inline\n",
    "import random\n",
    "from bs4 import BeautifulSoup\n",
    "import urllib\n",
    "from urllib import urlopen\n",
    "import threading\n",
    "from threading import Timer\n",
    "from time import time, sleep\n",
    "import io\n",
    "import seaborn as sns"
   ]
  },
  {
   "cell_type": "markdown",
   "metadata": {},
   "source": [
    "In this project, we want to predict movie genres using movie posters and other movie metadata. The two sources of data are TMDb and IMDb, which will be accessed using the TMDb API and IMDbPY package respectively."
   ]
  },
  {
   "cell_type": "markdown",
   "metadata": {},
   "source": [
    "## Our Favorite Movie"
   ]
  },
  {
   "cell_type": "markdown",
   "metadata": {},
   "source": [
    "Our favorite movie is \"The Shawshank Redemption\". Using the TMDb API, we obtain this movie's genre and poster path, which we link to below."
   ]
  },
  {
   "cell_type": "code",
   "execution_count": 2,
   "metadata": {},
   "outputs": [
    {
     "data": {
      "text/plain": [
       "u'\\t/9O7gLzmreU0nGkIB6K3BsJbzvNv.jpg,,Drama,Crime'"
      ]
     },
     "execution_count": 2,
     "metadata": {},
     "output_type": "execute_result"
    }
   ],
   "source": [
    "def get_movie(movie_id):\n",
    "    url_string=\"https://api.themoviedb.org/3/movie/\"+str(movie_id)+\"?api_key=1cc37144dc84322526d9b17191ff00bb&language=en-US\"\n",
    "    url=urlopen(url_string)\n",
    "    content = url.read()\n",
    "    data=json.loads(content)\n",
    "    if 'status_code' in data:\n",
    "        pass\n",
    "    else:\n",
    "        line=u\"\"\n",
    "        line=line+u\"\\t\"+str(data['poster_path']).decode('utf8') ## poster path\n",
    "        ## genres\n",
    "        genres_string=\"\"\n",
    "        for g in data['genres']:\n",
    "            genres_string=genres_string+\",\"+g['name']\n",
    "        line=line+u\",\"+genres_string\n",
    "        return line\n",
    "    \n",
    "get_movie(278)"
   ]
  },
  {
   "cell_type": "markdown",
   "metadata": {},
   "source": [
    "![](https://image.tmdb.org/t/p/w185/9O7gLzmreU0nGkIB6K3BsJbzvNv.jpg)"
   ]
  },
  {
   "cell_type": "markdown",
   "metadata": {},
   "source": [
    "We compare this against the movie's genre listings on IMDb. In this case, they are exactly the same (although they may not necessarily be for other movies).\n",
    "- Genre tags of \"The Shawshank Redemption\" in TMDb: Drama, Crime\n",
    "- Genre tags of \"The Shawshank Redemption\" in IMDb: Drama, Crime"
   ]
  },
  {
   "cell_type": "markdown",
   "metadata": {},
   "source": [
    "---"
   ]
  },
  {
   "cell_type": "markdown",
   "metadata": {},
   "source": [
    "## Top 10 Movies of 2016"
   ]
  },
  {
   "cell_type": "code",
   "execution_count": 3,
   "metadata": {},
   "outputs": [
    {
     "data": {
      "text/plain": [
       "{12: u'Adventure',\n",
       " 14: u'Fantasy',\n",
       " 16: u'Animation',\n",
       " 18: u'Drama',\n",
       " 27: u'Horror',\n",
       " 28: u'Action',\n",
       " 35: u'Comedy',\n",
       " 36: u'History',\n",
       " 37: u'Western',\n",
       " 53: u'Thriller',\n",
       " 80: u'Crime',\n",
       " 99: u'Documentary',\n",
       " 878: u'Science Fiction',\n",
       " 9648: u'Mystery',\n",
       " 10402: u'Music',\n",
       " 10749: u'Romance',\n",
       " 10751: u'Family',\n",
       " 10752: u'War',\n",
       " 10770: u'TV Movie'}"
      ]
     },
     "execution_count": 3,
     "metadata": {},
     "output_type": "execute_result"
    }
   ],
   "source": [
    "url = urlopen(\"https://api.themoviedb.org/3/genre/movie/list?api_key=1cc37144dc84322526d9b17191ff00bb&language=en-US\")\n",
    "content = url.read()\n",
    "data = json.loads(content)\n",
    "\n",
    "genre_dict={}\n",
    "for x in data['genres']:\n",
    "    genre_dict[x['id']]=x['name']\n",
    "\n",
    "genre_dict"
   ]
  },
  {
   "cell_type": "markdown",
   "metadata": {},
   "source": [
    "We see that TMDb uses a total of 19 categories for their genre classification, as listed above. Now, we retrieve a list of the top 10 most popular movies in 2016 and their genres from TMDb, as shown below."
   ]
  },
  {
   "cell_type": "code",
   "execution_count": 4,
   "metadata": {},
   "outputs": [
    {
     "data": {
      "text/plain": [
       "{'Arrival': ['Drama', 'Science Fiction'],\n",
       " 'Captain America: Civil War': ['Action', 'Science Fiction'],\n",
       " 'Deadpool': ['Action', 'Adventure', 'Comedy', 'Romance'],\n",
       " 'Doctor Strange': ['Action', 'Adventure', 'Fantasy', 'Science Fiction'],\n",
       " 'Fantastic Beasts and Where to Find Them': ['Adventure', 'Action', 'Fantasy'],\n",
       " 'Finding Dory': ['Adventure', 'Animation', 'Comedy', 'Family'],\n",
       " 'Lion': ['Drama'],\n",
       " 'Rogue One: A Star Wars Story': ['Action', 'Drama', 'Science Fiction', 'War'],\n",
       " 'Sing': ['Animation', 'Comedy', 'Drama', 'Family', 'Music'],\n",
       " 'Underworld: Blood Wars': ['Action', 'Horror']}"
      ]
     },
     "execution_count": 4,
     "metadata": {},
     "output_type": "execute_result"
    }
   ],
   "source": [
    "url = urlopen(\"https://api.themoviedb.org/3/discover/movie?api_key=1cc37144dc84322526d9b17191ff00bb&language=en-US&sort_by=popularity.desc&include_adult=false&include_video=false&page=1&primary_release_year=2016\")\n",
    "content = url.read()\n",
    "data = json.loads(content)\n",
    "\n",
    "movie_dict={}\n",
    "count=0\n",
    "for x in data['results']:\n",
    "    count+=1\n",
    "    genre_ids=x['genre_ids']\n",
    "    genre_list=[]\n",
    "    for i in genre_ids:\n",
    "        genre_list.append(str(genre_dict[i]))\n",
    "    movie_dict[str(x['title'])]=genre_list\n",
    "    if count>=10:\n",
    "        break\n",
    "        \n",
    "movie_dict"
   ]
  },
  {
   "cell_type": "markdown",
   "metadata": {},
   "source": [
    "---"
   ]
  },
  {
   "cell_type": "markdown",
   "metadata": {},
   "source": [
    "## Data Scraping"
   ]
  },
  {
   "cell_type": "markdown",
   "metadata": {},
   "source": [
    "We used the TMDb API to extract information on movies from `tmdb_id` of 1 to 10000. Half of the `tmdb_id`'s were empty, returning about 5000 records.\n",
    "\n",
    "We note that the `tmdb_id`'s run up to about 600000. Given that the TMDb API only allows 40 queries every 10 seconds, we estimate it will take us about 42 hours to scrape the entire database. \n",
    "\n",
    "Therefore, for the purposes of this milestone and EDA, we will simply use this limited sample of 5000 records, in view of time constraints. We checked the release years of these movies and they do represent a good mix of old and recent movies. Moving forward, we will scrape the full database of movies to prepare our training data in Milestone 2."
   ]
  },
  {
   "cell_type": "code",
   "execution_count": 5,
   "metadata": {
    "collapsed": true
   },
   "outputs": [],
   "source": [
    "class RepeatedTimer(object):\n",
    "    def __init__(self, interval, function, *args, **kwargs):\n",
    "        self._timer     = None\n",
    "        self.interval   = interval\n",
    "        self.function   = function\n",
    "        self.args       = args\n",
    "        self.kwargs     = kwargs\n",
    "        self.is_running = False\n",
    "        self.start()\n",
    "\n",
    "    def _run(self):\n",
    "        self.is_running = False\n",
    "        self.start()\n",
    "        self.function(*self.args, **self.kwargs)\n",
    "\n",
    "    def start(self):\n",
    "        if not self.is_running:\n",
    "            self._timer = Timer(self.interval, self._run)\n",
    "            self._timer.start()\n",
    "            self.is_running = True\n",
    "\n",
    "    def stop(self):\n",
    "        self._timer.cancel()\n",
    "        self.is_running = False"
   ]
  },
  {
   "cell_type": "code",
   "execution_count": null,
   "metadata": {
    "collapsed": true
   },
   "outputs": [],
   "source": [
    "target = io.open(\"data/tmdb_movie_info.txt\", 'w',encoding=\"utf8\")\n",
    "line=u\"tmdb_id\\timdb_id\\ttitle\\tplot\\tposter_path\\trelease_date\\tbudget\\trevenue\\truntime\\tpopularity\\tuser_rating\\tproduction_company\\tgenres\"\n",
    "target.write(line+'\\n')\n",
    "for i in range(250):\n",
    "    startTime = time()\n",
    "    movie_ids=np.arange(40*i+1,40*(i+1)+1)\n",
    "    for movie_id in movie_ids:\n",
    "        url_string=\"https://api.themoviedb.org/3/movie/\"+str(movie_id)+\"?api_key=1cc37144dc84322526d9b17191ff00bb&language=en-US\"\n",
    "        url=urlopen(url_string)\n",
    "        content = url.read()\n",
    "        data=json.loads(content)\n",
    "        if 'status_code' in data:\n",
    "            pass\n",
    "        else:\n",
    "            line=u\"\"\n",
    "            line=line+str(data['id']).decode('utf8') #tmdb_id\n",
    "            line=line+u\"\\t\"+data['imdb_id'].replace(\"t\",\"\") #imdb_id\n",
    "            line=line+u\"\\t\"+data['title'] ## title\n",
    "            line=line+u\"\\t\"+data['overview'] ##plot\n",
    "            line=line+u\"\\t\"+str(data['poster_path']).decode('utf8') ## poster path\n",
    "            line=line+u\"\\t\"+data['release_date'] ## release date\n",
    "            line=line+u\"\\t\"+str(data['budget']).decode('utf8') ## budget\n",
    "            line=line+u\"\\t\"+str(data['revenue']).decode('utf8') ##revenue\n",
    "            line=line+u\"\\t\"+str(data['runtime']).decode('utf8') ##runtime\n",
    "            line=line+u\"\\t\"+str(data['popularity']).decode('utf8')##tmdb popularity\n",
    "            line=line+u\"\\t\"+str(data['vote_average']).decode('utf8') ## user rating\n",
    "            ## production company\n",
    "            company_string=\"\"\n",
    "            for c in data['production_companies']:\n",
    "                company_string=company_string+\",\"+c['name']\n",
    "            line=line+u\"\\t\"+company_string\n",
    "\n",
    "            ## genres\n",
    "            genres_string=\"\"\n",
    "            for g in data['genres']:\n",
    "                genres_string=genres_string+\",\"+g['name']\n",
    "            line=line+u\"\\t\"+genres_string\n",
    "            target.write(line+'\\n')\n",
    "    endTime = time()-startTime\n",
    "    target.flush()\n",
    "    print i,endTime\n",
    "    if endTime<10.0:\n",
    "        sleep(10.0-endTime)\n",
    "    else:\n",
    "        continue\n",
    "\n",
    "target.close()"
   ]
  },
  {
   "cell_type": "markdown",
   "metadata": {},
   "source": [
    "You can view the raw data file we gathered on our GitHub repository here: https://github.com/greenore/deep-learning-project/tree/master/milestone1/data"
   ]
  },
  {
   "cell_type": "markdown",
   "metadata": {},
   "source": [
    "---"
   ]
  },
  {
   "cell_type": "markdown",
   "metadata": {},
   "source": [
    "## Heatmap of Genre Correlation"
   ]
  },
  {
   "cell_type": "markdown",
   "metadata": {},
   "source": [
    "In this section, we want to generate a heatmap of the movie genre pairs, to see which genres tend to go together. We pre-processed the data we scraped earlier into a csv file, with columns of binary flags for the 19 TMDb genres, and about 5000 rows of movies."
   ]
  },
  {
   "cell_type": "code",
   "execution_count": 3,
   "metadata": {},
   "outputs": [
    {
     "data": {
      "text/html": [
       "<div>\n",
       "<table border=\"1\" class=\"dataframe\">\n",
       "  <thead>\n",
       "    <tr style=\"text-align: right;\">\n",
       "      <th></th>\n",
       "      <th>tmdb_id</th>\n",
       "      <th>Adventure</th>\n",
       "      <th>Fantasy</th>\n",
       "      <th>Animation</th>\n",
       "      <th>Drama</th>\n",
       "      <th>Horror</th>\n",
       "      <th>Action</th>\n",
       "      <th>Comedy</th>\n",
       "      <th>History</th>\n",
       "      <th>Western</th>\n",
       "      <th>...</th>\n",
       "      <th>Crime</th>\n",
       "      <th>Documentary</th>\n",
       "      <th>Science Fiction</th>\n",
       "      <th>Mystery</th>\n",
       "      <th>Music</th>\n",
       "      <th>Romance</th>\n",
       "      <th>Family</th>\n",
       "      <th>War</th>\n",
       "      <th>TVMovie</th>\n",
       "      <th>Foreign</th>\n",
       "    </tr>\n",
       "  </thead>\n",
       "  <tbody>\n",
       "    <tr>\n",
       "      <th>0</th>\n",
       "      <td>616</td>\n",
       "      <td>0</td>\n",
       "      <td>0</td>\n",
       "      <td>0</td>\n",
       "      <td>1</td>\n",
       "      <td>0</td>\n",
       "      <td>0</td>\n",
       "      <td>0</td>\n",
       "      <td>0</td>\n",
       "      <td>0</td>\n",
       "      <td>...</td>\n",
       "      <td>1</td>\n",
       "      <td>0</td>\n",
       "      <td>0</td>\n",
       "      <td>0</td>\n",
       "      <td>0</td>\n",
       "      <td>0</td>\n",
       "      <td>0</td>\n",
       "      <td>0</td>\n",
       "      <td>0</td>\n",
       "      <td>0</td>\n",
       "    </tr>\n",
       "    <tr>\n",
       "      <th>1</th>\n",
       "      <td>1302</td>\n",
       "      <td>0</td>\n",
       "      <td>0</td>\n",
       "      <td>0</td>\n",
       "      <td>1</td>\n",
       "      <td>0</td>\n",
       "      <td>0</td>\n",
       "      <td>1</td>\n",
       "      <td>0</td>\n",
       "      <td>0</td>\n",
       "      <td>...</td>\n",
       "      <td>0</td>\n",
       "      <td>0</td>\n",
       "      <td>0</td>\n",
       "      <td>0</td>\n",
       "      <td>0</td>\n",
       "      <td>0</td>\n",
       "      <td>0</td>\n",
       "      <td>0</td>\n",
       "      <td>0</td>\n",
       "      <td>0</td>\n",
       "    </tr>\n",
       "    <tr>\n",
       "      <th>2</th>\n",
       "      <td>2364</td>\n",
       "      <td>0</td>\n",
       "      <td>0</td>\n",
       "      <td>0</td>\n",
       "      <td>0</td>\n",
       "      <td>0</td>\n",
       "      <td>0</td>\n",
       "      <td>1</td>\n",
       "      <td>0</td>\n",
       "      <td>0</td>\n",
       "      <td>...</td>\n",
       "      <td>0</td>\n",
       "      <td>0</td>\n",
       "      <td>0</td>\n",
       "      <td>0</td>\n",
       "      <td>0</td>\n",
       "      <td>0</td>\n",
       "      <td>0</td>\n",
       "      <td>0</td>\n",
       "      <td>0</td>\n",
       "      <td>0</td>\n",
       "    </tr>\n",
       "    <tr>\n",
       "      <th>3</th>\n",
       "      <td>2940</td>\n",
       "      <td>0</td>\n",
       "      <td>0</td>\n",
       "      <td>0</td>\n",
       "      <td>0</td>\n",
       "      <td>0</td>\n",
       "      <td>1</td>\n",
       "      <td>0</td>\n",
       "      <td>0</td>\n",
       "      <td>0</td>\n",
       "      <td>...</td>\n",
       "      <td>1</td>\n",
       "      <td>0</td>\n",
       "      <td>0</td>\n",
       "      <td>0</td>\n",
       "      <td>0</td>\n",
       "      <td>0</td>\n",
       "      <td>0</td>\n",
       "      <td>0</td>\n",
       "      <td>0</td>\n",
       "      <td>0</td>\n",
       "    </tr>\n",
       "    <tr>\n",
       "      <th>4</th>\n",
       "      <td>3657</td>\n",
       "      <td>0</td>\n",
       "      <td>0</td>\n",
       "      <td>0</td>\n",
       "      <td>0</td>\n",
       "      <td>0</td>\n",
       "      <td>0</td>\n",
       "      <td>0</td>\n",
       "      <td>0</td>\n",
       "      <td>0</td>\n",
       "      <td>...</td>\n",
       "      <td>0</td>\n",
       "      <td>1</td>\n",
       "      <td>0</td>\n",
       "      <td>0</td>\n",
       "      <td>0</td>\n",
       "      <td>0</td>\n",
       "      <td>0</td>\n",
       "      <td>0</td>\n",
       "      <td>0</td>\n",
       "      <td>0</td>\n",
       "    </tr>\n",
       "  </tbody>\n",
       "</table>\n",
       "<p>5 rows × 21 columns</p>\n",
       "</div>"
      ],
      "text/plain": [
       "   tmdb_id  Adventure  Fantasy  Animation  Drama  Horror  Action  Comedy  \\\n",
       "0      616          0        0          0      1       0       0       0   \n",
       "1     1302          0        0          0      1       0       0       1   \n",
       "2     2364          0        0          0      0       0       0       1   \n",
       "3     2940          0        0          0      0       0       1       0   \n",
       "4     3657          0        0          0      0       0       0       0   \n",
       "\n",
       "   History  Western   ...     Crime  Documentary  Science Fiction  Mystery  \\\n",
       "0        0        0   ...         1            0                0        0   \n",
       "1        0        0   ...         0            0                0        0   \n",
       "2        0        0   ...         0            0                0        0   \n",
       "3        0        0   ...         1            0                0        0   \n",
       "4        0        0   ...         0            1                0        0   \n",
       "\n",
       "   Music  Romance  Family  War  TVMovie  Foreign  \n",
       "0      0        0       0    0        0        0  \n",
       "1      0        0       0    0        0        0  \n",
       "2      0        0       0    0        0        0  \n",
       "3      0        0       0    0        0        0  \n",
       "4      0        0       0    0        0        0  \n",
       "\n",
       "[5 rows x 21 columns]"
      ]
     },
     "execution_count": 3,
     "metadata": {},
     "output_type": "execute_result"
    }
   ],
   "source": [
    "# load csv file\n",
    "genres = pd.read_csv('genres_10k_new.txt')\n",
    "\n",
    "# view first few rows\n",
    "genres.head()"
   ]
  },
  {
   "cell_type": "code",
   "execution_count": 4,
   "metadata": {
    "collapsed": true
   },
   "outputs": [],
   "source": [
    "# drop \"tmdb_id\" column\n",
    "genres = genres.drop('tmdb_id', axis=1)\n",
    "\n",
    "# generate correlation matrix\n",
    "corrmat = genres.corr()"
   ]
  },
  {
   "cell_type": "code",
   "execution_count": 5,
   "metadata": {},
   "outputs": [
    {
     "data": {
      "image/png": "[encoded data removed]",
      "text/plain": [
       "<matplotlib.figure.Figure at 0xbf47f60>"
      ]
     },
     "metadata": {},
     "output_type": "display_data"
    }
   ],
   "source": [
    "# set appropriate font and dpi\n",
    "sns.set(font_scale=1.2)\n",
    "sns.set_style({\"savefig.dpi\": 100})\n",
    "\n",
    "# plot heatmap\n",
    "ax = sns.heatmap(corrmat, linewidths=.1, vmin=-0.5, vmax=0.5)"
   ]
  },
  {
   "cell_type": "markdown",
   "metadata": {},
   "source": [
    "From the heatmap above, we see that the following pairs of genres tend to be strongly correlated: Action-Adventure, Animation-Family, Action-Thriller, History-War, Thriller-Crime and Thriller-Mystery. We might consider grouping these genres together in our model to reduce the number of outcome variable classes. \n",
    "\n",
    "In contrast, these pairs of genres are negatively correlated: Drama-Comedy, Drama-Science Fiction and Comedy-Thriller.\n",
    "\n",
    "We did not have any records tagged as \"TVMovie\". \n",
    "\n",
    "The genre \"Foreign\" may have been retired by TMDb as it no longer appears on their official documentation."
   ]
  },
  {
   "cell_type": "markdown",
   "metadata": {},
   "source": [
    "---"
   ]
  },
  {
   "cell_type": "markdown",
   "metadata": {},
   "source": [
    "## Potential Challenges & Questions"
   ]
  },
  {
   "cell_type": "markdown",
   "metadata": {},
   "source": [
    "We forsee several challenges on this project, and plan to address them, as follows:\n",
    "- TMDb and IMDb may have different genre tags for a particular movie. In addition, the lengths of their genre listings may differ. To deal with this issue, we may match the tags from both databases and only consider the intersection of the two sets. Alternatively, we may just use the genre tags from one database only. \n",
    "- There are too many genres, and some are closely related. We may collapse some of the genres together into one group. However, in analyzing the outcome variable, we still feel it is natural for most movies to have more than one genre, as it is difficult for a movie to fall neatly into one category. Therefore, we need a model that can handle multiple outcomes.\n",
    "- There is an overwhelming amount of metadata available for each movie, especially on IMDb. Scraping and cleaning all of it will take a very long time. Instead, we will selectively choose variables we want to include in our model (discussed below).\n"
   ]
  },
  {
   "cell_type": "markdown",
   "metadata": {},
   "source": [
    "We conducted a brainstorming session to think of features associated with movie genre, and based on our beliefs, we identified the following variables, which we will use in our model to supplement the posters:\n",
    "- Title\n",
    "- Plot summary / keywords\n",
    "- Producer\n",
    "- Director\n",
    "- Writer\n",
    "- Cast (top-billed n cast, listed by importance)\n",
    "- Production company\n",
    "- Release date\n",
    "- Runtime\n",
    "- Country of origin / language\n",
    "- Budget\n",
    "- Revenue\n",
    "- Picture rating (eg. PG-13, R-21) (known as \"certificates\" on IMDb)\n",
    "- Average user rating\n",
    "- Whether the movie is a sequel or not"
   ]
  },
  {
   "cell_type": "markdown",
   "metadata": {},
   "source": [
    "Questions we have are:\n",
    "- How will we analyze textual information, such as titles and plot summaries?\n",
    "- If we train 2 separate models, one using movie posters and the other using movie metadata, how do we combine their predictions, and how much weight should be given to each model? "
   ]
  },
  {
   "cell_type": "markdown",
   "metadata": {},
   "source": [
    "---"
   ]
  },
  {
   "cell_type": "markdown",
   "metadata": {},
   "source": [
    "## Exploratory Data Analysis\n",
    "In this section, we do a preliminary exploration of the data we have, looking for variables that are potential predictors of movie genre, and visualizing how they are associated with genre."
   ]
  },
  {
   "cell_type": "markdown",
   "metadata": {},
   "source": [
    "### Preparing the Coding Environment\n",
    "The analysis was performed using a R-Kernel. In order to reproduce the results, the kernel has to be switched. To install the R essentials in the current environment, execute the following code in your system prompt:\n",
    "\n",
    "```bash\n",
    "conda install -c r r-essentials\n",
    "```\n",
    "\n",
    "**Machine:**   Windows 7 | Intel i7-3540M @ 3.00GHz | 16.00 GB RAM\n",
    "\n",
    "**R Version:** Microsoft R Open 3.3.2 -- \"Sincere Pumpkin Patch\"\n",
    "\n",
    "We need to set some global options for the R environment. The only thing that one might have to change is the .libPaths part."
   ]
  },
  {
   "cell_type": "code",
   "execution_count": 1,
   "metadata": {},
   "outputs": [
    {
     "data": {
      "text/html": [
       "'C'"
      ],
      "text/latex": [
       "'C'"
      ],
      "text/markdown": [
       "'C'"
      ],
      "text/plain": [
       "[1] \"C\""
      ]
     },
     "metadata": {},
     "output_type": "display_data"
    }
   ],
   "source": [
    "## Options\n",
    "options(scipen=10)\n",
    "update_package <- FALSE\n",
    "options(java.parameters=\"-Xmx6g\")\n",
    "options(warn=-1)\n",
    "\n",
    "# Set the library/packages path\n",
    "options(repos = c(CRAN = \"https://cran.revolutionanalytics.com\"))\n",
    ".libPaths(\"C:/Local/R/win-library/3.2\")\n",
    "\n",
    "# Set local time\n",
    "Sys.setenv(LANG = \"en\")\n",
    "Sys.setlocale(\"LC_TIME\", \"C\")"
   ]
  },
  {
   "cell_type": "markdown",
   "metadata": {},
   "source": [
    "Here, we load some project specific packages and functions. `01_init.R` is just a helper script, `02_packages.R` loads and installs the required packages and libraries, and `03_functions.R` loads functions specifically written for this analysis."
   ]
  },
  {
   "cell_type": "code",
   "execution_count": 2,
   "metadata": {},
   "outputs": [
    {
     "name": "stdout",
     "output_type": "stream",
     "text": [
      "Set Java path to C:/Program Files (x86)/Java/jre7"
     ]
    }
   ],
   "source": [
    "## Init files (always execute, eta: 10s)\n",
    "suppressMessages(source(\"scripts/01_init.R\"))                   # Helper functions to load packages\n",
    "suppressMessages(source(\"scripts/02_packages.R\"))               # Load all necessary packages\n",
    "suppressMessages(source(\"scripts/03_functions.R\"))              # Load project specific functions"
   ]
  },
  {
   "cell_type": "markdown",
   "metadata": {},
   "source": [
    "### Preparing the Data\n",
    "First, we load the data gathered from TMDb."
   ]
  },
  {
   "cell_type": "code",
   "execution_count": 3,
   "metadata": {
    "collapsed": true
   },
   "outputs": [],
   "source": [
    "df_genre <- suppressMessages(read_csv(\"data/genres_10k_new.txt\"))\n",
    "df_companies <- suppressMessages(read_csv(\"data/companies_10k.txt\"))\n",
    "df_info <- suppressMessages(read_tsv(\"data/tmdb_movie_info.txt\"))"
   ]
  },
  {
   "cell_type": "markdown",
   "metadata": {},
   "source": [
    "We then pre-process the data to help with the analysis. Movies tagged with multiple genres are multiplied across rows, ie. a movie can appear multiple times with different genres on different rows. An example of this is seen in the table below, where the same movie is classified once as crime, and then again as comedy. The data is split 70% for training and 30% for testing. All visual inspection is done on the training data."
   ]
  },
  {
   "cell_type": "code",
   "execution_count": 4,
   "metadata": {
    "collapsed": true
   },
   "outputs": [],
   "source": [
    "source(\"scripts/04_data.R\")"
   ]
  },
  {
   "cell_type": "code",
   "execution_count": 5,
   "metadata": {},
   "outputs": [
    {
     "data": {
      "text/html": [
       "<table>\n",
       "<thead><tr><th scope=col>tmdb_id</th><th scope=col>imdb_id</th><th scope=col>title</th><th scope=col>plot</th><th scope=col>poster_path</th><th scope=col>release_date</th><th scope=col>budget</th><th scope=col>revenue</th><th scope=col>runtime</th><th scope=col>popularity</th><th scope=col>user_rating</th><th scope=col>production_company</th><th scope=col>genres</th><th scope=col>release_year</th><th scope=col>release_month</th><th scope=col>release_decade</th><th scope=col>partition</th></tr></thead>\n",
       "<tbody>\n",
       "\t<tr><td>9               </td><td>0425473         </td><td>Sunday in August</td><td>NA              </td><td>None            </td><td>2004-09-02      </td><td>0               </td><td>0               </td><td>15              </td><td>0.002877        </td><td>1               </td><td>Small_Companies </td><td>Crime           </td><td>2004            </td><td>Sep             </td><td>2000            </td><td>test            </td></tr>\n",
       "\t<tr><td>9               </td><td>0425473         </td><td>Sunday in August</td><td>NA              </td><td>None            </td><td>2004-09-02      </td><td>0               </td><td>0               </td><td>15              </td><td>0.002877        </td><td>1               </td><td>Small_Companies </td><td>Comedy          </td><td>2004            </td><td>Sep             </td><td>2000            </td><td>train           </td></tr>\n",
       "</tbody>\n",
       "</table>\n"
      ],
      "text/latex": [
       "\\begin{tabular}{r|lllllllllllllllll}\n",
       " tmdb\\_id & imdb\\_id & title & plot & poster\\_path & release\\_date & budget & revenue & runtime & popularity & user\\_rating & production\\_company & genres & release\\_year & release\\_month & release\\_decade & partition\\\\\n",
       "\\hline\n",
       "\t 9                 & 0425473           & Sunday in August  & NA                & None              & 2004-09-02        & 0                 & 0                 & 15                & 0.002877          & 1                 & Small\\_Companies & Crime             & 2004              & Sep               & 2000              & test             \\\\\n",
       "\t 9                 & 0425473           & Sunday in August  & NA                & None              & 2004-09-02        & 0                 & 0                 & 15                & 0.002877          & 1                 & Small\\_Companies & Comedy            & 2004              & Sep               & 2000              & train            \\\\\n",
       "\\end{tabular}\n"
      ],
      "text/markdown": [
       "\n",
       "tmdb_id | imdb_id | title | plot | poster_path | release_date | budget | revenue | runtime | popularity | user_rating | production_company | genres | release_year | release_month | release_decade | partition | \n",
       "|---|---|\n",
       "| 9                | 0425473          | Sunday in August | NA               | None             | 2004-09-02       | 0                | 0                | 15               | 0.002877         | 1                | Small_Companies  | Crime            | 2004             | Sep              | 2000             | test             | \n",
       "| 9                | 0425473          | Sunday in August | NA               | None             | 2004-09-02       | 0                | 0                | 15               | 0.002877         | 1                | Small_Companies  | Comedy           | 2004             | Sep              | 2000             | train            | \n",
       "\n",
       "\n"
      ],
      "text/plain": [
       "  tmdb_id imdb_id title            plot poster_path release_date budget revenue\n",
       "1 9       0425473 Sunday in August NA   None        2004-09-02   0      0      \n",
       "2 9       0425473 Sunday in August NA   None        2004-09-02   0      0      \n",
       "  runtime popularity user_rating production_company genres release_year\n",
       "1 15      0.002877   1           Small_Companies    Crime  2004        \n",
       "2 15      0.002877   1           Small_Companies    Comedy 2004        \n",
       "  release_month release_decade partition\n",
       "1 Sep           2000           test     \n",
       "2 Sep           2000           train    "
      ]
     },
     "metadata": {},
     "output_type": "display_data"
    }
   ],
   "source": [
    "df_merge[1:2, ]"
   ]
  },
  {
   "cell_type": "markdown",
   "metadata": {},
   "source": [
    "The final dataframe has 3753 observations and 17 variables."
   ]
  },
  {
   "cell_type": "markdown",
   "metadata": {},
   "source": [
    "### Visualizing the Data\n",
    "\n",
    "First, we take a look at the correlation between the numerical variables."
   ]
  },
  {
   "cell_type": "code",
   "execution_count": 6,
   "metadata": {},
   "outputs": [
    {
     "data": {},
     "metadata": {},
     "output_type": "display_data"
    },
    {
     "data": {
      "image/png": "[encoded data removed]",
      "text/plain": [
       "plot without title"
      ]
     },
     "metadata": {},
     "output_type": "display_data"
    }
   ],
   "source": [
    "options(repr.plot.width=7.5, repr.plot.height=3)\n",
    "ggcorr(df_train[, c(\"budget\", \"revenue\", \"runtime\", \"popularity\", \"user_rating\", \"release_year\")],\n",
    "       low=\"steelblue\", mid=\"white\", high=\"darkred\", label=TRUE, label_size=3, size=2.5) + \n",
    "  labs(title=\"Plot I: Correlation-Plot\",\n",
    "       subtitle=\"Correlation among the numerical variables\")"
   ]
  },
  {
   "cell_type": "markdown",
   "metadata": {},
   "source": [
    "It seems there is high positive correlation between budget and revenue, and some correlation between budget and popularity, revenue and popularity, and runtime and user rating.\n",
    "\n",
    "Next, we explore the relationship between genre and each of these variables individually: budget, revenue, runtime, user rating, popularity, production company and release date."
   ]
  },
  {
   "cell_type": "code",
   "execution_count": 7,
   "metadata": {},
   "outputs": [
    {
     "data": {},
     "metadata": {},
     "output_type": "display_data"
    },
    {
     "data": {
      "image/png": "[encoded data removed]",
      "text/plain": [
       "plot without title"
      ]
     },
     "metadata": {},
     "output_type": "display_data"
    }
   ],
   "source": [
    "# Budget\n",
    "options(repr.plot.width=7, repr.plot.height=5)\n",
    "beeplot(df_train, \"genres\", \"budget\", title=\"Plot II: Beeswarm\",\n",
    "        subtitle=\"Budget vs. Genre\",\n",
    "        xlab=\"Genre\", ylab=\"Budget\") + scale_y_continuous(labels=comma)"
   ]
  },
  {
   "cell_type": "markdown",
   "metadata": {},
   "source": [
    "We see that war movies appear to have the highest budget on average. Music movies tend to have the lowest budget. There are a lot more movies categorized as drama, thriller, action, comedy and romance, than the other genres. "
   ]
  },
  {
   "cell_type": "code",
   "execution_count": 8,
   "metadata": {},
   "outputs": [
    {
     "data": {},
     "metadata": {},
     "output_type": "display_data"
    },
    {
     "data": {
      "image/png": "[encoded data removed]",
      "text/plain": [
       "plot without title"
      ]
     },
     "metadata": {},
     "output_type": "display_data"
    }
   ],
   "source": [
    "# Revenue\n",
    "beeplot(df_train, \"genres\", \"revenue\", title=\"Plot III: Beeswarm\",\n",
    "        subtitle=\"Revenue vs. Genre\",\n",
    "        xlab=\"Genre\", ylab=\"Revenue\") + scale_y_continuous(labels=comma)"
   ]
  },
  {
   "cell_type": "markdown",
   "metadata": {},
   "source": [
    "As seen earlier in the correlation plot, there is high correlation between revenue and budget. Nonetheless, the ranking of genres according to revenue is slightly different than by budget. Music movies appear to have fairly high revenues despite small budgets. War and romance movies have the highest revenues, while thriller and horror movies have the lowest."
   ]
  },
  {
   "cell_type": "code",
   "execution_count": 9,
   "metadata": {},
   "outputs": [
    {
     "data": {},
     "metadata": {},
     "output_type": "display_data"
    },
    {
     "data": {
      "image/png": "[encoded data removed]",
      "text/plain": [
       "plot without title"
      ]
     },
     "metadata": {},
     "output_type": "display_data"
    }
   ],
   "source": [
    "# Runtime\n",
    "beeplot(df_train, \"genres\", \"runtime\", title=\"Plot IV: Beeswarm\",\n",
    "        subtitle=\"Runtime vs. Genre\",\n",
    "        xlab=\"Genre\", ylab=\"Runtime\")"
   ]
  },
  {
   "cell_type": "markdown",
   "metadata": {},
   "source": [
    "It seems that animation movies have above-average runtimes, while music movies have below-average runtimes."
   ]
  },
  {
   "cell_type": "code",
   "execution_count": 10,
   "metadata": {},
   "outputs": [
    {
     "data": {},
     "metadata": {},
     "output_type": "display_data"
    },
    {
     "data": {
      "image/png": "[encoded data removed]",
      "text/plain": [
       "plot without title"
      ]
     },
     "metadata": {},
     "output_type": "display_data"
    }
   ],
   "source": [
    "# Rating\n",
    "beeplot(df_train, \"genres\", \"user_rating\", title=\"Plot V: Beeswarm\",\n",
    "        subtitle=\"User rating vs. Genre\",\n",
    "        xlab=\"Genre\", ylab=\"User rating\")"
   ]
  },
  {
   "cell_type": "markdown",
   "metadata": {},
   "source": [
    "On average, documentaries and animation movies enjoy the highest user ratings, while war and western movies tend to have the poorest ratings."
   ]
  },
  {
   "cell_type": "code",
   "execution_count": 11,
   "metadata": {},
   "outputs": [
    {
     "data": {},
     "metadata": {},
     "output_type": "display_data"
    },
    {
     "data": {
      "image/png": "[encoded data removed]",
      "text/plain": [
       "plot without title"
      ]
     },
     "metadata": {},
     "output_type": "display_data"
    }
   ],
   "source": [
    "# Popularity\n",
    "beeplot(df_train[df_train$popularity < 10 & df_train$popularity > 0, ], \"genres\", \"popularity\", title=\"Plot VI: Beeswarm\",\n",
    "        subtitle=\"Popularity vs. Genre\",\n",
    "        xlab=\"Genre\", ylab=\"Popularity\")"
   ]
  },
  {
   "cell_type": "markdown",
   "metadata": {},
   "source": [
    "Documentaries and music movies are the most popular, while animation and western movies are the least popular. "
   ]
  },
  {
   "cell_type": "markdown",
   "metadata": {},
   "source": [
    "In order to visualize the relationship between genre and production company, as well as release date, the data had to be processed further, which was done in the following R script. \n",
    "\n",
    "Since there are more than 3000 different production companies in the data, only those with more than 50 movies are included. The rest are regrouped under the label `small_companies`."
   ]
  },
  {
   "cell_type": "code",
   "execution_count": 12,
   "metadata": {
    "collapsed": true
   },
   "outputs": [],
   "source": [
    "suppressMessages(source(\"scripts/05_data2.R\"))"
   ]
  },
  {
   "cell_type": "code",
   "execution_count": 13,
   "metadata": {},
   "outputs": [
    {
     "data": {},
     "metadata": {},
     "output_type": "display_data"
    },
    {
     "data": {
      "image/png": "[encoded data removed]",
      "text/plain": [
       "plot without title"
      ]
     },
     "metadata": {},
     "output_type": "display_data"
    }
   ],
   "source": [
    "ggplot(df_company_perc, aes(x=production_company, y=percentage, fill=genres)) +\n",
    "  geom_bar(position=position_stack(), stat=\"identity\", width = .7) +\n",
    "  coord_flip() + \n",
    "  theme_bw() +\n",
    "  geom_text(aes(label=paste0(round(percentage), \"%\")), \n",
    "            position=position_stack(vjust=0.5), size=2) +\n",
    "  labs(title=\"Plot VII: Stacked-Barchart\",\n",
    "       subtitle=\"Percentage of genres produced by companies\") +\n",
    "  xlab(\"Production Company\") +\n",
    "  ylab(\"Percentage\") +\n",
    "  scale_fill_manual(values=getPalette(colourCount), name=\"Genres\")"
   ]
  },
  {
   "cell_type": "markdown",
   "metadata": {},
   "source": [
    "From the plot above, we can see that major production companies produce different mixes of genres. Miramax appears to produce a lot of dramas, comedies and romance movies, while Dimension Films appears to specialize on thrillers, action, sci-fi and horror movies. The Walt Disney Company produce a lot of more animation movies than the other production companies."
   ]
  },
  {
   "cell_type": "code",
   "execution_count": 14,
   "metadata": {
    "scrolled": false
   },
   "outputs": [
    {
     "data": {},
     "metadata": {},
     "output_type": "display_data"
    },
    {
     "data": {
      "image/png": "[encoded data removed]",
      "text/plain": [
       "plot without title"
      ]
     },
     "metadata": {},
     "output_type": "display_data"
    }
   ],
   "source": [
    "# Linechart\n",
    "ggplot(df_year_perc,\n",
    "       aes(x=release_decade, y=percentage, fill=genres, group=genres)) + \n",
    "  geom_area(position='stack') + \n",
    "  ylab(label=\"Percentage\") + \n",
    "  xlab(\"Decade\") +\n",
    "  labs(title=\"Plot VIII: Linechart\",\n",
    "       subtitle=\"Percentage count of genres over the decades\") +\n",
    "  theme_bw() +\n",
    "  scale_fill_manual(values=getPalette2(colourCount2), name=\"Genres\")"
   ]
  },
  {
   "cell_type": "markdown",
   "metadata": {},
   "source": [
    "With the exception of time periods at the extreme ends (<1920 and 2010) where there is not a lot of data available, the proportion of each genre appears to stay relatively stable. However, in the 1920s there was a peak of thriller movies and less comedies. Music movies were particularly popular in the period from 1950 to 1980.\n",
    "\n",
    "Other EDA questions we would have liked to explore (but did not include) are:\n",
    "- Is length of movie title correlated with genre?\n",
    "- Is there seasonality of movie genres within a year?"
   ]
  },
  {
   "cell_type": "markdown",
   "metadata": {},
   "source": [
    "---"
   ]
  },
  {
   "cell_type": "markdown",
   "metadata": {},
   "source": [
    "## Additional Visualisation Sketches"
   ]
  },
  {
   "cell_type": "markdown",
   "metadata": {},
   "source": [
    "Here are some sketches of further visualisations we would like to include in our final report, when we have collected and analyzed the full dataset from both databases."
   ]
  },
  {
   "cell_type": "markdown",
   "metadata": {},
   "source": [
    "<img src=\"https://raw.githubusercontent.com/greenore/deep-learning-project/master/milestone1/docs/sketch1.PNG\" width=\"500\">"
   ]
  },
  {
   "cell_type": "markdown",
   "metadata": {},
   "source": [
    "Word cloud for title and plot summaries of each genre. Above is an example for the Science Fiction genre."
   ]
  },
  {
   "cell_type": "markdown",
   "metadata": {},
   "source": [
    "<img src=\"https://raw.githubusercontent.com/greenore/deep-learning-project/master/milestone1/docs/sketch2.PNG\" width=\"600\">"
   ]
  },
  {
   "cell_type": "markdown",
   "metadata": {},
   "source": [
    "Barchart showing proportion of different motion picture ratings for each genre."
   ]
  },
  {
   "cell_type": "markdown",
   "metadata": {},
   "source": [
    "<img src=\"https://raw.githubusercontent.com/greenore/deep-learning-project/master/milestone1/docs/sketch3.PNG\" width=\"600\">"
   ]
  },
  {
   "cell_type": "markdown",
   "metadata": {},
   "source": [
    "Piecharts showing proportion of different genres for sequels and non-sequels."
   ]
  },
  {
   "cell_type": "markdown",
   "metadata": {},
   "source": [
    "<img src=\"https://raw.githubusercontent.com/greenore/deep-learning-project/master/milestone1/docs/sketch4.PNG\" width=\"500\">"
   ]
  },
  {
   "cell_type": "markdown",
   "metadata": {},
   "source": [
    "Heatmap showing correlation between the top n producers/directors/writers/actors/actresses across the various genres. Above is an example for directors."
   ]
  },
  {
   "cell_type": "markdown",
   "metadata": {},
   "source": [
    "---"
   ]
  },
  {
   "cell_type": "markdown",
   "metadata": {},
   "source": [
    "## Next Steps"
   ]
  },
  {
   "cell_type": "markdown",
   "metadata": {
    "collapsed": true
   },
   "source": [
    "Moving onwards, we will complete the full wrangling and cleaning of data from TMDb and IMDb, including the posters. We intend to extract all movies in the TMDb database, then drop records that have missing poster paths and `imdb_id`'s. Then, we will extract the additional metadata we want for these movies from IMDb and match them to TMDb records based on `imdb_id`. We will decide how we want to regroup the genres and the exact forms of X's and Y's for the training and testing datasets."
   ]
  },
  {
   "cell_type": "markdown",
   "metadata": {},
   "source": [
    "---"
   ]
  }
 ],
 "metadata": {
  "anaconda-cloud": {},
  "kernelspec": {
   "display_name": "Python 3",
   "language": "python",
   "name": "python3"
  },
  "language_info": {
   "codemirror_mode": {
    "name": "ipython",
    "version": 3
   },
   "file_extension": ".py",
   "mimetype": "text/x-python",
   "name": "python",
   "nbconvert_exporter": "python",
   "pygments_lexer": "ipython3",
   "version": "3.5.2"
  }
 },
 "nbformat": 4,
 "nbformat_minor": 1
}
