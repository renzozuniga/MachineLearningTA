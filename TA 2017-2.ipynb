{
 "cells": [
  {
   "cell_type": "code",
   "execution_count": 182,
   "metadata": {
    "collapsed": true
   },
   "outputs": [],
   "source": [
    "# Data manipulation\n",
    "import pandas as pd\n",
    "from pandas import DataFrame\n",
    "import numpy as np\n",
    "from time import time, sleep\n",
    "\n",
    "# Ploting and image operations\n",
    "import matplotlib\n",
    "%matplotlib inline\n",
    "import matplotlib.pyplot as plt\n",
    "import seaborn as sns\n",
    "sns.set_style('white')\n",
    "from PIL import Image\n",
    "from PIL import ImageEnhance\n",
    "import PIL.ImageOps\n",
    "import cv2\n",
    "from io import BytesIO\n",
    "import urllib\n",
    "from urllib.request import urlopen\n",
    "import urllib.error\n",
    "import os\n",
    "import scipy.misc\n",
    "\n",
    "# Sklearn\n",
    "from sklearn import preprocessing, metrics\n",
    "\n",
    "# Keras libraries\n",
    "import keras\n",
    "from keras.datasets import mnist\n",
    "from keras.models import Sequential, Model\n",
    "from keras.layers import Dense, Activation, Conv2D, MaxPooling2D, Flatten, Conv3D, MaxPooling3D, GlobalAveragePooling2D\n",
    "from keras.layers import Dense, Dropout\n",
    "from keras.callbacks import EarlyStopping\n",
    "from keras.preprocessing.image import ImageDataGenerator\n",
    "from keras.preprocessing import image\n",
    "from keras.optimizers import SGD,Adam\n",
    "from keras import regularizers\n",
    "from keras.callbacks import ReduceLROnPlateau\n",
    "from keras.applications.inception_v3 import InceptionV3\n",
    "from keras import backend as K"
   ]
  },
  {
   "cell_type": "markdown",
   "metadata": {},
   "source": [
    "# WebScrapping"
   ]
  },
  {
   "cell_type": "code",
   "execution_count": 183,
   "metadata": {
    "collapsed": false
   },
   "outputs": [
    {
     "data": {
      "text/html": [
       "<div>\n",
       "<table border=\"1\" class=\"dataframe\">\n",
       "  <thead>\n",
       "    <tr style=\"text-align: right;\">\n",
       "      <th></th>\n",
       "      <th>imdbId</th>\n",
       "      <th>Imdb Link</th>\n",
       "      <th>Title</th>\n",
       "      <th>IMDB Score</th>\n",
       "      <th>Genre</th>\n",
       "      <th>Poster</th>\n",
       "    </tr>\n",
       "  </thead>\n",
       "  <tbody>\n",
       "    <tr>\n",
       "      <th>0</th>\n",
       "      <td>114709</td>\n",
       "      <td>http://www.imdb.com/title/tt114709</td>\n",
       "      <td>Toy Story (1995)</td>\n",
       "      <td>8.3</td>\n",
       "      <td>Animation|Adventure|Comedy</td>\n",
       "      <td>https://images-na.ssl-images-amazon.com/images...</td>\n",
       "    </tr>\n",
       "    <tr>\n",
       "      <th>1</th>\n",
       "      <td>113497</td>\n",
       "      <td>http://www.imdb.com/title/tt113497</td>\n",
       "      <td>Jumanji (1995)</td>\n",
       "      <td>6.9</td>\n",
       "      <td>Action|Adventure|Family</td>\n",
       "      <td>https://images-na.ssl-images-amazon.com/images...</td>\n",
       "    </tr>\n",
       "    <tr>\n",
       "      <th>2</th>\n",
       "      <td>113228</td>\n",
       "      <td>http://www.imdb.com/title/tt113228</td>\n",
       "      <td>Grumpier Old Men (1995)</td>\n",
       "      <td>6.6</td>\n",
       "      <td>Comedy|Romance</td>\n",
       "      <td>https://images-na.ssl-images-amazon.com/images...</td>\n",
       "    </tr>\n",
       "    <tr>\n",
       "      <th>3</th>\n",
       "      <td>114885</td>\n",
       "      <td>http://www.imdb.com/title/tt114885</td>\n",
       "      <td>Waiting to Exhale (1995)</td>\n",
       "      <td>5.7</td>\n",
       "      <td>Comedy|Drama|Romance</td>\n",
       "      <td>https://images-na.ssl-images-amazon.com/images...</td>\n",
       "    </tr>\n",
       "    <tr>\n",
       "      <th>4</th>\n",
       "      <td>113041</td>\n",
       "      <td>http://www.imdb.com/title/tt113041</td>\n",
       "      <td>Father of the Bride Part II (1995)</td>\n",
       "      <td>5.9</td>\n",
       "      <td>Comedy|Family|Romance</td>\n",
       "      <td>https://images-na.ssl-images-amazon.com/images...</td>\n",
       "    </tr>\n",
       "  </tbody>\n",
       "</table>\n",
       "</div>"
      ],
      "text/plain": [
       "   imdbId                           Imdb Link  \\\n",
       "0  114709  http://www.imdb.com/title/tt114709   \n",
       "1  113497  http://www.imdb.com/title/tt113497   \n",
       "2  113228  http://www.imdb.com/title/tt113228   \n",
       "3  114885  http://www.imdb.com/title/tt114885   \n",
       "4  113041  http://www.imdb.com/title/tt113041   \n",
       "\n",
       "                                Title  IMDB Score                       Genre  \\\n",
       "0                    Toy Story (1995)         8.3  Animation|Adventure|Comedy   \n",
       "1                      Jumanji (1995)         6.9     Action|Adventure|Family   \n",
       "2             Grumpier Old Men (1995)         6.6              Comedy|Romance   \n",
       "3            Waiting to Exhale (1995)         5.7        Comedy|Drama|Romance   \n",
       "4  Father of the Bride Part II (1995)         5.9       Comedy|Family|Romance   \n",
       "\n",
       "                                              Poster  \n",
       "0  https://images-na.ssl-images-amazon.com/images...  \n",
       "1  https://images-na.ssl-images-amazon.com/images...  \n",
       "2  https://images-na.ssl-images-amazon.com/images...  \n",
       "3  https://images-na.ssl-images-amazon.com/images...  \n",
       "4  https://images-na.ssl-images-amazon.com/images...  "
      ]
     },
     "execution_count": 183,
     "metadata": {},
     "output_type": "execute_result"
    }
   ],
   "source": [
    "# Se leen los datos del archivo csv\n",
    "data = pd.read_csv(\"MovieGenre.csv\", encoding =\"ISO-8859-1\")\n",
    "data.head()"
   ]
  },
  {
   "cell_type": "code",
   "execution_count": 184,
   "metadata": {
    "collapsed": false
   },
   "outputs": [
    {
     "name": "stdout",
     "output_type": "stream",
     "text": [
      "(40108, 6)\n"
     ]
    },
    {
     "data": {
      "text/plain": [
       "imdbId          0\n",
       "Imdb Link       0\n",
       "Title           0\n",
       "IMDB Score     48\n",
       "Genre         145\n",
       "Poster        725\n",
       "dtype: int64"
      ]
     },
     "execution_count": 184,
     "metadata": {},
     "output_type": "execute_result"
    }
   ],
   "source": [
    "print(data.shape)\n",
    "data.isnull().sum()"
   ]
  },
  {
   "cell_type": "code",
   "execution_count": 185,
   "metadata": {
    "collapsed": false
   },
   "outputs": [
    {
     "data": {
      "text/html": [
       "<div>\n",
       "<table border=\"1\" class=\"dataframe\">\n",
       "  <thead>\n",
       "    <tr style=\"text-align: right;\">\n",
       "      <th></th>\n",
       "      <th>imdbId</th>\n",
       "      <th>Imdb Link</th>\n",
       "      <th>Title</th>\n",
       "      <th>IMDB Score</th>\n",
       "      <th>Genre</th>\n",
       "      <th>Poster</th>\n",
       "    </tr>\n",
       "  </thead>\n",
       "  <tbody>\n",
       "    <tr>\n",
       "      <th>0</th>\n",
       "      <td>114709</td>\n",
       "      <td>http://www.imdb.com/title/tt114709</td>\n",
       "      <td>Toy Story (1995)</td>\n",
       "      <td>8.3</td>\n",
       "      <td>Animation|Adventure|Comedy</td>\n",
       "      <td>https://images-na.ssl-images-amazon.com/images...</td>\n",
       "    </tr>\n",
       "    <tr>\n",
       "      <th>1</th>\n",
       "      <td>113497</td>\n",
       "      <td>http://www.imdb.com/title/tt113497</td>\n",
       "      <td>Jumanji (1995)</td>\n",
       "      <td>6.9</td>\n",
       "      <td>Action|Adventure|Family</td>\n",
       "      <td>https://images-na.ssl-images-amazon.com/images...</td>\n",
       "    </tr>\n",
       "    <tr>\n",
       "      <th>2</th>\n",
       "      <td>113228</td>\n",
       "      <td>http://www.imdb.com/title/tt113228</td>\n",
       "      <td>Grumpier Old Men (1995)</td>\n",
       "      <td>6.6</td>\n",
       "      <td>Comedy|Romance</td>\n",
       "      <td>https://images-na.ssl-images-amazon.com/images...</td>\n",
       "    </tr>\n",
       "    <tr>\n",
       "      <th>3</th>\n",
       "      <td>114885</td>\n",
       "      <td>http://www.imdb.com/title/tt114885</td>\n",
       "      <td>Waiting to Exhale (1995)</td>\n",
       "      <td>5.7</td>\n",
       "      <td>Comedy|Drama|Romance</td>\n",
       "      <td>https://images-na.ssl-images-amazon.com/images...</td>\n",
       "    </tr>\n",
       "    <tr>\n",
       "      <th>4</th>\n",
       "      <td>113041</td>\n",
       "      <td>http://www.imdb.com/title/tt113041</td>\n",
       "      <td>Father of the Bride Part II (1995)</td>\n",
       "      <td>5.9</td>\n",
       "      <td>Comedy|Family|Romance</td>\n",
       "      <td>https://images-na.ssl-images-amazon.com/images...</td>\n",
       "    </tr>\n",
       "  </tbody>\n",
       "</table>\n",
       "</div>"
      ],
      "text/plain": [
       "   imdbId                           Imdb Link  \\\n",
       "0  114709  http://www.imdb.com/title/tt114709   \n",
       "1  113497  http://www.imdb.com/title/tt113497   \n",
       "2  113228  http://www.imdb.com/title/tt113228   \n",
       "3  114885  http://www.imdb.com/title/tt114885   \n",
       "4  113041  http://www.imdb.com/title/tt113041   \n",
       "\n",
       "                                Title  IMDB Score                       Genre  \\\n",
       "0                    Toy Story (1995)         8.3  Animation|Adventure|Comedy   \n",
       "1                      Jumanji (1995)         6.9     Action|Adventure|Family   \n",
       "2             Grumpier Old Men (1995)         6.6              Comedy|Romance   \n",
       "3            Waiting to Exhale (1995)         5.7        Comedy|Drama|Romance   \n",
       "4  Father of the Bride Part II (1995)         5.9       Comedy|Family|Romance   \n",
       "\n",
       "                                              Poster  \n",
       "0  https://images-na.ssl-images-amazon.com/images...  \n",
       "1  https://images-na.ssl-images-amazon.com/images...  \n",
       "2  https://images-na.ssl-images-amazon.com/images...  \n",
       "3  https://images-na.ssl-images-amazon.com/images...  \n",
       "4  https://images-na.ssl-images-amazon.com/images...  "
      ]
     },
     "execution_count": 185,
     "metadata": {},
     "output_type": "execute_result"
    }
   ],
   "source": [
    "# Se remueven las peliculas que no cuentan con alguno de los datos especificados\n",
    "# Como la cantidad a eliminar es mucho menor a la cantidad total de los datos,\n",
    "# se considera que el resultado total no se ve afectado en gran medida.\n",
    "data = data.dropna(subset=[\"Genre\"])\n",
    "data = data.dropna(subset=[\"Poster\"])\n",
    "data = data.dropna(subset=[\"IMDB Score\"])\n",
    "data.head()"
   ]
  },
  {
   "cell_type": "code",
   "execution_count": 186,
   "metadata": {
    "collapsed": false
   },
   "outputs": [
    {
     "data": {
      "text/plain": [
       "imdbId        0\n",
       "Imdb Link     0\n",
       "Title         0\n",
       "IMDB Score    0\n",
       "Genre         0\n",
       "Poster        0\n",
       "dtype: int64"
      ]
     },
     "execution_count": 186,
     "metadata": {},
     "output_type": "execute_result"
    }
   ],
   "source": [
    "data.isnull().sum()"
   ]
  },
  {
   "cell_type": "code",
   "execution_count": 187,
   "metadata": {
    "collapsed": false
   },
   "outputs": [
    {
     "data": {
      "text/html": [
       "<div>\n",
       "<table border=\"1\" class=\"dataframe\">\n",
       "  <thead>\n",
       "    <tr style=\"text-align: right;\">\n",
       "      <th></th>\n",
       "      <th>imdbId</th>\n",
       "      <th>Imdb Link</th>\n",
       "      <th>Title</th>\n",
       "      <th>IMDB Score</th>\n",
       "      <th>Genre</th>\n",
       "      <th>Poster</th>\n",
       "    </tr>\n",
       "  </thead>\n",
       "  <tbody>\n",
       "    <tr>\n",
       "      <th>0</th>\n",
       "      <td>114709</td>\n",
       "      <td>http://www.imdb.com/title/tt114709</td>\n",
       "      <td>Toy Story (1995)</td>\n",
       "      <td>8.3</td>\n",
       "      <td>Animation|Adventure|Comedy</td>\n",
       "      <td>https://images-na.ssl-images-amazon.com/images...</td>\n",
       "    </tr>\n",
       "    <tr>\n",
       "      <th>1</th>\n",
       "      <td>113497</td>\n",
       "      <td>http://www.imdb.com/title/tt113497</td>\n",
       "      <td>Jumanji (1995)</td>\n",
       "      <td>6.9</td>\n",
       "      <td>Action|Adventure|Family</td>\n",
       "      <td>https://images-na.ssl-images-amazon.com/images...</td>\n",
       "    </tr>\n",
       "    <tr>\n",
       "      <th>2</th>\n",
       "      <td>113228</td>\n",
       "      <td>http://www.imdb.com/title/tt113228</td>\n",
       "      <td>Grumpier Old Men (1995)</td>\n",
       "      <td>6.6</td>\n",
       "      <td>Comedy|Romance</td>\n",
       "      <td>https://images-na.ssl-images-amazon.com/images...</td>\n",
       "    </tr>\n",
       "    <tr>\n",
       "      <th>3</th>\n",
       "      <td>114885</td>\n",
       "      <td>http://www.imdb.com/title/tt114885</td>\n",
       "      <td>Waiting to Exhale (1995)</td>\n",
       "      <td>5.7</td>\n",
       "      <td>Comedy|Drama|Romance</td>\n",
       "      <td>https://images-na.ssl-images-amazon.com/images...</td>\n",
       "    </tr>\n",
       "    <tr>\n",
       "      <th>4</th>\n",
       "      <td>113041</td>\n",
       "      <td>http://www.imdb.com/title/tt113041</td>\n",
       "      <td>Father of the Bride Part II (1995)</td>\n",
       "      <td>5.9</td>\n",
       "      <td>Comedy|Family|Romance</td>\n",
       "      <td>https://images-na.ssl-images-amazon.com/images...</td>\n",
       "    </tr>\n",
       "  </tbody>\n",
       "</table>\n",
       "</div>"
      ],
      "text/plain": [
       "   imdbId                           Imdb Link  \\\n",
       "0  114709  http://www.imdb.com/title/tt114709   \n",
       "1  113497  http://www.imdb.com/title/tt113497   \n",
       "2  113228  http://www.imdb.com/title/tt113228   \n",
       "3  114885  http://www.imdb.com/title/tt114885   \n",
       "4  113041  http://www.imdb.com/title/tt113041   \n",
       "\n",
       "                                Title  IMDB Score                       Genre  \\\n",
       "0                    Toy Story (1995)         8.3  Animation|Adventure|Comedy   \n",
       "1                      Jumanji (1995)         6.9     Action|Adventure|Family   \n",
       "2             Grumpier Old Men (1995)         6.6              Comedy|Romance   \n",
       "3            Waiting to Exhale (1995)         5.7        Comedy|Drama|Romance   \n",
       "4  Father of the Bride Part II (1995)         5.9       Comedy|Family|Romance   \n",
       "\n",
       "                                              Poster  \n",
       "0  https://images-na.ssl-images-amazon.com/images...  \n",
       "1  https://images-na.ssl-images-amazon.com/images...  \n",
       "2  https://images-na.ssl-images-amazon.com/images...  \n",
       "3  https://images-na.ssl-images-amazon.com/images...  \n",
       "4  https://images-na.ssl-images-amazon.com/images...  "
      ]
     },
     "execution_count": 187,
     "metadata": {},
     "output_type": "execute_result"
    }
   ],
   "source": [
    "data = data[:20]\n",
    "data.head()"
   ]
  },
  {
   "cell_type": "code",
   "execution_count": 188,
   "metadata": {
    "collapsed": true
   },
   "outputs": [],
   "source": [
    "# Se obtendrá el director, escritor y cast por medio de un Scraping de la pag. de IMDB\n",
    "# Por último, se obtendrá el resumen como data de texto.\n",
    "\n",
    "import requests\n",
    "from bs4 import BeautifulSoup\n",
    "import csv\n",
    "import time\n",
    "\n",
    "links = data['Imdb Link']\n",
    "new_data = {}\n",
    "new_data['Poster'] = data['Poster']\n",
    "new_data['IMDB Score'] = data['IMDB Score']\n",
    "new_data['Directed by'] = []\n",
    "new_data['Writing Credits'] = []\n",
    "new_data['Cast'] = []\n",
    "new_data['Produced by'] = []\n",
    "new_data['Music by'] = []\n",
    "new_data['Summary'] = []\n",
    "\n",
    "keys = [\"Directed by\", \"Writing Credits\", \"Cast\", \"Produced by\", \"Music by\"]            \n",
    "\n",
    "def get_ids(content):\n",
    "    return [block['href'].split('/')[2] for block in content.find_all(\"a\")]\n",
    "\n",
    "def get_credits_info(new_data, link):\n",
    "    try:\n",
    "        page = requests.get(link + \"/fullcredits\")\n",
    "        soup = BeautifulSoup(page.content, \"html.parser\")    \n",
    "        full_credits = soup.find(\"div\", {\"id\": \"fullcredits_content\"})            \n",
    "        block_titles = [title.contents[0].strip() for title in full_credits.find_all(\"h4\")]\n",
    "        block_content = full_credits.find_all(\"table\")\n",
    "        \n",
    "        for key in keys:\n",
    "            found_key = False\n",
    "            for title, content in zip(block_titles, block_content):                \n",
    "                if title == key:            \n",
    "                    found_key = True\n",
    "                    elements = \"|\".join(get_ids(content)[:5])        \n",
    "                    if title == \"Directed by\" or \\\n",
    "                        title == \"Writing Credits\" or \\\n",
    "                        title == \"Produced by\" or \\\n",
    "                        title == \"Music by\":                            \n",
    "                        new_data[title].append(elements)\n",
    "\n",
    "                    if title == \"Cast\":\n",
    "                        elements = \"|\".join([block.find('a')['href'].split('/')[2]\n",
    "                                    for block in content.find_all(\"td\", {\"itemprop\":\"actor\"})][:5])\n",
    "                        new_data['Cast'].append(elements)\n",
    "            \n",
    "            if not found_key:\n",
    "                new_data[key].append(\"\")\n",
    "    except:\n",
    "        print(\"Error en el link: \", link + \"/fullcredits\")\n",
    "        for key in keys:\n",
    "            new_data[key].append(\"\")\n",
    "            \n",
    "def get_text_info(new_data, link):\n",
    "    try:\n",
    "        page = requests.get(link + \"/plotsummary\")\n",
    "        soup = BeautifulSoup(page.content, \"html.parser\")\n",
    "        block = soup.find(\"ul\", {\"id\":\"plot-summaries-content\"})    \n",
    "        summaries = \" \".join([summary.find(\"p\").get_text() for summary in block.find_all(\"li\")][:2])\n",
    "        new_data['Summary'].append(summaries)\n",
    "    except:\n",
    "        print(\"Error en el link: \", link + \"/plotsummary\")\n",
    "        new_data['Summary'].append(\"\")\n",
    "    \n",
    "        \n",
    "for link in links:\n",
    "    time.sleep(1)\n",
    "    get_credits_info(new_data, link)\n",
    "    get_text_info(new_data, link)          \n"
   ]
  },
  {
   "cell_type": "code",
   "execution_count": 189,
   "metadata": {
    "collapsed": true
   },
   "outputs": [],
   "source": [
    "for key in new_data:\n",
    "    data[key] = new_data[key]"
   ]
  },
  {
   "cell_type": "code",
   "execution_count": 190,
   "metadata": {
    "collapsed": false
   },
   "outputs": [
    {
     "data": {
      "text/html": [
       "<div>\n",
       "<table border=\"1\" class=\"dataframe\">\n",
       "  <thead>\n",
       "    <tr style=\"text-align: right;\">\n",
       "      <th></th>\n",
       "      <th>imdbId</th>\n",
       "      <th>Title</th>\n",
       "      <th>Genre</th>\n",
       "      <th>Poster</th>\n",
       "      <th>Summary</th>\n",
       "      <th>director1</th>\n",
       "      <th>director2</th>\n",
       "      <th>writer1</th>\n",
       "      <th>writer2</th>\n",
       "      <th>cast1</th>\n",
       "      <th>cast2</th>\n",
       "      <th>cast3</th>\n",
       "      <th>cast4</th>\n",
       "      <th>cast5</th>\n",
       "      <th>producer1</th>\n",
       "      <th>producer2</th>\n",
       "      <th>composer1</th>\n",
       "    </tr>\n",
       "  </thead>\n",
       "  <tbody>\n",
       "    <tr>\n",
       "      <th>0</th>\n",
       "      <td>114709</td>\n",
       "      <td>Toy Story (1995)</td>\n",
       "      <td>Animation|Adventure|Comedy</td>\n",
       "      <td>https://images-na.ssl-images-amazon.com/images...</td>\n",
       "      <td>A little boy named Andy loves to be in his roo...</td>\n",
       "      <td>nm0005124</td>\n",
       "      <td>nan</td>\n",
       "      <td>nm0005124</td>\n",
       "      <td>nm0230032</td>\n",
       "      <td>nm0000158</td>\n",
       "      <td>nm0000741</td>\n",
       "      <td>nm0725543</td>\n",
       "      <td>nm0001815</td>\n",
       "      <td>nm0001728</td>\n",
       "      <td>nm0036366</td>\n",
       "      <td>nm0146216</td>\n",
       "      <td>nm0005271</td>\n",
       "    </tr>\n",
       "    <tr>\n",
       "      <th>1</th>\n",
       "      <td>113497</td>\n",
       "      <td>Jumanji (1995)</td>\n",
       "      <td>Action|Adventure|Family</td>\n",
       "      <td>https://images-na.ssl-images-amazon.com/images...</td>\n",
       "      <td>After being trapped in a jungle board game for...</td>\n",
       "      <td>nm0002653</td>\n",
       "      <td>nan</td>\n",
       "      <td>nm0378144</td>\n",
       "      <td>nm0852430</td>\n",
       "      <td>nm0000245</td>\n",
       "      <td>nm0404993</td>\n",
       "      <td>nm0000379</td>\n",
       "      <td>nm0682300</td>\n",
       "      <td>nm0001372</td>\n",
       "      <td>nm0181202</td>\n",
       "      <td>nm0276059</td>\n",
       "      <td>nm0000035</td>\n",
       "    </tr>\n",
       "    <tr>\n",
       "      <th>2</th>\n",
       "      <td>113228</td>\n",
       "      <td>Grumpier Old Men (1995)</td>\n",
       "      <td>Comedy|Romance</td>\n",
       "      <td>https://images-na.ssl-images-amazon.com/images...</td>\n",
       "      <td>Things don't seem to change much in Wabasha Co...</td>\n",
       "      <td>nm0222043</td>\n",
       "      <td>nan</td>\n",
       "      <td>nm0425756</td>\n",
       "      <td>nm0425756</td>\n",
       "      <td>nm0000527</td>\n",
       "      <td>nm0000493</td>\n",
       "      <td>nm0000047</td>\n",
       "      <td>nm0000268</td>\n",
       "      <td>nm0580565</td>\n",
       "      <td>nm0075828</td>\n",
       "      <td>nm0204862</td>\n",
       "      <td>nm0006293</td>\n",
       "    </tr>\n",
       "    <tr>\n",
       "      <th>3</th>\n",
       "      <td>114885</td>\n",
       "      <td>Waiting to Exhale (1995)</td>\n",
       "      <td>Comedy|Drama|Romance</td>\n",
       "      <td>https://images-na.ssl-images-amazon.com/images...</td>\n",
       "      <td>This story based on the best selling novel by ...</td>\n",
       "      <td>nm0001845</td>\n",
       "      <td>nan</td>\n",
       "      <td>nm0573334</td>\n",
       "      <td>nm0573334</td>\n",
       "      <td>nm0001365</td>\n",
       "      <td>nm0000291</td>\n",
       "      <td>nm0222643</td>\n",
       "      <td>nm0005375</td>\n",
       "      <td>nm0002138</td>\n",
       "      <td>nm0060103</td>\n",
       "      <td>nm0433845</td>\n",
       "      <td>nm0004892</td>\n",
       "    </tr>\n",
       "    <tr>\n",
       "      <th>4</th>\n",
       "      <td>113041</td>\n",
       "      <td>Father of the Bride Part II (1995)</td>\n",
       "      <td>Comedy|Family|Romance</td>\n",
       "      <td>https://images-na.ssl-images-amazon.com/images...</td>\n",
       "      <td>In this sequel to \"Father of the Bride\", Georg...</td>\n",
       "      <td>nm0796124</td>\n",
       "      <td>nan</td>\n",
       "      <td>nm0352443</td>\n",
       "      <td>nm0329304</td>\n",
       "      <td>nm0000188</td>\n",
       "      <td>nm0000473</td>\n",
       "      <td>nm0001737</td>\n",
       "      <td>nm0931090</td>\n",
       "      <td>nm0627624</td>\n",
       "      <td>nm0062071</td>\n",
       "      <td>nm0088692</td>\n",
       "      <td>nm0006293</td>\n",
       "    </tr>\n",
       "  </tbody>\n",
       "</table>\n",
       "</div>"
      ],
      "text/plain": [
       "   imdbId                               Title                       Genre  \\\n",
       "0  114709                    Toy Story (1995)  Animation|Adventure|Comedy   \n",
       "1  113497                      Jumanji (1995)     Action|Adventure|Family   \n",
       "2  113228             Grumpier Old Men (1995)              Comedy|Romance   \n",
       "3  114885            Waiting to Exhale (1995)        Comedy|Drama|Romance   \n",
       "4  113041  Father of the Bride Part II (1995)       Comedy|Family|Romance   \n",
       "\n",
       "                                              Poster  \\\n",
       "0  https://images-na.ssl-images-amazon.com/images...   \n",
       "1  https://images-na.ssl-images-amazon.com/images...   \n",
       "2  https://images-na.ssl-images-amazon.com/images...   \n",
       "3  https://images-na.ssl-images-amazon.com/images...   \n",
       "4  https://images-na.ssl-images-amazon.com/images...   \n",
       "\n",
       "                                             Summary  director1 director2  \\\n",
       "0  A little boy named Andy loves to be in his roo...  nm0005124       nan   \n",
       "1  After being trapped in a jungle board game for...  nm0002653       nan   \n",
       "2  Things don't seem to change much in Wabasha Co...  nm0222043       nan   \n",
       "3  This story based on the best selling novel by ...  nm0001845       nan   \n",
       "4  In this sequel to \"Father of the Bride\", Georg...  nm0796124       nan   \n",
       "\n",
       "     writer1    writer2      cast1      cast2      cast3      cast4  \\\n",
       "0  nm0005124  nm0230032  nm0000158  nm0000741  nm0725543  nm0001815   \n",
       "1  nm0378144  nm0852430  nm0000245  nm0404993  nm0000379  nm0682300   \n",
       "2  nm0425756  nm0425756  nm0000527  nm0000493  nm0000047  nm0000268   \n",
       "3  nm0573334  nm0573334  nm0001365  nm0000291  nm0222643  nm0005375   \n",
       "4  nm0352443  nm0329304  nm0000188  nm0000473  nm0001737  nm0931090   \n",
       "\n",
       "       cast5  producer1  producer2  composer1  \n",
       "0  nm0001728  nm0036366  nm0146216  nm0005271  \n",
       "1  nm0001372  nm0181202  nm0276059  nm0000035  \n",
       "2  nm0580565  nm0075828  nm0204862  nm0006293  \n",
       "3  nm0002138  nm0060103  nm0433845  nm0004892  \n",
       "4  nm0627624  nm0062071  nm0088692  nm0006293  "
      ]
     },
     "execution_count": 190,
     "metadata": {},
     "output_type": "execute_result"
    }
   ],
   "source": [
    "directors = data['Directed by'].str.split('|').apply(pd.Series).astype(str)\n",
    "directors.rename(columns={0:'director1', 1:'director2'}, inplace=True)\n",
    "directors = directors.iloc[:, 0: 2]\n",
    "\n",
    "writers = data['Writing Credits'].str.split('|').apply(pd.Series).astype(str)\n",
    "writers.rename(columns={0:'writer1', 1:'writer2'}, inplace=True)\n",
    "writers = writers.iloc[:, 0: 2]\n",
    "\n",
    "cast = data['Cast'].str.split('|').apply(pd.Series).astype(str)\n",
    "cast.rename(columns={0:'cast1', 1:'cast2', 2:'cast3', 3:'cast4', 4:'cast5'}, inplace=True)\n",
    "cast = cast.iloc[:,0:5]\n",
    "\n",
    "producers = data['Produced by'].str.split('|').apply(pd.Series).astype(str)\n",
    "producers.rename(columns={0:'producer1', 1:'producer2'}, inplace=True)\n",
    "producers = producers.iloc[:,0:2]\n",
    "\n",
    "composers = data['Music by'].str.split('|').apply(pd.Series).astype(str)\n",
    "composers.rename(columns={0:'composer1', 1:'composer2'}, inplace=True)\n",
    "composers = composers.iloc[:,0:2]\n",
    "\n",
    "data = pd.concat([data[['imdbId','Title','Genre','Poster', 'Summary']], directors, writers, cast, producers, composers], axis=1)\n",
    "data.head()"
   ]
  },
  {
   "cell_type": "code",
   "execution_count": 191,
   "metadata": {
    "collapsed": false
   },
   "outputs": [],
   "source": [
    "import urllib\n",
    "from urllib.request import urlretrieve\n",
    "\n",
    "path = \"/Img/poster\"\n",
    "\n",
    "for idx, link in enumerate(data['Poster']):\n",
    "    urlretrieve(link, path + str(idx) + \".jpg\")"
   ]
  },
  {
   "cell_type": "markdown",
   "metadata": {},
   "source": [
    "# Procesamiento de Datos"
   ]
  },
  {
   "cell_type": "code",
   "execution_count": 135,
   "metadata": {
    "collapsed": false
   },
   "outputs": [
    {
     "data": {
      "text/html": [
       "<div>\n",
       "<table border=\"1\" class=\"dataframe\">\n",
       "  <thead>\n",
       "    <tr style=\"text-align: right;\">\n",
       "      <th></th>\n",
       "      <th>Unnamed: 0</th>\n",
       "      <th>imdbId</th>\n",
       "      <th>Title</th>\n",
       "      <th>Genre</th>\n",
       "      <th>Poster</th>\n",
       "      <th>Summary</th>\n",
       "      <th>director1</th>\n",
       "      <th>director2</th>\n",
       "      <th>writer1</th>\n",
       "      <th>writer2</th>\n",
       "      <th>cast1</th>\n",
       "      <th>cast2</th>\n",
       "      <th>cast3</th>\n",
       "      <th>cast4</th>\n",
       "      <th>cast5</th>\n",
       "      <th>producer1</th>\n",
       "      <th>producer2</th>\n",
       "      <th>composer1</th>\n",
       "      <th>composer2</th>\n",
       "      <th>Unnamed: 19</th>\n",
       "    </tr>\n",
       "  </thead>\n",
       "  <tbody>\n",
       "    <tr>\n",
       "      <th>0</th>\n",
       "      <td>0</td>\n",
       "      <td>114709</td>\n",
       "      <td>Toy Story (1995)</td>\n",
       "      <td>Animation|Adventure|Comedy</td>\n",
       "      <td>https://images-na.ssl-images-amazon.com/images...</td>\n",
       "      <td>A little boy named Andy loves to be in his roo...</td>\n",
       "      <td>nm0005124</td>\n",
       "      <td></td>\n",
       "      <td>nm0005124</td>\n",
       "      <td>nm0230032</td>\n",
       "      <td>nm0000158</td>\n",
       "      <td>nm0000741</td>\n",
       "      <td>nm0725543</td>\n",
       "      <td>nm0001815</td>\n",
       "      <td>nm0001728</td>\n",
       "      <td>nm0036366</td>\n",
       "      <td>nm0146216</td>\n",
       "      <td>nm0005271</td>\n",
       "      <td></td>\n",
       "      <td></td>\n",
       "    </tr>\n",
       "    <tr>\n",
       "      <th>1</th>\n",
       "      <td>1</td>\n",
       "      <td>113497</td>\n",
       "      <td>Jumanji (1995)</td>\n",
       "      <td>Action|Adventure|Family</td>\n",
       "      <td>https://images-na.ssl-images-amazon.com/images...</td>\n",
       "      <td>After being trapped in a jungle board game for...</td>\n",
       "      <td>nm0002653</td>\n",
       "      <td></td>\n",
       "      <td>nm0378144</td>\n",
       "      <td>nm0852430</td>\n",
       "      <td>nm0000245</td>\n",
       "      <td>nm0404993</td>\n",
       "      <td>nm0000379</td>\n",
       "      <td>nm0682300</td>\n",
       "      <td>nm0001372</td>\n",
       "      <td>nm0181202</td>\n",
       "      <td>nm0276059</td>\n",
       "      <td>nm0000035</td>\n",
       "      <td></td>\n",
       "      <td></td>\n",
       "    </tr>\n",
       "    <tr>\n",
       "      <th>2</th>\n",
       "      <td>2</td>\n",
       "      <td>113228</td>\n",
       "      <td>Grumpier Old Men (1995)</td>\n",
       "      <td>Comedy|Romance</td>\n",
       "      <td>https://images-na.ssl-images-amazon.com/images...</td>\n",
       "      <td>Things don't seem to change much in Wabasha Co...</td>\n",
       "      <td>nm0222043</td>\n",
       "      <td></td>\n",
       "      <td>nm0425756</td>\n",
       "      <td>nm0425756</td>\n",
       "      <td>nm0000527</td>\n",
       "      <td>nm0000493</td>\n",
       "      <td>nm0000047</td>\n",
       "      <td>nm0000268</td>\n",
       "      <td>nm0580565</td>\n",
       "      <td>nm0075828</td>\n",
       "      <td>nm0204862</td>\n",
       "      <td>nm0006293</td>\n",
       "      <td></td>\n",
       "      <td></td>\n",
       "    </tr>\n",
       "    <tr>\n",
       "      <th>3</th>\n",
       "      <td>3</td>\n",
       "      <td>114885</td>\n",
       "      <td>Waiting to Exhale (1995)</td>\n",
       "      <td>Comedy|Drama|Romance</td>\n",
       "      <td>https://images-na.ssl-images-amazon.com/images...</td>\n",
       "      <td>This story based on the best selling novel by ...</td>\n",
       "      <td>nm0001845</td>\n",
       "      <td></td>\n",
       "      <td>nm0573334</td>\n",
       "      <td>nm0573334</td>\n",
       "      <td>nm0001365</td>\n",
       "      <td>nm0000291</td>\n",
       "      <td>nm0222643</td>\n",
       "      <td>nm0005375</td>\n",
       "      <td>nm0002138</td>\n",
       "      <td>nm0060103</td>\n",
       "      <td>nm0433845</td>\n",
       "      <td>nm0004892</td>\n",
       "      <td></td>\n",
       "      <td></td>\n",
       "    </tr>\n",
       "    <tr>\n",
       "      <th>4</th>\n",
       "      <td>4</td>\n",
       "      <td>113041</td>\n",
       "      <td>Father of the Bride Part II (1995)</td>\n",
       "      <td>Comedy|Family|Romance</td>\n",
       "      <td>https://images-na.ssl-images-amazon.com/images...</td>\n",
       "      <td>In this sequel to \"Father of the Bride\", Georg...</td>\n",
       "      <td>nm0796124</td>\n",
       "      <td></td>\n",
       "      <td>nm0352443</td>\n",
       "      <td>nm0329304</td>\n",
       "      <td>nm0000188</td>\n",
       "      <td>nm0000473</td>\n",
       "      <td>nm0001737</td>\n",
       "      <td>nm0931090</td>\n",
       "      <td>nm0627624</td>\n",
       "      <td>nm0062071</td>\n",
       "      <td>nm0088692</td>\n",
       "      <td>nm0006293</td>\n",
       "      <td></td>\n",
       "      <td></td>\n",
       "    </tr>\n",
       "  </tbody>\n",
       "</table>\n",
       "</div>"
      ],
      "text/plain": [
       "   Unnamed: 0  imdbId                               Title  \\\n",
       "0           0  114709                    Toy Story (1995)   \n",
       "1           1  113497                      Jumanji (1995)   \n",
       "2           2  113228             Grumpier Old Men (1995)   \n",
       "3           3  114885            Waiting to Exhale (1995)   \n",
       "4           4  113041  Father of the Bride Part II (1995)   \n",
       "\n",
       "                        Genre  \\\n",
       "0  Animation|Adventure|Comedy   \n",
       "1     Action|Adventure|Family   \n",
       "2              Comedy|Romance   \n",
       "3        Comedy|Drama|Romance   \n",
       "4       Comedy|Family|Romance   \n",
       "\n",
       "                                              Poster  \\\n",
       "0  https://images-na.ssl-images-amazon.com/images...   \n",
       "1  https://images-na.ssl-images-amazon.com/images...   \n",
       "2  https://images-na.ssl-images-amazon.com/images...   \n",
       "3  https://images-na.ssl-images-amazon.com/images...   \n",
       "4  https://images-na.ssl-images-amazon.com/images...   \n",
       "\n",
       "                                             Summary  director1 director2  \\\n",
       "0  A little boy named Andy loves to be in his roo...  nm0005124             \n",
       "1  After being trapped in a jungle board game for...  nm0002653             \n",
       "2  Things don't seem to change much in Wabasha Co...  nm0222043             \n",
       "3  This story based on the best selling novel by ...  nm0001845             \n",
       "4  In this sequel to \"Father of the Bride\", Georg...  nm0796124             \n",
       "\n",
       "     writer1    writer2      cast1      cast2      cast3      cast4  \\\n",
       "0  nm0005124  nm0230032  nm0000158  nm0000741  nm0725543  nm0001815   \n",
       "1  nm0378144  nm0852430  nm0000245  nm0404993  nm0000379  nm0682300   \n",
       "2  nm0425756  nm0425756  nm0000527  nm0000493  nm0000047  nm0000268   \n",
       "3  nm0573334  nm0573334  nm0001365  nm0000291  nm0222643  nm0005375   \n",
       "4  nm0352443  nm0329304  nm0000188  nm0000473  nm0001737  nm0931090   \n",
       "\n",
       "       cast5  producer1  producer2  composer1 composer2 Unnamed: 19  \n",
       "0  nm0001728  nm0036366  nm0146216  nm0005271                        \n",
       "1  nm0001372  nm0181202  nm0276059  nm0000035                        \n",
       "2  nm0580565  nm0075828  nm0204862  nm0006293                        \n",
       "3  nm0002138  nm0060103  nm0433845  nm0004892                        \n",
       "4  nm0627624  nm0062071  nm0088692  nm0006293                        "
      ]
     },
     "execution_count": 135,
     "metadata": {},
     "output_type": "execute_result"
    }
   ],
   "source": [
    "# Se leen los datos del archivo csv luego de hacer el WebScrapping\n",
    "data = pd.read_csv(\"Data.csv\", encoding =\"ISO-8859-1\",na_values=\" NaN\")\n",
    "data.fillna('', inplace=True)\n",
    "data.head()"
   ]
  },
  {
   "cell_type": "code",
   "execution_count": 136,
   "metadata": {
    "collapsed": false
   },
   "outputs": [
    {
     "data": {
      "text/plain": [
       "['Action',\n",
       " 'Adventure',\n",
       " 'Animation',\n",
       " 'Biography',\n",
       " 'Comedy',\n",
       " 'Crime',\n",
       " 'Documentary',\n",
       " 'Drama',\n",
       " 'Family',\n",
       " 'Fantasy',\n",
       " 'Film-Noir',\n",
       " 'History',\n",
       " 'Horror',\n",
       " 'Music',\n",
       " 'Musical',\n",
       " 'Mystery',\n",
       " 'Romance',\n",
       " 'Sci-Fi',\n",
       " 'Short',\n",
       " 'Sport',\n",
       " 'Thriller',\n",
       " 'War',\n",
       " 'Western']"
      ]
     },
     "execution_count": 136,
     "metadata": {},
     "output_type": "execute_result"
    }
   ],
   "source": [
    "genre={}\n",
    "genre_dict=[]\n",
    "for x in data.index:\n",
    "    genre[x]=data['Genre'][x]\n",
    "    row = genre[x].split(\"|\")\n",
    "    for y in row:\n",
    "        if y not in genre_dict and y != \"\":\n",
    "            genre_dict.append(y)\n",
    "            \n",
    "genre_dict = sorted(genre_dict)\n",
    "genre_dict"
   ]
  },
  {
   "cell_type": "code",
   "execution_count": 137,
   "metadata": {
    "collapsed": false
   },
   "outputs": [
    {
     "data": {
      "text/html": [
       "<div>\n",
       "<table border=\"1\" class=\"dataframe\">\n",
       "  <thead>\n",
       "    <tr style=\"text-align: right;\">\n",
       "      <th></th>\n",
       "      <th>Action</th>\n",
       "      <th>Adventure</th>\n",
       "      <th>Animation</th>\n",
       "      <th>Biography</th>\n",
       "      <th>Comedy</th>\n",
       "      <th>Crime</th>\n",
       "      <th>Documentary</th>\n",
       "      <th>Drama</th>\n",
       "      <th>Family</th>\n",
       "      <th>Fantasy</th>\n",
       "      <th>...</th>\n",
       "      <th>Music</th>\n",
       "      <th>Musical</th>\n",
       "      <th>Mystery</th>\n",
       "      <th>Romance</th>\n",
       "      <th>Sci-Fi</th>\n",
       "      <th>Short</th>\n",
       "      <th>Sport</th>\n",
       "      <th>Thriller</th>\n",
       "      <th>War</th>\n",
       "      <th>Western</th>\n",
       "    </tr>\n",
       "  </thead>\n",
       "  <tbody>\n",
       "    <tr>\n",
       "      <th>0</th>\n",
       "      <td>0.0</td>\n",
       "      <td>1.0</td>\n",
       "      <td>1.0</td>\n",
       "      <td>0.0</td>\n",
       "      <td>1.0</td>\n",
       "      <td>0.0</td>\n",
       "      <td>0.0</td>\n",
       "      <td>0.0</td>\n",
       "      <td>0.0</td>\n",
       "      <td>0.0</td>\n",
       "      <td>...</td>\n",
       "      <td>0.0</td>\n",
       "      <td>0.0</td>\n",
       "      <td>0.0</td>\n",
       "      <td>0.0</td>\n",
       "      <td>0.0</td>\n",
       "      <td>0.0</td>\n",
       "      <td>0.0</td>\n",
       "      <td>0.0</td>\n",
       "      <td>0.0</td>\n",
       "      <td>0.0</td>\n",
       "    </tr>\n",
       "    <tr>\n",
       "      <th>1</th>\n",
       "      <td>1.0</td>\n",
       "      <td>1.0</td>\n",
       "      <td>0.0</td>\n",
       "      <td>0.0</td>\n",
       "      <td>0.0</td>\n",
       "      <td>0.0</td>\n",
       "      <td>0.0</td>\n",
       "      <td>0.0</td>\n",
       "      <td>1.0</td>\n",
       "      <td>0.0</td>\n",
       "      <td>...</td>\n",
       "      <td>0.0</td>\n",
       "      <td>0.0</td>\n",
       "      <td>0.0</td>\n",
       "      <td>0.0</td>\n",
       "      <td>0.0</td>\n",
       "      <td>0.0</td>\n",
       "      <td>0.0</td>\n",
       "      <td>0.0</td>\n",
       "      <td>0.0</td>\n",
       "      <td>0.0</td>\n",
       "    </tr>\n",
       "    <tr>\n",
       "      <th>2</th>\n",
       "      <td>0.0</td>\n",
       "      <td>0.0</td>\n",
       "      <td>0.0</td>\n",
       "      <td>0.0</td>\n",
       "      <td>1.0</td>\n",
       "      <td>0.0</td>\n",
       "      <td>0.0</td>\n",
       "      <td>0.0</td>\n",
       "      <td>0.0</td>\n",
       "      <td>0.0</td>\n",
       "      <td>...</td>\n",
       "      <td>0.0</td>\n",
       "      <td>0.0</td>\n",
       "      <td>0.0</td>\n",
       "      <td>1.0</td>\n",
       "      <td>0.0</td>\n",
       "      <td>0.0</td>\n",
       "      <td>0.0</td>\n",
       "      <td>0.0</td>\n",
       "      <td>0.0</td>\n",
       "      <td>0.0</td>\n",
       "    </tr>\n",
       "    <tr>\n",
       "      <th>3</th>\n",
       "      <td>0.0</td>\n",
       "      <td>0.0</td>\n",
       "      <td>0.0</td>\n",
       "      <td>0.0</td>\n",
       "      <td>1.0</td>\n",
       "      <td>0.0</td>\n",
       "      <td>0.0</td>\n",
       "      <td>1.0</td>\n",
       "      <td>0.0</td>\n",
       "      <td>0.0</td>\n",
       "      <td>...</td>\n",
       "      <td>0.0</td>\n",
       "      <td>0.0</td>\n",
       "      <td>0.0</td>\n",
       "      <td>1.0</td>\n",
       "      <td>0.0</td>\n",
       "      <td>0.0</td>\n",
       "      <td>0.0</td>\n",
       "      <td>0.0</td>\n",
       "      <td>0.0</td>\n",
       "      <td>0.0</td>\n",
       "    </tr>\n",
       "    <tr>\n",
       "      <th>4</th>\n",
       "      <td>0.0</td>\n",
       "      <td>0.0</td>\n",
       "      <td>0.0</td>\n",
       "      <td>0.0</td>\n",
       "      <td>1.0</td>\n",
       "      <td>0.0</td>\n",
       "      <td>0.0</td>\n",
       "      <td>0.0</td>\n",
       "      <td>1.0</td>\n",
       "      <td>0.0</td>\n",
       "      <td>...</td>\n",
       "      <td>0.0</td>\n",
       "      <td>0.0</td>\n",
       "      <td>0.0</td>\n",
       "      <td>1.0</td>\n",
       "      <td>0.0</td>\n",
       "      <td>0.0</td>\n",
       "      <td>0.0</td>\n",
       "      <td>0.0</td>\n",
       "      <td>0.0</td>\n",
       "      <td>0.0</td>\n",
       "    </tr>\n",
       "  </tbody>\n",
       "</table>\n",
       "<p>5 rows × 23 columns</p>\n",
       "</div>"
      ],
      "text/plain": [
       "   Action  Adventure  Animation  Biography  Comedy  Crime  Documentary  Drama  \\\n",
       "0     0.0        1.0        1.0        0.0     1.0    0.0          0.0    0.0   \n",
       "1     1.0        1.0        0.0        0.0     0.0    0.0          0.0    0.0   \n",
       "2     0.0        0.0        0.0        0.0     1.0    0.0          0.0    0.0   \n",
       "3     0.0        0.0        0.0        0.0     1.0    0.0          0.0    1.0   \n",
       "4     0.0        0.0        0.0        0.0     1.0    0.0          0.0    0.0   \n",
       "\n",
       "   Family  Fantasy   ...     Music  Musical  Mystery  Romance  Sci-Fi  Short  \\\n",
       "0     0.0      0.0   ...       0.0      0.0      0.0      0.0     0.0    0.0   \n",
       "1     1.0      0.0   ...       0.0      0.0      0.0      0.0     0.0    0.0   \n",
       "2     0.0      0.0   ...       0.0      0.0      0.0      1.0     0.0    0.0   \n",
       "3     0.0      0.0   ...       0.0      0.0      0.0      1.0     0.0    0.0   \n",
       "4     1.0      0.0   ...       0.0      0.0      0.0      1.0     0.0    0.0   \n",
       "\n",
       "   Sport  Thriller  War  Western  \n",
       "0    0.0       0.0  0.0      0.0  \n",
       "1    0.0       0.0  0.0      0.0  \n",
       "2    0.0       0.0  0.0      0.0  \n",
       "3    0.0       0.0  0.0      0.0  \n",
       "4    0.0       0.0  0.0      0.0  \n",
       "\n",
       "[5 rows x 23 columns]"
      ]
     },
     "execution_count": 137,
     "metadata": {},
     "output_type": "execute_result"
    }
   ],
   "source": [
    "movie_dict=[]\n",
    "frame = np.zeros((len(data),len(genre_dict)))\n",
    "for x in range(len(data)):\n",
    "    for y in range(len(genre_dict)):\n",
    "        if genre_dict[y] in data['Genre'][x]:\n",
    "            frame[x, y] = 1\n",
    "df = DataFrame(frame, index=data.index, columns=genre_dict)\n",
    "df.astype(int)\n",
    "df.head()"
   ]
  },
  {
   "cell_type": "code",
   "execution_count": 138,
   "metadata": {
    "collapsed": false
   },
   "outputs": [
    {
     "data": {
      "text/html": [
       "<div>\n",
       "<table border=\"1\" class=\"dataframe\">\n",
       "  <thead>\n",
       "    <tr style=\"text-align: right;\">\n",
       "      <th></th>\n",
       "      <th>Action</th>\n",
       "      <th>Adventure</th>\n",
       "      <th>Animation</th>\n",
       "      <th>Biography</th>\n",
       "      <th>Comedy</th>\n",
       "      <th>Crime</th>\n",
       "      <th>Documentary</th>\n",
       "      <th>Drama</th>\n",
       "      <th>Family</th>\n",
       "      <th>Fantasy</th>\n",
       "      <th>...</th>\n",
       "      <th>Music</th>\n",
       "      <th>Musical</th>\n",
       "      <th>Mystery</th>\n",
       "      <th>Romance</th>\n",
       "      <th>Sci-Fi</th>\n",
       "      <th>Short</th>\n",
       "      <th>Sport</th>\n",
       "      <th>Thriller</th>\n",
       "      <th>War</th>\n",
       "      <th>Western</th>\n",
       "    </tr>\n",
       "  </thead>\n",
       "  <tbody>\n",
       "    <tr>\n",
       "      <th>Action</th>\n",
       "      <td>1.000000</td>\n",
       "      <td>0.277976</td>\n",
       "      <td>-0.025063</td>\n",
       "      <td>-0.069995</td>\n",
       "      <td>-0.135529</td>\n",
       "      <td>0.163815</td>\n",
       "      <td>-0.072735</td>\n",
       "      <td>-0.204706</td>\n",
       "      <td>-0.065998</td>\n",
       "      <td>-0.002470</td>\n",
       "      <td>...</td>\n",
       "      <td>-0.096919</td>\n",
       "      <td>-0.055597</td>\n",
       "      <td>-0.070896</td>\n",
       "      <td>-0.185252</td>\n",
       "      <td>0.145366</td>\n",
       "      <td>-0.020705</td>\n",
       "      <td>-0.034326</td>\n",
       "      <td>0.099544</td>\n",
       "      <td>-0.020844</td>\n",
       "      <td>-0.023237</td>\n",
       "    </tr>\n",
       "    <tr>\n",
       "      <th>Adventure</th>\n",
       "      <td>0.277976</td>\n",
       "      <td>1.000000</td>\n",
       "      <td>0.249492</td>\n",
       "      <td>-0.046469</td>\n",
       "      <td>-0.040112</td>\n",
       "      <td>-0.118313</td>\n",
       "      <td>-0.059940</td>\n",
       "      <td>-0.211865</td>\n",
       "      <td>0.206341</td>\n",
       "      <td>0.066669</td>\n",
       "      <td>...</td>\n",
       "      <td>-0.084633</td>\n",
       "      <td>-0.041249</td>\n",
       "      <td>-0.083607</td>\n",
       "      <td>-0.150099</td>\n",
       "      <td>0.047072</td>\n",
       "      <td>-0.004738</td>\n",
       "      <td>-0.045592</td>\n",
       "      <td>-0.057835</td>\n",
       "      <td>-0.049806</td>\n",
       "      <td>0.010846</td>\n",
       "    </tr>\n",
       "    <tr>\n",
       "      <th>Animation</th>\n",
       "      <td>-0.025063</td>\n",
       "      <td>0.249492</td>\n",
       "      <td>1.000000</td>\n",
       "      <td>-0.038921</td>\n",
       "      <td>0.023305</td>\n",
       "      <td>-0.070597</td>\n",
       "      <td>-0.030400</td>\n",
       "      <td>-0.127398</td>\n",
       "      <td>0.192466</td>\n",
       "      <td>0.034322</td>\n",
       "      <td>...</td>\n",
       "      <td>-0.009198</td>\n",
       "      <td>-0.011954</td>\n",
       "      <td>-0.046231</td>\n",
       "      <td>-0.089731</td>\n",
       "      <td>-0.022220</td>\n",
       "      <td>0.170348</td>\n",
       "      <td>-0.024852</td>\n",
       "      <td>-0.065933</td>\n",
       "      <td>-0.029874</td>\n",
       "      <td>-0.021690</td>\n",
       "    </tr>\n",
       "    <tr>\n",
       "      <th>Biography</th>\n",
       "      <td>-0.069995</td>\n",
       "      <td>-0.046469</td>\n",
       "      <td>-0.038921</td>\n",
       "      <td>1.000000</td>\n",
       "      <td>-0.135045</td>\n",
       "      <td>-0.040317</td>\n",
       "      <td>0.151883</td>\n",
       "      <td>0.109696</td>\n",
       "      <td>-0.052510</td>\n",
       "      <td>-0.057216</td>\n",
       "      <td>...</td>\n",
       "      <td>0.078301</td>\n",
       "      <td>-0.003769</td>\n",
       "      <td>-0.055558</td>\n",
       "      <td>-0.045578</td>\n",
       "      <td>-0.060111</td>\n",
       "      <td>-0.011275</td>\n",
       "      <td>0.058730</td>\n",
       "      <td>-0.078894</td>\n",
       "      <td>0.002792</td>\n",
       "      <td>-0.018815</td>\n",
       "    </tr>\n",
       "    <tr>\n",
       "      <th>Comedy</th>\n",
       "      <td>-0.135529</td>\n",
       "      <td>-0.040112</td>\n",
       "      <td>0.023305</td>\n",
       "      <td>-0.135045</td>\n",
       "      <td>1.000000</td>\n",
       "      <td>-0.078264</td>\n",
       "      <td>-0.110926</td>\n",
       "      <td>-0.257221</td>\n",
       "      <td>0.086259</td>\n",
       "      <td>-0.001019</td>\n",
       "      <td>...</td>\n",
       "      <td>0.023699</td>\n",
       "      <td>0.070746</td>\n",
       "      <td>-0.142515</td>\n",
       "      <td>0.105205</td>\n",
       "      <td>-0.115226</td>\n",
       "      <td>0.011173</td>\n",
       "      <td>-0.009745</td>\n",
       "      <td>-0.248786</td>\n",
       "      <td>-0.083561</td>\n",
       "      <td>-0.046653</td>\n",
       "    </tr>\n",
       "  </tbody>\n",
       "</table>\n",
       "<p>5 rows × 23 columns</p>\n",
       "</div>"
      ],
      "text/plain": [
       "             Action  Adventure  Animation  Biography    Comedy     Crime  \\\n",
       "Action     1.000000   0.277976  -0.025063  -0.069995 -0.135529  0.163815   \n",
       "Adventure  0.277976   1.000000   0.249492  -0.046469 -0.040112 -0.118313   \n",
       "Animation -0.025063   0.249492   1.000000  -0.038921  0.023305 -0.070597   \n",
       "Biography -0.069995  -0.046469  -0.038921   1.000000 -0.135045 -0.040317   \n",
       "Comedy    -0.135529  -0.040112   0.023305  -0.135045  1.000000 -0.078264   \n",
       "\n",
       "           Documentary     Drama    Family   Fantasy    ...        Music  \\\n",
       "Action       -0.072735 -0.204706 -0.065998 -0.002470    ...    -0.096919   \n",
       "Adventure    -0.059940 -0.211865  0.206341  0.066669    ...    -0.084633   \n",
       "Animation    -0.030400 -0.127398  0.192466  0.034322    ...    -0.009198   \n",
       "Biography     0.151883  0.109696 -0.052510 -0.057216    ...     0.078301   \n",
       "Comedy       -0.110926 -0.257221  0.086259 -0.001019    ...     0.023699   \n",
       "\n",
       "            Musical   Mystery   Romance    Sci-Fi     Short     Sport  \\\n",
       "Action    -0.055597 -0.070896 -0.185252  0.145366 -0.020705 -0.034326   \n",
       "Adventure -0.041249 -0.083607 -0.150099  0.047072 -0.004738 -0.045592   \n",
       "Animation -0.011954 -0.046231 -0.089731 -0.022220  0.170348 -0.024852   \n",
       "Biography -0.003769 -0.055558 -0.045578 -0.060111 -0.011275  0.058730   \n",
       "Comedy     0.070746 -0.142515  0.105205 -0.115226  0.011173 -0.009745   \n",
       "\n",
       "           Thriller       War   Western  \n",
       "Action     0.099544 -0.020844 -0.023237  \n",
       "Adventure -0.057835 -0.049806  0.010846  \n",
       "Animation -0.065933 -0.029874 -0.021690  \n",
       "Biography -0.078894  0.002792 -0.018815  \n",
       "Comedy    -0.248786 -0.083561 -0.046653  \n",
       "\n",
       "[5 rows x 23 columns]"
      ]
     },
     "execution_count": 138,
     "metadata": {},
     "output_type": "execute_result"
    }
   ],
   "source": [
    "genres = df\n",
    "corrmat = genres.corr()\n",
    "corrmat.head()"
   ]
  },
  {
   "cell_type": "code",
   "execution_count": 139,
   "metadata": {
    "collapsed": false
   },
   "outputs": [
    {
     "data": {
      "image/png": "[encoded data removed]",
      "text/plain": [
       "<matplotlib.figure.Figure at 0x7f95b4b00f98>"
      ]
     },
     "metadata": {},
     "output_type": "display_data"
    }
   ],
   "source": [
    "# set appropriate font and dpi\n",
    "sns.set(font_scale=1.2)\n",
    "# plot heatmap\n",
    "plt.figure(figsize = (10,10))\n",
    "ax = sns.heatmap(corrmat,linewidths=.1, vmin=-0.4, vmax=0.4, cmap=\"coolwarm\")\n",
    "\n",
    "plt.show()"
   ]
  },
  {
   "cell_type": "code",
   "execution_count": 140,
   "metadata": {
    "collapsed": false
   },
   "outputs": [
    {
     "data": {
      "text/html": [
       "<div>\n",
       "<table border=\"1\" class=\"dataframe\">\n",
       "  <thead>\n",
       "    <tr style=\"text-align: right;\">\n",
       "      <th></th>\n",
       "      <th>Action</th>\n",
       "      <th>Adventure</th>\n",
       "      <th>Animation</th>\n",
       "      <th>Biography</th>\n",
       "      <th>Comedy</th>\n",
       "      <th>Crime</th>\n",
       "      <th>Documentary</th>\n",
       "      <th>Drama</th>\n",
       "      <th>Family</th>\n",
       "      <th>Fantasy</th>\n",
       "      <th>...</th>\n",
       "      <th>Musical</th>\n",
       "      <th>Mystery</th>\n",
       "      <th>Romance</th>\n",
       "      <th>Sci-Fi</th>\n",
       "      <th>Short</th>\n",
       "      <th>Sport</th>\n",
       "      <th>Thriller</th>\n",
       "      <th>War</th>\n",
       "      <th>Western</th>\n",
       "      <th>num_genres</th>\n",
       "    </tr>\n",
       "  </thead>\n",
       "  <tbody>\n",
       "    <tr>\n",
       "      <th>0</th>\n",
       "      <td>0.0</td>\n",
       "      <td>1.0</td>\n",
       "      <td>1.0</td>\n",
       "      <td>0.0</td>\n",
       "      <td>1.0</td>\n",
       "      <td>0.0</td>\n",
       "      <td>0.0</td>\n",
       "      <td>0.0</td>\n",
       "      <td>0.0</td>\n",
       "      <td>0.0</td>\n",
       "      <td>...</td>\n",
       "      <td>0.0</td>\n",
       "      <td>0.0</td>\n",
       "      <td>0.0</td>\n",
       "      <td>0.0</td>\n",
       "      <td>0.0</td>\n",
       "      <td>0.0</td>\n",
       "      <td>0.0</td>\n",
       "      <td>0.0</td>\n",
       "      <td>0.0</td>\n",
       "      <td>3.0</td>\n",
       "    </tr>\n",
       "    <tr>\n",
       "      <th>1</th>\n",
       "      <td>1.0</td>\n",
       "      <td>1.0</td>\n",
       "      <td>0.0</td>\n",
       "      <td>0.0</td>\n",
       "      <td>0.0</td>\n",
       "      <td>0.0</td>\n",
       "      <td>0.0</td>\n",
       "      <td>0.0</td>\n",
       "      <td>1.0</td>\n",
       "      <td>0.0</td>\n",
       "      <td>...</td>\n",
       "      <td>0.0</td>\n",
       "      <td>0.0</td>\n",
       "      <td>0.0</td>\n",
       "      <td>0.0</td>\n",
       "      <td>0.0</td>\n",
       "      <td>0.0</td>\n",
       "      <td>0.0</td>\n",
       "      <td>0.0</td>\n",
       "      <td>0.0</td>\n",
       "      <td>2.0</td>\n",
       "    </tr>\n",
       "    <tr>\n",
       "      <th>2</th>\n",
       "      <td>0.0</td>\n",
       "      <td>0.0</td>\n",
       "      <td>0.0</td>\n",
       "      <td>0.0</td>\n",
       "      <td>1.0</td>\n",
       "      <td>0.0</td>\n",
       "      <td>0.0</td>\n",
       "      <td>0.0</td>\n",
       "      <td>0.0</td>\n",
       "      <td>0.0</td>\n",
       "      <td>...</td>\n",
       "      <td>0.0</td>\n",
       "      <td>0.0</td>\n",
       "      <td>1.0</td>\n",
       "      <td>0.0</td>\n",
       "      <td>0.0</td>\n",
       "      <td>0.0</td>\n",
       "      <td>0.0</td>\n",
       "      <td>0.0</td>\n",
       "      <td>0.0</td>\n",
       "      <td>2.0</td>\n",
       "    </tr>\n",
       "    <tr>\n",
       "      <th>3</th>\n",
       "      <td>0.0</td>\n",
       "      <td>0.0</td>\n",
       "      <td>0.0</td>\n",
       "      <td>0.0</td>\n",
       "      <td>1.0</td>\n",
       "      <td>0.0</td>\n",
       "      <td>0.0</td>\n",
       "      <td>1.0</td>\n",
       "      <td>0.0</td>\n",
       "      <td>0.0</td>\n",
       "      <td>...</td>\n",
       "      <td>0.0</td>\n",
       "      <td>0.0</td>\n",
       "      <td>1.0</td>\n",
       "      <td>0.0</td>\n",
       "      <td>0.0</td>\n",
       "      <td>0.0</td>\n",
       "      <td>0.0</td>\n",
       "      <td>0.0</td>\n",
       "      <td>0.0</td>\n",
       "      <td>3.0</td>\n",
       "    </tr>\n",
       "    <tr>\n",
       "      <th>4</th>\n",
       "      <td>0.0</td>\n",
       "      <td>0.0</td>\n",
       "      <td>0.0</td>\n",
       "      <td>0.0</td>\n",
       "      <td>1.0</td>\n",
       "      <td>0.0</td>\n",
       "      <td>0.0</td>\n",
       "      <td>0.0</td>\n",
       "      <td>1.0</td>\n",
       "      <td>0.0</td>\n",
       "      <td>...</td>\n",
       "      <td>0.0</td>\n",
       "      <td>0.0</td>\n",
       "      <td>1.0</td>\n",
       "      <td>0.0</td>\n",
       "      <td>0.0</td>\n",
       "      <td>0.0</td>\n",
       "      <td>0.0</td>\n",
       "      <td>0.0</td>\n",
       "      <td>0.0</td>\n",
       "      <td>3.0</td>\n",
       "    </tr>\n",
       "  </tbody>\n",
       "</table>\n",
       "<p>5 rows × 24 columns</p>\n",
       "</div>"
      ],
      "text/plain": [
       "   Action  Adventure  Animation  Biography  Comedy  Crime  Documentary  Drama  \\\n",
       "0     0.0        1.0        1.0        0.0     1.0    0.0          0.0    0.0   \n",
       "1     1.0        1.0        0.0        0.0     0.0    0.0          0.0    0.0   \n",
       "2     0.0        0.0        0.0        0.0     1.0    0.0          0.0    0.0   \n",
       "3     0.0        0.0        0.0        0.0     1.0    0.0          0.0    1.0   \n",
       "4     0.0        0.0        0.0        0.0     1.0    0.0          0.0    0.0   \n",
       "\n",
       "   Family  Fantasy     ...      Musical  Mystery  Romance  Sci-Fi  Short  \\\n",
       "0     0.0      0.0     ...          0.0      0.0      0.0     0.0    0.0   \n",
       "1     1.0      0.0     ...          0.0      0.0      0.0     0.0    0.0   \n",
       "2     0.0      0.0     ...          0.0      0.0      1.0     0.0    0.0   \n",
       "3     0.0      0.0     ...          0.0      0.0      1.0     0.0    0.0   \n",
       "4     1.0      0.0     ...          0.0      0.0      1.0     0.0    0.0   \n",
       "\n",
       "   Sport  Thriller  War  Western  num_genres  \n",
       "0    0.0       0.0  0.0      0.0         3.0  \n",
       "1    0.0       0.0  0.0      0.0         2.0  \n",
       "2    0.0       0.0  0.0      0.0         2.0  \n",
       "3    0.0       0.0  0.0      0.0         3.0  \n",
       "4    0.0       0.0  0.0      0.0         3.0  \n",
       "\n",
       "[5 rows x 24 columns]"
      ]
     },
     "execution_count": 140,
     "metadata": {},
     "output_type": "execute_result"
    }
   ],
   "source": [
    "# generate new Y variable -- number of genres\n",
    "genres['num_genres'] = genres.ix[:, 1:19].sum(axis=1)\n",
    "genres.head()"
   ]
  },
  {
   "cell_type": "code",
   "execution_count": 141,
   "metadata": {
    "collapsed": false
   },
   "outputs": [
    {
     "data": {
      "text/plain": [
       "(3999, 24)"
      ]
     },
     "execution_count": 141,
     "metadata": {},
     "output_type": "execute_result"
    }
   ],
   "source": [
    "genres.shape"
   ]
  },
  {
   "cell_type": "code",
   "execution_count": 142,
   "metadata": {
    "collapsed": false
   },
   "outputs": [
    {
     "data": {
      "text/plain": [
       "(3999,)"
      ]
     },
     "execution_count": 142,
     "metadata": {},
     "output_type": "execute_result"
    }
   ],
   "source": [
    "poster_df = data['Poster']\n",
    "poster_df.shape"
   ]
  },
  {
   "cell_type": "code",
   "execution_count": 143,
   "metadata": {
    "collapsed": false
   },
   "outputs": [
    {
     "data": {
      "text/plain": [
       "(3999,)"
      ]
     },
     "execution_count": 143,
     "metadata": {},
     "output_type": "execute_result"
    }
   ],
   "source": [
    "imdbId_df = data['imdbId']\n",
    "imdbId_df.shape"
   ]
  },
  {
   "cell_type": "code",
   "execution_count": 144,
   "metadata": {
    "collapsed": false
   },
   "outputs": [
    {
     "data": {
      "text/plain": [
       "3999"
      ]
     },
     "execution_count": 144,
     "metadata": {},
     "output_type": "execute_result"
    }
   ],
   "source": [
    "newposter_df = []\n",
    "for i in range(poster_df.shape[0]):\n",
    "    if(poster_df[i]!=''):\n",
    "        newposter_df.append(poster_df[i])\n",
    "len(newposter_df)"
   ]
  },
  {
   "cell_type": "code",
   "execution_count": null,
   "metadata": {
    "collapsed": false
   },
   "outputs": [],
   "source": [
    "\n",
    "X_data = []\n",
    "count=0\n",
    "for i in range(genres.shape[0]):\n",
    "    ind = 0\n",
    "    try:\n",
    "        file = urlopen(newposter_df[i])\n",
    "    except urllib.error.HTTPError as e:\n",
    "        if e.code == 404:\n",
    "            ind = 1\n",
    "        else:\n",
    "            ind = 1\n",
    "    if ind == 0:\n",
    "        img = plt.imread(file, format='jpg')\n",
    "        X_data.append(img)             "
   ]
  },
  {
   "cell_type": "code",
   "execution_count": 66,
   "metadata": {
    "collapsed": false
   },
   "outputs": [
    {
     "data": {
      "text/plain": [
       "['Action',\n",
       " 'Adventure',\n",
       " 'Animation',\n",
       " 'Biography',\n",
       " 'Comedy',\n",
       " 'Crime',\n",
       " 'Documentary',\n",
       " 'Drama',\n",
       " 'Family',\n",
       " 'Fantasy',\n",
       " 'Film-Noir',\n",
       " 'History',\n",
       " 'Horror',\n",
       " 'Music',\n",
       " 'Musical',\n",
       " 'Mystery',\n",
       " 'Romance',\n",
       " 'Sci-Fi',\n",
       " 'Short',\n",
       " 'Sport',\n",
       " 'Thriller',\n",
       " 'War',\n",
       " 'Western']"
      ]
     },
     "execution_count": 66,
     "metadata": {},
     "output_type": "execute_result"
    }
   ],
   "source": [
    "genres_dirs = genres.columns.tolist()[0:-1]\n",
    "genres_dirs"
   ]
  },
  {
   "cell_type": "markdown",
   "metadata": {},
   "source": [
    "# Etiquetado de Datos para clasificación CNN"
   ]
  },
  {
   "cell_type": "code",
   "execution_count": 161,
   "metadata": {
    "collapsed": false
   },
   "outputs": [],
   "source": [
    "\n",
    "for i in range(len(genres_dirs)):\n",
    "    nuevaruta = r'data/poster_genre/'+genres_dirs[i] \n",
    "    if not os.path.exists(nuevaruta): os.makedirs(nuevaruta)"
   ]
  },
  {
   "cell_type": "code",
   "execution_count": 93,
   "metadata": {
    "collapsed": false
   },
   "outputs": [],
   "source": [
    "\n",
    "ruta = 'data/poster_genre/'\n",
    "for i in range(len(X_data)):\n",
    "    for j in range(len(genres_dirs)):\n",
    "        if(genres[genres_dirs[j]][i] == 1.0):\n",
    "            ruta_especifica = ruta + genres_dirs[j] + \"/\" + str(imdbId_df[i]) + \".jpg\"\n",
    "            scipy.misc.imsave(ruta_especifica, X_data[i])"
   ]
  },
  {
   "cell_type": "code",
   "execution_count": 155,
   "metadata": {
    "collapsed": true
   },
   "outputs": [],
   "source": [
    "DATA_PATH = \"data/poster_genre/\"\n",
    "SAVE_PATH=\"data/poster_genre_resize/\"\n",
    "VALIDATION_PERCENT = .2\n",
    "TEST_PERCENT = .2\n",
    "IMAGE_WIDTH = 154\n",
    "IMAGE_HEIGHT=154\n",
    "IMAGE_SIZE=154\n",
    "NUM_CHANNELS = 3 # RGB channels\n",
    "PIXEL_DEPTH = 255.0\n",
    "NUM_GENRES = 19\n",
    "NUM_ROWS=1000\n",
    "PARTITION_TEST = False"
   ]
  },
  {
   "cell_type": "code",
   "execution_count": 25,
   "metadata": {
    "collapsed": true
   },
   "outputs": [],
   "source": [
    "imdb_index_dict={}\n",
    "for i in range(data.shape[0]):\n",
    "    imdb_index_dict[data.iloc[i,0]]=i"
   ]
  },
  {
   "cell_type": "code",
   "execution_count": 28,
   "metadata": {
    "collapsed": false
   },
   "outputs": [],
   "source": [
    "def to_rgb(im):\n",
    "    w, h = im.shape\n",
    "    ret = np.empty((w, h, 3), dtype=np.uint8)\n",
    "    ret[:, :, :] = im[:, :, np.newaxis]\n",
    "    return ret\n",
    "def read_image_from_file(file_path):\n",
    "    img = Image.open(file_path).convert('RGB')\n",
    "    img = img.resize((IMAGE_WIDTH,IMAGE_HEIGHT), Image.ANTIALIAS) #downsample image\n",
    "    pixel_values = np.array(img.getdata())\n",
    "    return np.reshape(pixel_values, [IMAGE_WIDTH,IMAGE_HEIGHT, NUM_CHANNELS])\n",
    "def make_dataset_arrays(num_rows=NUM_ROWS,label=2):\n",
    "    data = np.ndarray((num_rows, IMAGE_WIDTH,IMAGE_HEIGHT, NUM_CHANNELS), dtype=np.float32)\n",
    "    labels = np.ndarray((num_rows, NUM_GENRES), dtype=np.int32)\n",
    "    if label==3:\n",
    "        single_label=np.ndarray((num_rows, NUM_GENRES), dtype=np.int32)\n",
    "        return data, labels, single_label\n",
    "    else:\n",
    "        return data, labels\n",
    "def scale_pixel_values(dataset):\n",
    "    return (dataset - PIXEL_DEPTH / 2.0) / PIXEL_DEPTH"
   ]
  },
  {
   "cell_type": "code",
   "execution_count": 162,
   "metadata": {
    "collapsed": false
   },
   "outputs": [
    {
     "name": "stdout",
     "output_type": "stream",
     "text": [
      "['data/poster_genre/Musical', 'data/poster_genre/Film-Noir', 'data/poster_genre/Action', 'data/poster_genre/Sci-Fi', 'data/poster_genre/Music', 'data/poster_genre/Crime', 'data/poster_genre/Biography', 'data/poster_genre/Mystery', 'data/poster_genre/Romance', 'data/poster_genre/Drama', 'data/poster_genre/Family', 'data/poster_genre/Animation', 'data/poster_genre/History', 'data/poster_genre/Fantasy', 'data/poster_genre/Comedy', 'data/poster_genre/Short', 'data/poster_genre/Western', 'data/poster_genre/Adventure', 'data/poster_genre/Documentary', 'data/poster_genre/Horror', 'data/poster_genre/Sport', 'data/poster_genre/Thriller', 'data/poster_genre/War']\n"
     ]
    }
   ],
   "source": [
    "directory_list = list()\n",
    "for root, dirs, files in os.walk(DATA_PATH, topdown=False):\n",
    "    for name in dirs:\n",
    "        directory_list.append(os.path.join(root, name))\n",
    "print(directory_list)"
   ]
  },
  {
   "cell_type": "code",
   "execution_count": 164,
   "metadata": {
    "collapsed": false
   },
   "outputs": [
    {
     "name": "stdout",
     "output_type": "stream",
     "text": [
      "Musical 30\n",
      "Film-Noir 20\n",
      "Action 500\n",
      "Sci-Fi 200\n",
      "Music 70\n",
      "Crime 220\n",
      "Biography 10\n",
      "Mystery 150\n",
      "Romance 500\n",
      "Drama 650\n",
      "Family 70\n",
      "Animation 70\n",
      "History 20\n",
      "Fantasy 40\n",
      "Comedy 620\n",
      "Short 15\n",
      "Western 15\n",
      "Adventure 20\n",
      "Documentary 10\n",
      "Horror 80\n",
      "Sport 40\n",
      "Thriller 600\n",
      "War 50\n"
     ]
    }
   ],
   "source": [
    "\n",
    "label_order=genres.columns.tolist()[1:]\n",
    "label_dict={}\n",
    "for i in range(len(label_order)):\n",
    "    label_dict[label_order[i]]=i\n",
    "for d in directory_list:\n",
    "    genre_name=d.split('/')[2]\n",
    "    file_list = []\n",
    "    for (dirpath, dirnames, filenames) in os.walk(d):\n",
    "        file_list.extend(filenames)    \n",
    "    print(genre_name,len(file_list))"
   ]
  },
  {
   "cell_type": "code",
   "execution_count": 166,
   "metadata": {
    "collapsed": false
   },
   "outputs": [
    {
     "name": "stdout",
     "output_type": "stream",
     "text": [
      "Musical 77.32352590560913\n",
      "Film-Noir 76.26311612129211\n",
      "Action 86.79342079162598\n",
      "Sci-Fi 64.31107664108276\n",
      "Music 67.91265320777893\n",
      "Crime 55.410622358322144\n",
      "Biography 52.43929839134216\n",
      "Mystery 41.751176834106445\n",
      "Romance 56.86282134056091\n",
      "Drama 67.78369450569153\n",
      "Family 64.30848813056946\n",
      "Animation 62.21457934346583\n",
      "History 24.333733081817627\n",
      "Fantasy 27.772007703781128\n",
      "Comedy 23.761247396469116\n",
      "Short 56.50035738945007\n",
      "Western 22.92879581451416\n",
      "Adventure 59.71014142036438\n",
      "Documentary 59.71014142036438\n",
      "Horror 22.35083508491516\n",
      "Sport 33.322335098732346\n",
      "Thriller 60.032227993011475\n",
      "War 26.932445127017434\n"
     ]
    }
   ],
   "source": [
    "#label_order=genres.columns.tolist()[1:]\n",
    "#label_dict={}\n",
    "#for i in range(len(label_order)):\n",
    "    #label_dict[label_order[i]]=i\n",
    "for d in directory_list:\n",
    "    startTime = time()\n",
    "    num_train = 0\n",
    "    genre_name=d.split('/')[2]\n",
    "    train_data, train_labels, train_single_label = make_dataset_arrays(label=3)\n",
    "    file_list = []\n",
    "    for (dirpath, dirnames, filenames) in os.walk(d):\n",
    "        file_list.extend(filenames)    \n",
    "    samples=random.sample(file_list,NUM_ROWS)#NUM_ROWS\n",
    "    for sample in samples:\n",
    "        image=read_image_from_file(d+\"/\"+sample)\n",
    "        tmdb_id=int(sample.split(\".\")[0])\n",
    "        index=tmdb_index_dict[tmdb_id]\n",
    "        labels=genres.iloc[index,1:]\n",
    "        train_data[num_train]=image\n",
    "        train_labels[num_train]=labels\n",
    "        ## make single-class label\n",
    "        single_label=np.zeros(NUM_GENRES)\n",
    "        single_label[label_dict[genre_name]]=1\n",
    "        train_single_label[num_train]=single_label\n",
    "        num_train +=1\n",
    "    #train_data = scale_pixel_values(train_data)\n",
    "    pickle_file = SAVE_PATH+genre_name+'_data.pickle'\n",
    "    save = {\n",
    "        'train_data': train_data,\n",
    "        'train_labels': train_labels,\n",
    "        'single_label': train_single_label\n",
    "    }\n",
    "    pickle.dump(save,open(pickle_file, 'wb'))\n",
    "    endTime = time()-startTime\n",
    "    print(genre_name,endTime)"
   ]
  },
  {
   "cell_type": "markdown",
   "metadata": {},
   "source": [
    "# Convolutional Neural Network "
   ]
  },
  {
   "cell_type": "code",
   "execution_count": 173,
   "metadata": {
    "collapsed": false
   },
   "outputs": [],
   "source": [
    "input_shape = (IMAGE_WIDTH,IMAGE_HEIGHT, 3)\n",
    "#sample_index=random.sample(range(69), num_batch)\n",
    "sample_index=np.arange(30)\n",
    "train_index=label_order\n",
    "test_index=sample_index[10:20]\n",
    "val_index=sample_index[20:]\n",
    "num_test=len(test_index)*NUM_ROWS\n",
    "num_train=len(train_index)*NUM_ROWS\n",
    "num_val=len(val_index)*NUM_ROWS\n",
    "train_X=np.zeros((num_train,IMAGE_WIDTH,IMAGE_HEIGHT, 3))\n",
    "train_Y1=np.zeros((num_train,NUM_GENRES))\n",
    "train_Y2=np.zeros((num_train,NUM_GENRES))\n",
    "test_X=np.zeros((num_test,IMAGE_WIDTH,IMAGE_HEIGHT, 3))\n",
    "test_Y=np.zeros((num_test,NUM_GENRES))\n",
    "val_X=np.zeros((num_val,IMAGE_WIDTH,IMAGE_HEIGHT, 3))\n",
    "val_Y=np.zeros((num_val,NUM_GENRES))"
   ]
  },
  {
   "cell_type": "code",
   "execution_count": 174,
   "metadata": {
    "collapsed": true
   },
   "outputs": [],
   "source": [
    "input_shape = (IMAGE_WIDTH,IMAGE_HEIGHT, 3)\n",
    "# smaller batch size means noisier gradient, but more updates per epoch\n",
    "batch_size = 100\n",
    "# this is fixed, we have 19 output classes\n",
    "num_classes = NUM_GENRES\n",
    "classes = NUM_GENRES\n",
    "# sample batch\n",
    "num_batch = 15"
   ]
  },
  {
   "cell_type": "code",
   "execution_count": 175,
   "metadata": {
    "collapsed": false
   },
   "outputs": [],
   "source": [
    "# Training data\n",
    "train_index=label_order\n",
    "num_train=len(train_index)*NUM_ROWS\n",
    "train_X=np.zeros((num_train,IMAGE_WIDTH,IMAGE_HEIGHT, 3))\n",
    "train_Y1=np.zeros((num_train,NUM_GENRES))\n",
    "train_Y2=np.zeros((num_train,NUM_GENRES))\n",
    "for i in range(len(train_index)):\n",
    "    file_name=str(train_index[i])+\"_data.pickle\"\n",
    "    pickle_file=SAVE_PATH+file_name\n",
    "    with open(pickle_file, 'rb') as f:\n",
    "        save = pickle.load(f)\n",
    "        train_X[i*NUM_ROWS:(i+1)*NUM_ROWS] = save['train_data']\n",
    "        train_Y1[i*NUM_ROWS:(i+1)*NUM_ROWS] = save['train_labels']\n",
    "        train_Y2[i*NUM_ROWS:(i+1)*NUM_ROWS] = save['single_label']"
   ]
  },
  {
   "cell_type": "code",
   "execution_count": 172,
   "metadata": {
    "collapsed": true
   },
   "outputs": [],
   "source": [
    "datagen = ImageDataGenerator(\n",
    "    samplewise_center=True,\n",
    "    samplewise_std_normalization=True,\n",
    "    rescale=1./255,\n",
    "    rotation_range=20,\n",
    "    width_shift_range=0.2,\n",
    "    height_shift_range=0.2,\n",
    "    horizontal_flip=True)"
   ]
  },
  {
   "cell_type": "code",
   "execution_count": 168,
   "metadata": {
    "collapsed": false
   },
   "outputs": [
    {
     "name": "stdout",
     "output_type": "stream",
     "text": [
      "_________________________________________________________________\n",
      "Layer (type)                 Output Shape              Param #   \n",
      "=================================================================\n",
      "conv2d_1 (Conv2D)            (None, 150, 150, 64)      4864      \n",
      "_________________________________________________________________\n",
      "conv2d_2 (Conv2D)            (None, 148, 148, 64)      36928     \n",
      "_________________________________________________________________\n",
      "max_pooling2d_1 (MaxPooling2 (None, 74, 74, 64)        0         \n",
      "_________________________________________________________________\n",
      "dropout_1 (Dropout)          (None, 74, 74, 64)        0         \n",
      "_________________________________________________________________\n",
      "conv2d_3 (Conv2D)            (None, 72, 72, 32)        18464     \n",
      "_________________________________________________________________\n",
      "conv2d_4 (Conv2D)            (None, 70, 70, 32)        9248      \n",
      "_________________________________________________________________\n",
      "max_pooling2d_2 (MaxPooling2 (None, 35, 35, 32)        0         \n",
      "_________________________________________________________________\n",
      "dropout_2 (Dropout)          (None, 35, 35, 32)        0         \n",
      "_________________________________________________________________\n",
      "flatten_1 (Flatten)          (None, 39200)             0         \n",
      "_________________________________________________________________\n",
      "dense_1 (Dense)              (None, 64)                2508864   \n",
      "_________________________________________________________________\n",
      "dense_2 (Dense)              (None, 64)                4160      \n",
      "_________________________________________________________________\n",
      "dropout_3 (Dropout)          (None, 64)                0         \n",
      "_________________________________________________________________\n",
      "dense_3 (Dense)              (None, 19)                1235      \n",
      "=================================================================\n",
      "Total params: 2,583,763\n",
      "Trainable params: 2,583,763\n",
      "Non-trainable params: 0\n",
      "_________________________________________________________________\n"
     ]
    }
   ],
   "source": [
    "\n",
    "model = Sequential()\n",
    "# input: 154x154 images with 3 channels -> (154, 154, 3) tensors.\n",
    "# this applies 64 convolution filters of size 3x3 each.\n",
    "model.add(Conv2D(64, (5, 5), activation='relu', input_shape=input_shape))\n",
    "model.add(Conv2D(64, (3, 3), activation='relu'))\n",
    "model.add(MaxPooling2D(pool_size=(2, 2)))\n",
    "model.add(Dropout(0.25))\n",
    "\n",
    "model.add(Conv2D(32, (3, 3), activation='relu'))\n",
    "model.add(Conv2D(32, (3, 3), activation='relu'))\n",
    "model.add(MaxPooling2D(pool_size=(2, 2)))\n",
    "model.add(Dropout(0.25))\n",
    "\n",
    "model.add(Flatten())\n",
    "model.add(Dense(64, activation='relu'))\n",
    "model.add(Dense(64, activation='relu'))\n",
    "model.add(Dropout(0.5))\n",
    "model.add(Dense(NUM_GENRES,activation='softmax'))\n",
    "\n",
    "# prints out a summary of the model architecture\n",
    "model.summary()"
   ]
  },
  {
   "cell_type": "code",
   "execution_count": 169,
   "metadata": {
    "collapsed": true
   },
   "outputs": [],
   "source": [
    "adam=Adam(lr=0.1, beta_1=0.9, beta_2=0.999, epsilon=1e-08, decay=0.0)\n",
    "#sgd = SGD(lr=0.1, momentum=0.9)\n",
    "#early_stopping = EarlyStopping(monitor='val_loss',patience=2)\n",
    "reduce_lr = ReduceLROnPlateau(monitor='val_loss', factor=0.2,\n",
    "              patience=1, min_lr=0.001)\n",
    "model.compile(loss='categorical_crossentropy',\n",
    "              optimizer=adam,\n",
    "              metrics=['accuracy'])"
   ]
  },
  {
   "cell_type": "code",
   "execution_count": 170,
   "metadata": {
    "collapsed": false
   },
   "outputs": [],
   "source": [
    "c = np.c_[train_X.reshape(len(train_X), -1), train_Y2.reshape(len(train_Y2), -1)]\n",
    "np.random.shuffle(c)\n",
    "x_train = c[:, :train_X.size//len(train_X)].reshape(train_X.shape)\n",
    "y_train = c[:, train_X.size//len(train_X):].reshape(train_Y2.shape)"
   ]
  },
  {
   "cell_type": "code",
   "execution_count": 176,
   "metadata": {
    "collapsed": false
   },
   "outputs": [
    {
     "data": {
      "text/plain": [
       "(2800, 23)"
      ]
     },
     "execution_count": 176,
     "metadata": {},
     "output_type": "execute_result"
    }
   ],
   "source": [
    "y_train.shape"
   ]
  },
  {
   "cell_type": "code",
   "execution_count": 177,
   "metadata": {
    "collapsed": false
   },
   "outputs": [
    {
     "name": "stdout",
     "output_type": "stream",
     "text": [
      "Train on 2240 samples, validate on 560 samples\n",
      "Epoch 1/1\n",
      "2240/2240 [==============================] - 127s - loss: 15.2781 - acc: 0.0520 - val_loss: 15.2783 - val_acc: 0.0521\n",
      "Epoch 2/10\n",
      "2240/2240 [==============================] - 126s - loss: 15.2602 - acc: 0.0532 - val_loss: 15.2783 - val_acc: 0.0521\n",
      "Epoch 3/10\n",
      "2240/2240 [==============================] - 126s - loss: 15.2708 - acc: 0.0526 - val_loss: 15.2783 - val_acc: 0.0521\n",
      "Epoch 4/10\n",
      "2240/2240 [==============================] - 126s - loss: 15.2687 - acc: 0.0527 - val_loss: 15.2783 - val_acc: 0.0521\n",
      "Epoch 5/10\n",
      "2240/2240 [==============================] - 126s - loss: 15.2687 - acc: 0.0527 - val_loss: 15.2783 - val_acc: 0.0521\n",
      "Epoch 6/10\n",
      "2240/2240 [==============================] - 126s - loss: 15.2613 - acc: 0.0532 - val_loss: 15.2783 - val_acc: 0.0521\n",
      "Epoch 7/10\n",
      "2240/2240 [==============================] - 126s - loss: 15.2666 - acc: 0.0528 - val_loss: 15.2783 - val_acc: 0.0521\n",
      "Epoch 8/10\n",
      "2240/2240 [==============================] - 126s - loss: 15.2666 - acc: 0.0528 - val_loss: 15.2783 - val_acc: 0.0521\n",
      "Epoch 9/10\n",
      "2240/2240 [==============================] - 126s - loss: 15.2751 - acc: 0.0523 - val_loss: 15.2783 - val_acc: 0.0521\n",
      "Epoch 10/10\n",
      "2240/2240 [==============================] - 126s - loss: 15.2687 - acc: 0.0527 - val_loss: 15.2783 - val_acc: 0.0521\n"
     ]
    }
   ],
   "source": [
    "epochs = 10\n",
    "history = model.fit(x_train, y_train, batch_size=batch_size, \n",
    "                    epochs=epochs,\n",
    "                    validation_split=0.2,\n",
    "                    callbacks=[reduce_lr])"
   ]
  },
  {
   "cell_type": "code",
   "execution_count": 178,
   "metadata": {
    "collapsed": false
   },
   "outputs": [],
   "source": [
    "pred_val_Y = model.predict(x_train)"
   ]
  },
  {
   "cell_type": "code",
   "execution_count": 179,
   "metadata": {
    "collapsed": false
   },
   "outputs": [
    {
     "name": "stdout",
     "output_type": "stream",
     "text": [
      "Musical 0.947368\n",
      "Film-Noir 0.947368\n",
      "Action 0.947368\n",
      "Sci-Fi 0.934053\n",
      "Music 0.947368\n",
      "Crime 0.065105\n",
      "Biography 0.947368\n",
      "Mystery 0.947368\n",
      "Romance 0.947368\n",
      "Drama 0.947368\n",
      "Family 0.947368\n",
      "Animation 0.947368\n",
      "History 0.947368\n",
      "Fantasy 0.947368\n",
      "Comedy 0.947368\n",
      "Short 0.947368\n",
      "Western 0.947368\n",
      "Adventure 0.947368\n",
      "Documentary 0.947368\n",
      "Horror 0.947368\n",
      "Sport 0.947368\n",
      "Thriller 0.947368\n",
      "War 0.947368\n",
      "dtype: float64"
     ]
    }
   ],
   "source": [
    "acc_baseline = np.mean(pd.DataFrame(pred_val_Y, columns=genres.columns) == pd.DataFrame(y_train, columns=genres.columns))\n",
    "acc_baseline"
   ]
  },
  {
   "cell_type": "code",
   "execution_count": 181,
   "metadata": {
    "collapsed": false
   },
   "outputs": [
    {
     "name": "stdout",
     "output_type": "stream",
     "text": [
      "Overall accuracy CNN: 90.02 %"
     ]
    }
   ],
   "source": [
    "print(\"Overall accuracy CNN:\", round(acc_baseline.sum() / 19 * 100, 2), \"%\\n\")"
   ]
  },
  {
   "cell_type": "code",
   "execution_count": 180,
   "metadata": {
    "collapsed": false
   },
   "outputs": [
    {
     "name": "stdout",
     "output_type": "stream",
     "text": [
      "Precision CNN: 0.005\n",
      "Recall CNN: 0.052\n",
      "F1 score CNN: 0.006\n"
     ]
    }
   ],
   "source": [
    "warnings.filterwarnings('ignore')\n",
    "# F1 score\n",
    "print(\"Precision CNN:\", round(metrics.precision_score(y_train, pred_val_Y, average='weighted'), 3))\n",
    "print(\"Recall CNN:\", round(metrics.recall_score(y_train, pred_val_Y, average='weighted'), 3))\n",
    "print(\"F1 score CNN:\", round(metrics.f1_score(y_train, pred_val_Y, average='weighted'), 3))"
   ]
  },
  {
   "cell_type": "code",
   "execution_count": null,
   "metadata": {
    "collapsed": true
   },
   "outputs": [],
   "source": []
  }
 ],
 "metadata": {
  "anaconda-cloud": {},
  "celltoolbar": "Raw Cell Format",
  "kernelspec": {
   "display_name": "Python [default]",
   "language": "python",
   "name": "python3"
  },
  "language_info": {
   "codemirror_mode": {
    "name": "ipython",
    "version": 3
   },
   "file_extension": ".py",
   "mimetype": "text/x-python",
   "name": "python",
   "nbconvert_exporter": "python",
   "pygments_lexer": "ipython3",
   "version": "3.5.2"
  }
 },
 "nbformat": 4,
 "nbformat_minor": 1
}
